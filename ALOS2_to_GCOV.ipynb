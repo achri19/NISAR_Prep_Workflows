{
 "cells": [
  {
   "cell_type": "markdown",
   "id": "3e7ba3b7-d7e0-4f8d-be90-f4fea8db69c0",
   "metadata": {},
   "source": [
    "### Convert ALOS2 Data to GCOV"
   ]
  },
  {
   "cell_type": "code",
   "execution_count": 96,
   "id": "b3a41cd0-91b7-4afe-88ad-dbce4b3e941a",
   "metadata": {
    "tags": []
   },
   "outputs": [],
   "source": [
    "import os\n",
    "import sys\n",
    "from pathlib import Path\n",
    "import subprocess\n",
    "import fnmatch\n",
    "import zipfile\n",
    "import h5py\n",
    "from string import Template\n"
   ]
  },
  {
   "cell_type": "markdown",
   "id": "15590b4e-2359-4f57-9953-6b2c7aef75b5",
   "metadata": {},
   "source": [
    "Choose your scratch folder"
   ]
  },
  {
   "cell_type": "code",
   "execution_count": 97,
   "id": "f2b3d3d1-4f46-403c-b680-628cfcb7c682",
   "metadata": {
    "tags": []
   },
   "outputs": [],
   "source": [
    "scratch_folder = Path('/scratch/alex_eco_test/') ##change to your folder\n"
   ]
  },
  {
   "cell_type": "code",
   "execution_count": 98,
   "id": "9b9d146c-94fc-4ebc-a75f-20555be259b7",
   "metadata": {
    "tags": []
   },
   "outputs": [],
   "source": [
    "aoi = 'BONA'\n",
    "list_of_ALOS_SLCs= ['https://cumulus.asf.alaska.edu/L1.1/A4/0000435734_001001_ALOS2386981300-210723.zip',\n",
    "                        'https://cumulus.asf.alaska.edu/L1.1/A4/0000435733_001001_ALOS2386981310-210723.zip',\n",
    "                        'https://cumulus.asf.alaska.edu/L1.1/A4/0000435729_001001_ALOS2389051300-210806.zip',\n",
    "                        'https://cumulus.asf.alaska.edu/L1.1/A4/0000435728_001001_ALOS2389051310-210806.zip',\n",
    "                        'https://cumulus.asf.alaska.edu/L1.1/A4/0000435833_001001_ALOS2391121300-210820.zip',\n",
    "                        'https://cumulus.asf.alaska.edu/L1.1/A4/0000435832_001001_ALOS2391121310-210820.zip',\n",
    "                        'https://cumulus.asf.alaska.edu/L1.1/A4/0000435906_001001_ALOS2393191300-210903.zip',\n",
    "                        'https://cumulus.asf.alaska.edu/L1.1/A4/0000435905_001001_ALOS2393191310-210903.zip',\n",
    "                        'https://cumulus.asf.alaska.edu/L1.1/A4/0000435895_001001_ALOS2395261300-210917.zip',\n",
    "                        'https://cumulus.asf.alaska.edu/L1.1/A4/0000435894_001001_ALOS2395261310-210917.zip',\n",
    "                        'https://cumulus.asf.alaska.edu/L1.1/A4/0000435935_001001_ALOS2399401300-211015.zip',\n",
    "                        'https://cumulus.asf.alaska.edu/L1.1/A4/0000435934_001001_ALOS2399401310-211015.zip',\n",
    "                        'https://cumulus.asf.alaska.edu/L1.1/A4/0000435929_001001_ALOS2401471300-211029.zip',\n",
    "                        'https://cumulus.asf.alaska.edu/L1.1/A4/0000435930_001001_ALOS2401471310-211029.zip',\n",
    "                        'https://cumulus.asf.alaska.edu/L1.1/A4/0000470234_001001_ALOS2428381300-220429.zip',\n",
    "                        'https://cumulus.asf.alaska.edu/L1.1/A4/0000470233_001001_ALOS2428381310-220429.zip',\n",
    "                        'https://cumulus.asf.alaska.edu/L1.1/A4/0000471014_001001_ALOS2430451300-220513.zip',\n",
    "                        'https://cumulus.asf.alaska.edu/L1.1/A4/0000471013_001001_ALOS2430451310-220513.zip',\n",
    "                        'https://cumulus.asf.alaska.edu/L1.1/A4/0000472164_001001_ALOS2432521300-220527.zip',\n",
    "                        'https://cumulus.asf.alaska.edu/L1.1/A4/0000472163_001001_ALOS2432521310-220527.zip',\n",
    "                        'https://cumulus.asf.alaska.edu/L1.1/A4/0000472561_001001_ALOS2434591300-220610.zip',\n",
    "                        'https://cumulus.asf.alaska.edu/L1.1/A4/0000472562_001001_ALOS2434591310-220610.zip',\n",
    "                        'https://cumulus.asf.alaska.edu/L1.1/A4/0000476066_001001_ALOS2442871300-220805.zip',\n",
    "                        'https://cumulus.asf.alaska.edu/L1.1/A4/0000476065_001001_ALOS2442871310-220805.zip',\n",
    "                        'https://cumulus.asf.alaska.edu/L1.1/A4/0000478639_001001_ALOS2444941300-220819.zip',\n",
    "                        'https://cumulus.asf.alaska.edu/L1.1/A4/0000478638_001001_ALOS2444941310-220819.zip',\n",
    "                        'https://cumulus.asf.alaska.edu/L1.1/A4/0000482394_001001_ALOS2449081300-220916.zip',\n",
    "                        'https://cumulus.asf.alaska.edu/L1.1/A4/0000482393_001001_ALOS2449081310-220916.zip',\n",
    "                        'https://cumulus.asf.alaska.edu/L1.1/A4/0000483903_001001_ALOS2451151300-220930.zip',\n",
    "                        'https://cumulus.asf.alaska.edu/L1.1/A4/0000483902_001001_ALOS2451151310-220930.zip',\n",
    "                        'https://cumulus.asf.alaska.edu/L1.1/A4/0000485297_001001_ALOS2453221300-221014.zip',\n",
    "                        'https://cumulus.asf.alaska.edu/L1.1/A4/0000485296_001001_ALOS2453221310-221014.zip',\n",
    "                        'https://cumulus.asf.alaska.edu/L1.1/A4/0000487230_001001_ALOS2455291300-221028.zip',\n",
    "                        'https://cumulus.asf.alaska.edu/L1.1/A4/0000487229_001001_ALOS2455291310-221028.zip',\n",
    "                        'https://cumulus.asf.alaska.edu/L1.1/A4/0000510978_001001_ALOS2482201300-230428.zip',\n",
    "                        'https://cumulus.asf.alaska.edu/L1.1/A4/0000510977_001001_ALOS2482201310-230428.zip',\n",
    "                        'https://cumulus.asf.alaska.edu/L1.1/A4/0000513438_001001_ALOS2484271300-230512.zip',\n",
    "                        'https://cumulus.asf.alaska.edu/L1.1/A4/0000513437_001001_ALOS2484271310-230512.zip',\n",
    "                        'https://cumulus.asf.alaska.edu/L1.1/A4/0000515565_001001_ALOS2486341300-230526.zip',\n",
    "                        'https://cumulus.asf.alaska.edu/L1.1/A4/0000515564_001001_ALOS2486341310-230526.zip',\n",
    "                        'https://cumulus.asf.alaska.edu/L1.1/A4/0000517114_001001_ALOS2488411300-230609.zip',\n",
    "                        'https://cumulus.asf.alaska.edu/L1.1/A4/0000517113_001001_ALOS2488411310-230609.zip',\n",
    "                        'https://cumulus.asf.alaska.edu/L1.1/A4/0000518797_001001_ALOS2490481300-230623.zip',\n",
    "                        'https://cumulus.asf.alaska.edu/L1.1/A4/0000518796_001001_ALOS2490481310-230623.zip',\n",
    "                        'https://cumulus.asf.alaska.edu/L1.1/A4/0000522910_001001_ALOS2494621300-230721.zip',\n",
    "                        'https://cumulus.asf.alaska.edu/L1.1/A4/0000522909_001001_ALOS2494621310-230721.zip',\n",
    "                        'https://cumulus.asf.alaska.edu/L1.1/A4/0000525212_001001_ALOS2496691300-230804.zip',\n",
    "                        'https://cumulus.asf.alaska.edu/L1.1/A4/0000525211_001001_ALOS2496691310-230804.zip',\n",
    "                        'https://cumulus.asf.alaska.edu/L1.1/A4/0000526913_001001_ALOS2498761300-230818.zip',\n",
    "                        'https://cumulus.asf.alaska.edu/L1.1/A4/0000526912_001001_ALOS2498761310-230818.zip',\n",
    "                        'https://cumulus.asf.alaska.edu/L1.1/A4/0000528610_001001_ALOS2500831300-230901.zip',\n",
    "                        'https://cumulus.asf.alaska.edu/L1.1/A4/0000528609_001001_ALOS2500831310-230901.zip',\n",
    "                        'https://cumulus.asf.alaska.edu/L1.1/A4/0000530147_001001_ALOS2502901300-230915.zip',\n",
    "                        'https://cumulus.asf.alaska.edu/L1.1/A4/0000530146_001001_ALOS2502901310-230915.zip',\n",
    "                        'https://cumulus.asf.alaska.edu/L1.1/A4/0000532063_001001_ALOS2504971300-230929.zip',\n",
    "                        'https://cumulus.asf.alaska.edu/L1.1/A4/0000532062_001001_ALOS2504971310-230929.zip',\n",
    "                        'https://cumulus.asf.alaska.edu/L1.1/A4/0000534578_001001_ALOS2507041300-231013.zip',\n",
    "                        'https://cumulus.asf.alaska.edu/L1.1/A4/0000534577_001001_ALOS2507041310-231013.zip']"
   ]
  },
  {
   "cell_type": "code",
   "execution_count": 99,
   "id": "299ae17b-2012-4b3f-bd75-0340dfe09105",
   "metadata": {},
   "outputs": [],
   "source": [
    "# aoi = 'ferndalesm3'\n",
    "\n",
    "# list_of_ALOS_SLCs = ['https://cumulus.asf.alaska.edu/L1.1/A4/0000493545_001001_ALOS2457650790-221113.zip',\n",
    "#                         'https://cumulus.asf.alaska.edu/L1.1/A4/0000502542_001001_ALOS2463860790-221225.zip',\n",
    "#                         'https://cumulus.asf.alaska.edu/L1.1/A4/0000493079_001001_ALOS2457650800-221113.zip',\n",
    "#                         'https://cumulus.asf.alaska.edu/L1.1/A4/0000502541_001001_ALOS2463860800-221225.zip',\n",
    "#                         'https://cumulus.asf.alaska.edu/L1.1/A4/0000493544_001001_ALOS2457650810-221113.zip',\n",
    "#                         'https://cumulus.asf.alaska.edu/L1.1/A4/0000502543_001001_ALOS2463860810-221225.zip']\n",
    "\n",
    "# # list_of_ALOS_SLCs = ['https://cumulus.asf.alaska.edu/L1.1/A4/ALOS2387492800-210726-WBSR1.1__D.zip',\n",
    "# #                         'https://cumulus.asf.alaska.edu/L1.1/A4/ALOS2391632800-210823-WBSR1.1__D.zip',\n",
    "# #                         'https://cumulus.asf.alaska.edu/L1.1/A4/ALOS2393702800-210906-WBSR1.1__D.zip',\n",
    "# #                         'https://cumulus.asf.alaska.edu/L1.1/A4/ALOS2395772800-210920-WBSR1.1__D.zip',\n",
    "# #                         'https://cumulus.asf.alaska.edu/L1.1/A4/ALOS2397842800-211004-WBSR1.1__D.zip',\n",
    "# #                         'https://cumulus.asf.alaska.edu/L1.1/A4/ALOS2399912800-211018-WBSR1.1__D.zip',\n",
    "# #                         'https://cumulus.asf.alaska.edu/L1.1/A4/ALOS2406122800-211129-WBSR1.1__D.zip',\n",
    "# #                         'https://cumulus.asf.alaska.edu/L1.1/A4/0000461009_001001_ALOS2410262800-211227.zip',\n",
    "# #                         'https://cumulus.asf.alaska.edu/L1.1/A4/0000462093_001001_ALOS2412332800-220110.zip',\n",
    "# #                         'https://cumulus.asf.alaska.edu/L1.1/A4/0000462181_001001_ALOS2414402800-220124.zip',\n",
    "# #                         'https://cumulus.asf.alaska.edu/L1.1/A4/0000463465_001001_ALOS2416472800-220207.zip',\n",
    "# #                         'https://cumulus.asf.alaska.edu/L1.1/A4/0000463513_001001_ALOS2418542800-220221.zip',\n",
    "# #                         'https://cumulus.asf.alaska.edu/L1.1/A4/0000463005_001001_ALOS2420612800-220307.zip',\n",
    "# #                         'https://cumulus.asf.alaska.edu/L1.1/A4/0000463035_001001_ALOS2422682800-220321.zip',\n",
    "# #                         'https://cumulus.asf.alaska.edu/L1.1/A4/0000469660_001001_ALOS2424752800-220404.zip',\n",
    "# #                         'https://cumulus.asf.alaska.edu/L1.1/A4/0000470068_001001_ALOS2426822800-220418.zip',\n",
    "# #                         'https://cumulus.asf.alaska.edu/L1.1/A4/0000471773_001001_ALOS2430962800-220516.zip',\n",
    "# #                         'https://cumulus.asf.alaska.edu/L1.1/A4/0000472019_001001_ALOS2433032800-220530.zip',\n",
    "# #                         'https://cumulus.asf.alaska.edu/L1.1/A4/0000473109_001001_ALOS2437172800-220627.zip',\n",
    "# #                         'https://cumulus.asf.alaska.edu/L1.1/A4/0000474766_001001_ALOS2439242800-220711.zip',\n",
    "# #                         'https://cumulus.asf.alaska.edu/L1.1/A4/0000475400_001001_ALOS2441312800-220725.zip',\n",
    "# #                         'https://cumulus.asf.alaska.edu/L1.1/A4/0000476729_001001_ALOS2443382800-220808.zip',\n",
    "# #                         'https://cumulus.asf.alaska.edu/L1.1/A4/0000478839_001001_ALOS2445452800-220822.zip',\n",
    "# #                         'https://cumulus.asf.alaska.edu/L1.1/A4/0000480992_001001_ALOS2447522800-220905.zip',\n",
    "# #                         'https://cumulus.asf.alaska.edu/L1.1/A4/0000483013_001001_ALOS2449592800-220919.zip',\n",
    "# #                         'https://cumulus.asf.alaska.edu/L1.1/A4/0000485985_001001_ALOS2453732800-221017.zip',\n",
    "# #                         'https://cumulus.asf.alaska.edu/L1.1/A4/0000487450_001001_ALOS2455802800-221031.zip',\n",
    "# #                         'https://cumulus.asf.alaska.edu/L1.1/A4/0000488936_001001_ALOS2457872800-221114.zip',\n",
    "# #                         'https://cumulus.asf.alaska.edu/L1.1/A4/0000493070_001001_ALOS2459942800-221128.zip',\n",
    "# #                         'https://cumulus.asf.alaska.edu/L1.1/A4/0000495192_001001_ALOS2462012800-221212.zip',\n",
    "# #                         'https://cumulus.asf.alaska.edu/L1.1/A4/0000496589_001001_ALOS2464082800-221226.zip',\n",
    "# #                         'https://cumulus.asf.alaska.edu/L1.1/A4/0000496588_001001_ALOS2464082850-221226.zip']"
   ]
  },
  {
   "cell_type": "code",
   "execution_count": 100,
   "id": "e71f5d21-1f94-4858-a3e2-7caa28c1de6d",
   "metadata": {
    "tags": []
   },
   "outputs": [],
   "source": [
    "# aoi = 'TALL'\n",
    "\n",
    "# list_of_ALOS_SLCs = ['https://cumulus.asf.alaska.edu/L1.1/A4/0000472166_001001_ALOS2432500640-220527.zip',\n",
    "#                         'https://cumulus.asf.alaska.edu/L1.1/A4/0000472165_001001_ALOS2432500650-220527.zip',\n",
    "#                         'https://cumulus.asf.alaska.edu/L1.1/A4/0000477988_001001_ALOS2444920640-220819.zip',\n",
    "#                         'https://cumulus.asf.alaska.edu/L1.1/A4/0000478637_001001_ALOS2444920650-220819.zip',\n",
    "#                         'https://cumulus.asf.alaska.edu/L1.1/A4/0000482389_001001_ALOS2449060640-220916.zip',\n",
    "#                         'https://cumulus.asf.alaska.edu/L1.1/A4/0000482390_001001_ALOS2449060650-220916.zip',\n",
    "#                         'https://cumulus.asf.alaska.edu/L1.1/A4/0000485295_001001_ALOS2453200640-221014.zip',\n",
    "#                         'https://cumulus.asf.alaska.edu/L1.1/A4/0000485294_001001_ALOS2453200650-221014.zip',\n",
    "#                         'https://cumulus.asf.alaska.edu/L1.1/A4/0000510871_001001_ALOS2482180640-230428.zip',\n",
    "#                         'https://cumulus.asf.alaska.edu/L1.1/A4/0000510979_001001_ALOS2482180650-230428.zip',\n",
    "#                         'https://cumulus.asf.alaska.edu/L1.1/A4/0000515563_001001_ALOS2486320640-230526.zip',\n",
    "#                         'https://cumulus.asf.alaska.edu/L1.1/A4/0000515562_001001_ALOS2486320650-230526.zip',\n",
    "#                         'https://cumulus.asf.alaska.edu/L1.1/A4/0000518792_001001_ALOS2490460640-230623.zip',\n",
    "#                         'https://cumulus.asf.alaska.edu/L1.1/A4/0000518791_001001_ALOS2490460650-230623.zip',\n",
    "#                         'https://cumulus.asf.alaska.edu/L1.1/A4/0000522912_001001_ALOS2494600640-230721.zip',\n",
    "#                         'https://cumulus.asf.alaska.edu/L1.1/A4/0000522911_001001_ALOS2494600650-230721.zip',\n",
    "#                         'https://cumulus.asf.alaska.edu/L1.1/A4/0000526915_001001_ALOS2498740640-230818.zip',\n",
    "#                         'https://cumulus.asf.alaska.edu/L1.1/A4/0000526914_001001_ALOS2498740650-230818.zip',\n",
    "#                         'https://cumulus.asf.alaska.edu/L1.1/A4/0000530145_001001_ALOS2502880640-230915.zip',\n",
    "#                         'https://cumulus.asf.alaska.edu/L1.1/A4/0000530144_001001_ALOS2502880650-230915.zip']"
   ]
  },
  {
   "cell_type": "code",
   "execution_count": 101,
   "id": "329db091-6b76-4807-8823-f4e4fc928920",
   "metadata": {
    "tags": []
   },
   "outputs": [],
   "source": [
    "# aoi = 'waxlakedelta'\n",
    "# list_of_ALOS_SLCs = ['https://cumulus.asf.alaska.edu/L1.1/A4/0000436588_001001_ALOS2390510580-210816.zip',\n",
    "#                         'https://cumulus.asf.alaska.edu/L1.1/A4/0000470239_001001_ALOS2427770580-220425.zip',\n",
    "#                         'https://cumulus.asf.alaska.edu/L1.1/A4/0000475404_001001_ALOS2442260580-220801.zip',\n",
    "#                         'https://cumulus.asf.alaska.edu/L1.1/A4/0000477810_001001_ALOS2444330580-220815.zip',\n",
    "#                         'https://cumulus.asf.alaska.edu/L1.1/A4/0000479846_001001_ALOS2446400580-220829.zip',\n",
    "#                         'https://cumulus.asf.alaska.edu/L1.1/A4/0000509061_001001_ALOS2479520580-230410.zip',\n",
    "#                         'https://cumulus.asf.alaska.edu/L1.1/A4/0000510737_001001_ALOS2481590580-230424.zip',\n",
    "#                         'https://cumulus.asf.alaska.edu/L1.1/A4/0000526924_001001_ALOS2498150580-230814.zip',\n",
    "#                         'https://cumulus.asf.alaska.edu/L1.1/A4/0000528515_001001_ALOS2500220580-230828.zip']"
   ]
  },
  {
   "cell_type": "code",
   "execution_count": 102,
   "id": "e7efaebd-6d55-4d18-9c2a-34938752e0d9",
   "metadata": {
    "tags": []
   },
   "outputs": [],
   "source": [
    "# aoi = 'panama'\n",
    "# list_of_ALOS_SLCs = ['https://cumulus.asf.alaska.edu/L1.1/A4/0000436363_001001_ALOS2387550160-210727.zip',\n",
    "#                     'https://cumulus.asf.alaska.edu/L1.1/A4/0000436670_001001_ALOS2399970160-211019.zip',\n",
    "#                     'https://cumulus.asf.alaska.edu/L1.1/A4/0000469343_001001_ALOS2424810160-220405.zip',\n",
    "#                     'https://cumulus.asf.alaska.edu/L1.1/A4/0000470076_001001_ALOS2426880160-220419.zip',\n",
    "#                     'https://cumulus.asf.alaska.edu/L1.1/A4/0000470473_001001_ALOS2428950160-220503.zip',\n",
    "#                     'https://cumulus.asf.alaska.edu/L1.1/A4/0000471232_001001_ALOS2431020160-220517.zip',\n",
    "#                     'https://cumulus.asf.alaska.edu/L1.1/A4/0000472200_001001_ALOS2433090160-220531.zip',\n",
    "#                     'https://cumulus.asf.alaska.edu/L1.1/A4/0000474589_001001_ALOS2439300160-220712.zip',\n",
    "#                     'https://cumulus.asf.alaska.edu/L1.1/A4/0000474968_001001_ALOS2441370160-220726.zip',\n",
    "#                     'https://cumulus.asf.alaska.edu/L1.1/A4/0000485980_001001_ALOS2453790160-221018.zip',\n",
    "#                     'https://cumulus.asf.alaska.edu/L1.1/A4/0000507910_001001_ALOS2478630160-230404.zip',\n",
    "#                     'https://cumulus.asf.alaska.edu/L1.1/A4/0000509959_001001_ALOS2480700160-230418.zip',\n",
    "#                     'https://cumulus.asf.alaska.edu/L1.1/A4/0000511437_001001_ALOS2482770160-230502.zip',\n",
    "#                     'https://cumulus.asf.alaska.edu/L1.1/A4/0000514248_001001_ALOS2484840160-230516.zip',\n",
    "#                     'https://cumulus.asf.alaska.edu/L1.1/A4/0000515882_001001_ALOS2486910160-230530.zip',\n",
    "#                     'https://cumulus.asf.alaska.edu/L1.1/A4/0000521176_001001_ALOS2493120160-230711.zip',\n",
    "#                     'https://cumulus.asf.alaska.edu/L1.1/A4/0000523790_001001_ALOS2495190160-230725.zip',\n",
    "#                     'https://cumulus.asf.alaska.edu/L1.1/A4/0000532670_001001_ALOS2505540160-231003.zip']"
   ]
  },
  {
   "cell_type": "code",
   "execution_count": 103,
   "id": "19d51a3d-e789-49fa-a617-762074b2c92e",
   "metadata": {
    "tags": []
   },
   "outputs": [],
   "source": [
    "# aoi = 'southfork'\n",
    "# list_of_ALOS_SLCs = ['https://cumulus.asf.alaska.edu/L1.1/A4/0000461060_001001_ALOS2406330840-211201.zip',\n",
    "#                         'https://cumulus.asf.alaska.edu/L1.1/A4/0000461057_001001_ALOS2410470840-211229.zip',\n",
    "#                         'https://cumulus.asf.alaska.edu/L1.1/A4/0000462196_001001_ALOS2412540840-220112.zip',\n",
    "#                         'https://cumulus.asf.alaska.edu/L1.1/A4/0000462195_001001_ALOS2414610840-220126.zip',\n",
    "#                         'https://cumulus.asf.alaska.edu/L1.1/A4/0000469570_001001_ALOS2424960840-220406.zip',\n",
    "#                         'https://cumulus.asf.alaska.edu/L1.1/A4/0000470073_001001_ALOS2427030840-220420.zip',\n",
    "#                         'https://cumulus.asf.alaska.edu/L1.1/A4/0000470939_001001_ALOS2429100840-220504.zip',\n",
    "#                         'https://cumulus.asf.alaska.edu/L1.1/A4/0000471229_001001_ALOS2431170840-220518.zip',\n",
    "#                         'https://cumulus.asf.alaska.edu/L1.1/A4/0000472194_001001_ALOS2433240840-220601.zip',\n",
    "#                         'https://cumulus.asf.alaska.edu/L1.1/A4/0000472776_001001_ALOS2435310840-220615.zip',\n",
    "#                         'https://cumulus.asf.alaska.edu/L1.1/A4/0000473049_001001_ALOS2437380840-220629.zip',\n",
    "#                         'https://cumulus.asf.alaska.edu/L1.1/A4/0000474580_001001_ALOS2439450840-220713.zip',\n",
    "#                         'https://cumulus.asf.alaska.edu/L1.1/A4/0000474962_001001_ALOS2441520840-220727.zip',\n",
    "#                         'https://cumulus.asf.alaska.edu/L1.1/A4/0000476734_001001_ALOS2443590840-220810.zip',\n",
    "#                         'https://cumulus.asf.alaska.edu/L1.1/A4/0000478941_001001_ALOS2445660840-220824.zip',\n",
    "#                         'https://cumulus.asf.alaska.edu/L1.1/A4/0000480752_001001_ALOS2447730840-220907.zip',\n",
    "#                         'https://cumulus.asf.alaska.edu/L1.1/A4/0000483019_001001_ALOS2449800840-220921.zip',\n",
    "#                         'https://cumulus.asf.alaska.edu/L1.1/A4/0000484607_001001_ALOS2451870840-221005.zip',\n",
    "#                         'https://cumulus.asf.alaska.edu/L1.1/A4/0000486388_001001_ALOS2453940840-221019.zip',\n",
    "#                         'https://cumulus.asf.alaska.edu/L1.1/A4/0000487638_001001_ALOS2456010840-221102.zip',\n",
    "#                         'https://cumulus.asf.alaska.edu/L1.1/A4/0000493581_001001_ALOS2460150840-221130.zip',\n",
    "#                         'https://cumulus.asf.alaska.edu/L1.1/A4/0000495714_001001_ALOS2462220840-221214.zip',\n",
    "#                         'https://cumulus.asf.alaska.edu/L1.1/A4/0000497486_001001_ALOS2464290840-221228.zip',\n",
    "#                         'https://cumulus.asf.alaska.edu/L1.1/A4/0000499756_001001_ALOS2466360840-230111.zip',\n",
    "#                         'https://cumulus.asf.alaska.edu/L1.1/A4/0000501936_001001_ALOS2468430840-230125.zip',\n",
    "#                         'https://cumulus.asf.alaska.edu/L1.1/A4/0000503165_001001_ALOS2470500840-230208.zip',\n",
    "#                         'https://cumulus.asf.alaska.edu/L1.1/A4/0000504382_001001_ALOS2472570840-230222.zip',\n",
    "#                         'https://cumulus.asf.alaska.edu/L1.1/A4/0000505514_001001_ALOS2474640840-230308.zip',\n",
    "#                         'https://cumulus.asf.alaska.edu/L1.1/A4/0000506843_001001_ALOS2476710840-230322.zip',\n",
    "#                         'https://cumulus.asf.alaska.edu/L1.1/A4/0000507907_001001_ALOS2478780840-230405.zip',\n",
    "#                         'https://cumulus.asf.alaska.edu/L1.1/A4/0000510241_001001_ALOS2480850840-230419.zip',\n",
    "#                         'https://cumulus.asf.alaska.edu/L1.1/A4/0000511819_001001_ALOS2482920840-230503.zip',\n",
    "#                         'https://cumulus.asf.alaska.edu/L1.1/A4/0000514846_001001_ALOS2484990840-230517.zip',\n",
    "#                         'https://cumulus.asf.alaska.edu/L1.1/A4/0000516588_001001_ALOS2487060840-230531.zip',\n",
    "#                         'https://cumulus.asf.alaska.edu/L1.1/A4/0000517838_001001_ALOS2489130840-230614.zip',\n",
    "#                         'https://cumulus.asf.alaska.edu/L1.1/A4/0000519712_001001_ALOS2491200840-230628.zip',\n",
    "#                         'https://cumulus.asf.alaska.edu/L1.1/A4/0000521694_001001_ALOS2493270840-230712.zip',\n",
    "#                         'https://cumulus.asf.alaska.edu/L1.1/A4/0000524097_001001_ALOS2495340840-230726.zip',\n",
    "#                         'https://cumulus.asf.alaska.edu/L1.1/A4/0000526555_001001_ALOS2497410840-230809.zip',\n",
    "#                         'https://cumulus.asf.alaska.edu/L1.1/A4/0000527820_001001_ALOS2499480840-230823.zip',\n",
    "#                         'https://cumulus.asf.alaska.edu/L1.1/A4/0000529197_001001_ALOS2501550840-230906.zip',\n",
    "#                         'https://cumulus.asf.alaska.edu/L1.1/A4/0000531054_001001_ALOS2503620840-230920.zip',\n",
    "#                         'https://cumulus.asf.alaska.edu/L1.1/A4/0000532666_001001_ALOS2505690840-231004.zip']"
   ]
  },
  {
   "cell_type": "code",
   "execution_count": 104,
   "id": "602162d6-d82a-4ff8-a14b-923cfa434733",
   "metadata": {
    "tags": []
   },
   "outputs": [
    {
     "name": "stdout",
     "output_type": "stream",
     "text": [
      "/scratch/alex_eco_test/BONA/GCOV\n"
     ]
    }
   ],
   "source": [
    "\n",
    "aoi_dir = scratch_folder/aoi\n",
    "ALOS2_dir = aoi_dir / 'ALOS2'\n",
    "DEM_dir = aoi_dir / 'DEM'\n",
    "GCOV_dir = aoi_dir / 'GCOV'\n",
    "TMP_dir = aoi_dir / 'TMP'\n",
    "\n",
    "Path(aoi_dir).mkdir(parents=True, exist_ok=True)\n",
    "Path(ALOS2_dir).mkdir(parents=True, exist_ok=True)\n",
    "Path(DEM_dir).mkdir(parents=True, exist_ok=True)\n",
    "Path(GCOV_dir).mkdir(parents=True, exist_ok=True)\n",
    "Path(TMP_dir).mkdir(parents=True, exist_ok=True)\n",
    "\n",
    "print(GCOV_dir)"
   ]
  },
  {
   "cell_type": "code",
   "execution_count": null,
   "id": "3c8af914-2a30-4b67-902d-cca76564430a",
   "metadata": {
    "tags": []
   },
   "outputs": [],
   "source": [
    "%%time\n",
    "for file in list_of_ALOS_SLCs[:]:\n",
    "    print(file)\n",
    "    filename = ALOS2_dir / file.split('/')[-1]\n",
    "    # urllib.request.urlretrieve(SLC, filename)\n",
    "    if os.path.isfile(filename)==False:\n",
    "        command = f\"wget -P {ALOS2_dir} -q {file}\"\n",
    "        output = subprocess.check_output(command, shell=True)\n",
    "## 18 files = 1hr 11 min"
   ]
  },
  {
   "cell_type": "code",
   "execution_count": null,
   "id": "3b226d30-14f3-4372-b229-061546c0044d",
   "metadata": {
    "tags": []
   },
   "outputs": [],
   "source": []
  },
  {
   "cell_type": "code",
   "execution_count": 114,
   "id": "ad9dccfd-de79-49f6-943d-abe21fbf3b2d",
   "metadata": {
    "tags": []
   },
   "outputs": [
    {
     "name": "stdout",
     "output_type": "stream",
     "text": [
      "/scratch/alex_eco_test/BONA/ALOS2/0000485296_001001_ALOS2453221310-221014.zip\n",
      "/scratch/alex_eco_test/BONA/ALOS2/0000472561_001001_ALOS2434591300-220610.zip\n",
      "/scratch/alex_eco_test/BONA/ALOS2/0000485297_001001_ALOS2453221300-221014.zip\n",
      "/scratch/alex_eco_test/BONA/ALOS2/0000510977_001001_ALOS2482201310-230428.zip\n",
      "/scratch/alex_eco_test/BONA/ALOS2/0000510978_001001_ALOS2482201300-230428.zip\n",
      "/scratch/alex_eco_test/BONA/ALOS2/0000487229_001001_ALOS2455291310-221028.zip\n",
      "/scratch/alex_eco_test/BONA/ALOS2/0000435894_001001_ALOS2395261310-210917.zip\n",
      "/scratch/alex_eco_test/BONA/ALOS2/0000435895_001001_ALOS2395261300-210917.zip\n",
      "/scratch/alex_eco_test/BONA/ALOS2/0000472562_001001_ALOS2434591310-220610.zip\n",
      "/scratch/alex_eco_test/BONA/ALOS2/0000435929_001001_ALOS2401471300-211029.zip\n",
      "/scratch/alex_eco_test/BONA/ALOS2/0000435833_001001_ALOS2391121300-210820.zip\n",
      "/scratch/alex_eco_test/BONA/ALOS2/0000476065_001001_ALOS2442871310-220805.zip\n",
      "/scratch/alex_eco_test/BONA/ALOS2/0000476066_001001_ALOS2442871300-220805.zip\n",
      "/scratch/alex_eco_test/BONA/ALOS2/0000435832_001001_ALOS2391121310-210820.zip\n",
      "/scratch/alex_eco_test/BONA/ALOS2/0000435906_001001_ALOS2393191300-210903.zip\n",
      "/scratch/alex_eco_test/BONA/ALOS2/0000435905_001001_ALOS2393191310-210903.zip\n",
      "/scratch/alex_eco_test/BONA/ALOS2/0000482394_001001_ALOS2449081300-220916.zip\n",
      "/scratch/alex_eco_test/BONA/ALOS2/0000483902_001001_ALOS2451151310-220930.zip\n",
      "/scratch/alex_eco_test/BONA/ALOS2/0000435734_001001_ALOS2386981300-210723.zip\n",
      "/scratch/alex_eco_test/BONA/ALOS2/0000483903_001001_ALOS2451151300-220930.zip\n",
      "/scratch/alex_eco_test/BONA/ALOS2/0000522910_001001_ALOS2494621300-230721.zip\n",
      "/scratch/alex_eco_test/BONA/ALOS2/0000435733_001001_ALOS2386981310-210723.zip\n",
      "/scratch/alex_eco_test/BONA/ALOS2/0000482393_001001_ALOS2449081310-220916.zip\n",
      "/scratch/alex_eco_test/BONA/ALOS2/0000471013_001001_ALOS2430451310-220513.zip\n",
      "/scratch/alex_eco_test/BONA/ALOS2/0000513438_001001_ALOS2484271300-230512.zip\n",
      "/scratch/alex_eco_test/BONA/ALOS2/0000518796_001001_ALOS2490481310-230623.zip\n",
      "/scratch/alex_eco_test/BONA/ALOS2/0000471014_001001_ALOS2430451300-220513.zip\n",
      "/scratch/alex_eco_test/BONA/ALOS2/0000513437_001001_ALOS2484271310-230512.zip\n",
      "/scratch/alex_eco_test/BONA/ALOS2/0000518797_001001_ALOS2490481300-230623.zip\n",
      "/scratch/alex_eco_test/BONA/ALOS2/0000515565_001001_ALOS2486341300-230526.zip\n",
      "/scratch/alex_eco_test/BONA/ALOS2/0000515564_001001_ALOS2486341310-230526.zip\n",
      "/scratch/alex_eco_test/BONA/ALOS2/0000526913_001001_ALOS2498761300-230818.zip\n",
      "/scratch/alex_eco_test/BONA/ALOS2/0000472164_001001_ALOS2432521300-220527.zip\n",
      "/scratch/alex_eco_test/BONA/ALOS2/0000472163_001001_ALOS2432521310-220527.zip\n",
      "/scratch/alex_eco_test/BONA/ALOS2/0000487230_001001_ALOS2455291300-221028.zip\n",
      "/scratch/alex_eco_test/BONA/ALOS2/0000517114_001001_ALOS2488411300-230609.zip\n",
      "/scratch/alex_eco_test/BONA/ALOS2/0000470234_001001_ALOS2428381300-220429.zip\n",
      "/scratch/alex_eco_test/BONA/ALOS2/0000435935_001001_ALOS2399401300-211015.zip\n",
      "/scratch/alex_eco_test/BONA/ALOS2/0000435934_001001_ALOS2399401310-211015.zip\n",
      "/scratch/alex_eco_test/BONA/ALOS2/0000470233_001001_ALOS2428381310-220429.zip\n",
      "/scratch/alex_eco_test/BONA/ALOS2/0000517113_001001_ALOS2488411310-230609.zip\n",
      "/scratch/alex_eco_test/BONA/ALOS2/0000435728_001001_ALOS2389051310-210806.zip\n",
      "/scratch/alex_eco_test/BONA/ALOS2/0000435729_001001_ALOS2389051300-210806.zip\n",
      "/scratch/alex_eco_test/BONA/ALOS2/0000435930_001001_ALOS2401471310-211029.zip\n",
      "/scratch/alex_eco_test/BONA/ALOS2/0000525212_001001_ALOS2496691300-230804.zip\n",
      "/scratch/alex_eco_test/BONA/ALOS2/0000478638_001001_ALOS2444941310-220819.zip\n",
      "/scratch/alex_eco_test/BONA/ALOS2/0000522909_001001_ALOS2494621310-230721.zip\n",
      "/scratch/alex_eco_test/BONA/ALOS2/0000525211_001001_ALOS2496691310-230804.zip\n",
      "/scratch/alex_eco_test/BONA/ALOS2/0000478639_001001_ALOS2444941300-220819.zip\n",
      "CPU times: user 1min 54s, sys: 3min 37s, total: 5min 32s\n",
      "Wall time: 18min 36s\n"
     ]
    }
   ],
   "source": [
    "%%time\n",
    "zipfiles = [os.path.join(dirpath,f)\n",
    "                for dirpath,dirnames, files in os.walk(ALOS2_dir)\n",
    "                for f in fnmatch.filter(files,'*.zip')]\n",
    "for file in zipfiles:\n",
    "    print(file)\n",
    "    if os.path.isdir(ALOS2_dir / file.split('/')[-1][:-4]):\n",
    "        ##check full unzipping\n",
    "        if sum(os.path.getsize(ALOS2_dir / file[:-4] / f) for f in os.listdir(ALOS2_dir / file[:-4]) if os.path.isfile(ALOS2_dir / file[:-4] /f)) < 6509714637:\n",
    "            with zipfile.ZipFile(file, 'r') as zip_ref:\n",
    "                zip_ref.extractall(ALOS2_dir/file.split('/')[-1][:-4])\n",
    "            # os.remove(file)\n",
    "    else:\n",
    "        with zipfile.ZipFile(file, 'r') as zip_ref:\n",
    "            zip_ref.extractall(ALOS2_dir/file.split('/')[-1][:-4])\n"
   ]
  },
  {
   "cell_type": "code",
   "execution_count": 115,
   "id": "23858301-de8e-430d-9ea1-e035e702f86d",
   "metadata": {
    "tags": []
   },
   "outputs": [],
   "source": [
    "ALOS2folders = [os.path.join(dirpath,f)\n",
    "                for dirpath,dirnames, files in os.walk(ALOS2_dir)\n",
    "                for f in fnmatch.filter(dirnames,'*')]\n"
   ]
  },
  {
   "cell_type": "code",
   "execution_count": 116,
   "id": "a36633a6-9dcf-456e-9571-ef3b7ead1a0b",
   "metadata": {
    "tags": []
   },
   "outputs": [
    {
     "data": {
      "text/plain": [
       "['/scratch/alex_eco_test/BONA/ALOS2/0000518797_001001_ALOS2490481300-230623',\n",
       " '/scratch/alex_eco_test/BONA/ALOS2/0000471014_001001_ALOS2430451300-220513',\n",
       " '/scratch/alex_eco_test/BONA/ALOS2/0000513437_001001_ALOS2484271310-230512',\n",
       " '/scratch/alex_eco_test/BONA/ALOS2/0000471013_001001_ALOS2430451310-220513',\n",
       " '/scratch/alex_eco_test/BONA/ALOS2/0000513438_001001_ALOS2484271300-230512',\n",
       " '/scratch/alex_eco_test/BONA/ALOS2/0000518796_001001_ALOS2490481310-230623',\n",
       " '/scratch/alex_eco_test/BONA/ALOS2/0000515564_001001_ALOS2486341310-230526',\n",
       " '/scratch/alex_eco_test/BONA/ALOS2/0000515565_001001_ALOS2486341300-230526',\n",
       " '/scratch/alex_eco_test/BONA/ALOS2/0000526913_001001_ALOS2498761300-230818',\n",
       " '/scratch/alex_eco_test/BONA/ALOS2/0000472163_001001_ALOS2432521310-220527',\n",
       " '/scratch/alex_eco_test/BONA/ALOS2/0000472164_001001_ALOS2432521300-220527',\n",
       " '/scratch/alex_eco_test/BONA/ALOS2/0000517113_001001_ALOS2488411310-230609',\n",
       " '/scratch/alex_eco_test/BONA/ALOS2/0000435934_001001_ALOS2399401310-211015',\n",
       " '/scratch/alex_eco_test/BONA/ALOS2/0000470233_001001_ALOS2428381310-220429',\n",
       " '/scratch/alex_eco_test/BONA/ALOS2/0000517114_001001_ALOS2488411300-230609',\n",
       " '/scratch/alex_eco_test/BONA/ALOS2/0000487230_001001_ALOS2455291300-221028',\n",
       " '/scratch/alex_eco_test/BONA/ALOS2/0000470234_001001_ALOS2428381300-220429',\n",
       " '/scratch/alex_eco_test/BONA/ALOS2/0000435935_001001_ALOS2399401300-211015',\n",
       " '/scratch/alex_eco_test/BONA/ALOS2/0000435729_001001_ALOS2389051300-210806',\n",
       " '/scratch/alex_eco_test/BONA/ALOS2/0000435930_001001_ALOS2401471310-211029',\n",
       " '/scratch/alex_eco_test/BONA/ALOS2/0000435728_001001_ALOS2389051310-210806',\n",
       " '/scratch/alex_eco_test/BONA/ALOS2/0000478639_001001_ALOS2444941300-220819',\n",
       " '/scratch/alex_eco_test/BONA/ALOS2/0000522909_001001_ALOS2494621310-230721',\n",
       " '/scratch/alex_eco_test/BONA/ALOS2/0000525211_001001_ALOS2496691310-230804',\n",
       " '/scratch/alex_eco_test/BONA/ALOS2/0000525212_001001_ALOS2496691300-230804',\n",
       " '/scratch/alex_eco_test/BONA/ALOS2/0000478638_001001_ALOS2444941310-220819',\n",
       " '/scratch/alex_eco_test/BONA/ALOS2/0000472562_001001_ALOS2434591310-220610',\n",
       " '/scratch/alex_eco_test/BONA/ALOS2/0000435929_001001_ALOS2401471300-211029',\n",
       " '/scratch/alex_eco_test/BONA/ALOS2/0000435895_001001_ALOS2395261300-210917',\n",
       " '/scratch/alex_eco_test/BONA/ALOS2/0000435894_001001_ALOS2395261310-210917',\n",
       " '/scratch/alex_eco_test/BONA/ALOS2/0000435832_001001_ALOS2391121310-210820',\n",
       " '/scratch/alex_eco_test/BONA/ALOS2/0000476066_001001_ALOS2442871300-220805',\n",
       " '/scratch/alex_eco_test/BONA/ALOS2/0000476065_001001_ALOS2442871310-220805',\n",
       " '/scratch/alex_eco_test/BONA/ALOS2/0000435833_001001_ALOS2391121300-210820',\n",
       " '/scratch/alex_eco_test/BONA/ALOS2/0000435905_001001_ALOS2393191310-210903',\n",
       " '/scratch/alex_eco_test/BONA/ALOS2/0000435906_001001_ALOS2393191300-210903',\n",
       " '/scratch/alex_eco_test/BONA/ALOS2/0000482393_001001_ALOS2449081310-220916',\n",
       " '/scratch/alex_eco_test/BONA/ALOS2/0000522910_001001_ALOS2494621300-230721',\n",
       " '/scratch/alex_eco_test/BONA/ALOS2/0000435733_001001_ALOS2386981310-210723',\n",
       " '/scratch/alex_eco_test/BONA/ALOS2/0000483903_001001_ALOS2451151300-220930',\n",
       " '/scratch/alex_eco_test/BONA/ALOS2/0000483902_001001_ALOS2451151310-220930',\n",
       " '/scratch/alex_eco_test/BONA/ALOS2/0000482394_001001_ALOS2449081300-220916',\n",
       " '/scratch/alex_eco_test/BONA/ALOS2/0000435734_001001_ALOS2386981300-210723',\n",
       " '/scratch/alex_eco_test/BONA/ALOS2/0000510978_001001_ALOS2482201300-230428',\n",
       " '/scratch/alex_eco_test/BONA/ALOS2/0000510977_001001_ALOS2482201310-230428',\n",
       " '/scratch/alex_eco_test/BONA/ALOS2/0000487229_001001_ALOS2455291310-221028',\n",
       " '/scratch/alex_eco_test/BONA/ALOS2/0000472561_001001_ALOS2434591300-220610',\n",
       " '/scratch/alex_eco_test/BONA/ALOS2/0000485296_001001_ALOS2453221310-221014',\n",
       " '/scratch/alex_eco_test/BONA/ALOS2/0000485297_001001_ALOS2453221300-221014']"
      ]
     },
     "execution_count": 116,
     "metadata": {},
     "output_type": "execute_result"
    }
   ],
   "source": [
    "ALOS2folders"
   ]
  },
  {
   "cell_type": "code",
   "execution_count": null,
   "id": "17981e8e-acce-4827-8362-e7df9ebd49f3",
   "metadata": {
    "tags": []
   },
   "outputs": [
    {
     "name": "stdout",
     "output_type": "stream",
     "text": [
      "\n",
      "0000518797_001001_ALOS2490481300-230623\n",
      "\n",
      "conda run -n isce3_src /home/jovyan/isce3/share/nisar/examples/alos2_to_nisar_l1.py -i /scratch/alex_eco_test/BONA/ALOS2/0000518797_001001_ALOS2490481300-230623 -o /scratch/alex_eco_test/BONA/ALOS2/0000518797_001001_ALOS2490481300-230623.h5\n"
     ]
    },
    {
     "name": "stderr",
     "output_type": "stream",
     "text": [
      "WARNING: overwriting environment variables set in the machine\n",
      "overwriting variable {'LD_LIBRARY_PATH'}\n",
      "\n"
     ]
    },
    {
     "name": "stdout",
     "output_type": "stream",
     "text": [
      "\n",
      "conda run -n isce3_src /home/jovyan/isce3/python/packages/nisar/workflows/stage_dem.py -p /scratch/alex_eco_test/BONA/ALOS2/0000518797_001001_ALOS2490481300-230623.h5 -o /scratch/alex_eco_test/BONA/DEM/0000518797_001001_ALOS2490481300-230623.vrt\n"
     ]
    },
    {
     "name": "stderr",
     "output_type": "stream",
     "text": [
      "WARNING: overwriting environment variables set in the machine\n",
      "overwriting variable {'LD_LIBRARY_PATH'}\n",
      "\n"
     ]
    },
    {
     "name": "stdout",
     "output_type": "stream",
     "text": [
      "\n",
      "conda run -n isce3_src /home/jovyan/isce3/python/packages/nisar/workflows/gcov.py /scratch/alex_eco_test/BONA/GCOV/0000518797_001001_ALOS2490481300-230623.yaml\n"
     ]
    },
    {
     "name": "stderr",
     "output_type": "stream",
     "text": [
      "WARNING: overwriting environment variables set in the machine\n",
      "overwriting variable {'LD_LIBRARY_PATH'}\n",
      "/home/jovyan/isce3/build/packages/nisar/workflows/h5_prep.py:207: UserWarning: swmr=True only affects read ('r') mode. For swmr write mode, set f.swmr_mode = True after opening the file.\n",
      "  h5py.File(output_hdf5, 'w', libver='latest', swmr=True) as dst_h5:\n",
      "/home/jovyan/isce3/build/packages/nisar/workflows/h5_prep.py:489: UserWarning: swmr=True only affects read ('r') mode. For swmr write mode, set f.swmr_mode = True after opening the file.\n",
      "  with h5py.File(output_hdf5, 'a', libver='latest', swmr=True) as dst_h5:\n",
      "/home/jovyan/isce3/python/packages/nisar/workflows/gcov.py:765: DeprecationWarning: `product` is deprecated as of NumPy 1.25.0, and will be removed in NumPy 2.0. Please use `prod` instead.\n",
      "  dset.attrs.create('_FillValue', data=np.nan)\n",
      "/home/jovyan/isce3/python/packages/nisar/workflows/gcov.py:769: DeprecationWarning: `product` is deprecated as of NumPy 1.25.0, and will be removed in NumPy 2.0. Please use `prod` instead.\n",
      "  dset.attrs.create('min_value', data=stats_obj.min)\n",
      "/home/jovyan/isce3/python/packages/nisar/workflows/gcov.py:770: DeprecationWarning: `product` is deprecated as of NumPy 1.25.0, and will be removed in NumPy 2.0. Please use `prod` instead.\n",
      "  dset.attrs.create('mean_value', data=stats_obj.mean)\n",
      "/home/jovyan/isce3/python/packages/nisar/workflows/gcov.py:771: DeprecationWarning: `product` is deprecated as of NumPy 1.25.0, and will be removed in NumPy 2.0. Please use `prod` instead.\n",
      "  dset.attrs.create('max_value', data=stats_obj.max)\n",
      "/home/jovyan/isce3/python/packages/nisar/workflows/gcov.py:772: DeprecationWarning: `product` is deprecated as of NumPy 1.25.0, and will be removed in NumPy 2.0. Please use `prod` instead.\n",
      "  dset.attrs.create('sample_standard_deviation', data=stats_obj.sample_stddev)\n",
      "/home/jovyan/isce3/python/packages/nisar/workflows/gcov.py:790: DeprecationWarning: `product` is deprecated as of NumPy 1.25.0, and will be removed in NumPy 2.0. Please use `prod` instead.\n",
      "  dset.attrs.create('valid_min', data=valid_min)\n",
      "/home/jovyan/isce3/python/packages/nisar/workflows/gcov.py:793: DeprecationWarning: `product` is deprecated as of NumPy 1.25.0, and will be removed in NumPy 2.0. Please use `prod` instead.\n",
      "  dset.attrs.create('valid_max', data=valid_max)\n",
      "\n"
     ]
    },
    {
     "name": "stdout",
     "output_type": "stream",
     "text": [
      "\n",
      "0000471014_001001_ALOS2430451300-220513\n",
      "\n",
      "conda run -n isce3_src /home/jovyan/isce3/share/nisar/examples/alos2_to_nisar_l1.py -i /scratch/alex_eco_test/BONA/ALOS2/0000471014_001001_ALOS2430451300-220513 -o /scratch/alex_eco_test/BONA/ALOS2/0000471014_001001_ALOS2430451300-220513.h5\n"
     ]
    },
    {
     "name": "stderr",
     "output_type": "stream",
     "text": [
      "WARNING: overwriting environment variables set in the machine\n",
      "overwriting variable {'LD_LIBRARY_PATH'}\n",
      "\n"
     ]
    },
    {
     "name": "stdout",
     "output_type": "stream",
     "text": [
      "\n",
      "conda run -n isce3_src /home/jovyan/isce3/python/packages/nisar/workflows/stage_dem.py -p /scratch/alex_eco_test/BONA/ALOS2/0000471014_001001_ALOS2430451300-220513.h5 -o /scratch/alex_eco_test/BONA/DEM/0000471014_001001_ALOS2430451300-220513.vrt\n"
     ]
    },
    {
     "name": "stderr",
     "output_type": "stream",
     "text": [
      "WARNING: overwriting environment variables set in the machine\n",
      "overwriting variable {'LD_LIBRARY_PATH'}\n",
      "\n"
     ]
    },
    {
     "name": "stdout",
     "output_type": "stream",
     "text": [
      "\n",
      "conda run -n isce3_src /home/jovyan/isce3/python/packages/nisar/workflows/gcov.py /scratch/alex_eco_test/BONA/GCOV/0000471014_001001_ALOS2430451300-220513.yaml\n"
     ]
    },
    {
     "name": "stderr",
     "output_type": "stream",
     "text": [
      "WARNING: overwriting environment variables set in the machine\n",
      "overwriting variable {'LD_LIBRARY_PATH'}\n",
      "/home/jovyan/isce3/build/packages/nisar/workflows/h5_prep.py:207: UserWarning: swmr=True only affects read ('r') mode. For swmr write mode, set f.swmr_mode = True after opening the file.\n",
      "  h5py.File(output_hdf5, 'w', libver='latest', swmr=True) as dst_h5:\n",
      "/home/jovyan/isce3/build/packages/nisar/workflows/h5_prep.py:489: UserWarning: swmr=True only affects read ('r') mode. For swmr write mode, set f.swmr_mode = True after opening the file.\n",
      "  with h5py.File(output_hdf5, 'a', libver='latest', swmr=True) as dst_h5:\n",
      "/home/jovyan/isce3/python/packages/nisar/workflows/gcov.py:765: DeprecationWarning: `product` is deprecated as of NumPy 1.25.0, and will be removed in NumPy 2.0. Please use `prod` instead.\n",
      "  dset.attrs.create('_FillValue', data=np.nan)\n",
      "/home/jovyan/isce3/python/packages/nisar/workflows/gcov.py:769: DeprecationWarning: `product` is deprecated as of NumPy 1.25.0, and will be removed in NumPy 2.0. Please use `prod` instead.\n",
      "  dset.attrs.create('min_value', data=stats_obj.min)\n",
      "/home/jovyan/isce3/python/packages/nisar/workflows/gcov.py:770: DeprecationWarning: `product` is deprecated as of NumPy 1.25.0, and will be removed in NumPy 2.0. Please use `prod` instead.\n",
      "  dset.attrs.create('mean_value', data=stats_obj.mean)\n",
      "/home/jovyan/isce3/python/packages/nisar/workflows/gcov.py:771: DeprecationWarning: `product` is deprecated as of NumPy 1.25.0, and will be removed in NumPy 2.0. Please use `prod` instead.\n",
      "  dset.attrs.create('max_value', data=stats_obj.max)\n",
      "/home/jovyan/isce3/python/packages/nisar/workflows/gcov.py:772: DeprecationWarning: `product` is deprecated as of NumPy 1.25.0, and will be removed in NumPy 2.0. Please use `prod` instead.\n",
      "  dset.attrs.create('sample_standard_deviation', data=stats_obj.sample_stddev)\n",
      "/home/jovyan/isce3/python/packages/nisar/workflows/gcov.py:790: DeprecationWarning: `product` is deprecated as of NumPy 1.25.0, and will be removed in NumPy 2.0. Please use `prod` instead.\n",
      "  dset.attrs.create('valid_min', data=valid_min)\n",
      "/home/jovyan/isce3/python/packages/nisar/workflows/gcov.py:793: DeprecationWarning: `product` is deprecated as of NumPy 1.25.0, and will be removed in NumPy 2.0. Please use `prod` instead.\n",
      "  dset.attrs.create('valid_max', data=valid_max)\n",
      "\n"
     ]
    },
    {
     "name": "stdout",
     "output_type": "stream",
     "text": [
      "\n",
      "0000513437_001001_ALOS2484271310-230512\n",
      "\n",
      "conda run -n isce3_src /home/jovyan/isce3/share/nisar/examples/alos2_to_nisar_l1.py -i /scratch/alex_eco_test/BONA/ALOS2/0000513437_001001_ALOS2484271310-230512 -o /scratch/alex_eco_test/BONA/ALOS2/0000513437_001001_ALOS2484271310-230512.h5\n"
     ]
    },
    {
     "name": "stderr",
     "output_type": "stream",
     "text": [
      "WARNING: overwriting environment variables set in the machine\n",
      "overwriting variable {'LD_LIBRARY_PATH'}\n",
      "\n"
     ]
    },
    {
     "name": "stdout",
     "output_type": "stream",
     "text": [
      "\n",
      "conda run -n isce3_src /home/jovyan/isce3/python/packages/nisar/workflows/stage_dem.py -p /scratch/alex_eco_test/BONA/ALOS2/0000513437_001001_ALOS2484271310-230512.h5 -o /scratch/alex_eco_test/BONA/DEM/0000513437_001001_ALOS2484271310-230512.vrt\n"
     ]
    },
    {
     "name": "stderr",
     "output_type": "stream",
     "text": [
      "WARNING: overwriting environment variables set in the machine\n",
      "overwriting variable {'LD_LIBRARY_PATH'}\n",
      "\n"
     ]
    },
    {
     "name": "stdout",
     "output_type": "stream",
     "text": [
      "\n",
      "conda run -n isce3_src /home/jovyan/isce3/python/packages/nisar/workflows/gcov.py /scratch/alex_eco_test/BONA/GCOV/0000513437_001001_ALOS2484271310-230512.yaml\n"
     ]
    },
    {
     "name": "stderr",
     "output_type": "stream",
     "text": [
      "WARNING: overwriting environment variables set in the machine\n",
      "overwriting variable {'LD_LIBRARY_PATH'}\n",
      "/home/jovyan/isce3/build/packages/nisar/workflows/h5_prep.py:207: UserWarning: swmr=True only affects read ('r') mode. For swmr write mode, set f.swmr_mode = True after opening the file.\n",
      "  h5py.File(output_hdf5, 'w', libver='latest', swmr=True) as dst_h5:\n",
      "/home/jovyan/isce3/build/packages/nisar/workflows/h5_prep.py:489: UserWarning: swmr=True only affects read ('r') mode. For swmr write mode, set f.swmr_mode = True after opening the file.\n",
      "  with h5py.File(output_hdf5, 'a', libver='latest', swmr=True) as dst_h5:\n",
      "/home/jovyan/isce3/python/packages/nisar/workflows/gcov.py:765: DeprecationWarning: `product` is deprecated as of NumPy 1.25.0, and will be removed in NumPy 2.0. Please use `prod` instead.\n",
      "  dset.attrs.create('_FillValue', data=np.nan)\n",
      "/home/jovyan/isce3/python/packages/nisar/workflows/gcov.py:769: DeprecationWarning: `product` is deprecated as of NumPy 1.25.0, and will be removed in NumPy 2.0. Please use `prod` instead.\n",
      "  dset.attrs.create('min_value', data=stats_obj.min)\n",
      "/home/jovyan/isce3/python/packages/nisar/workflows/gcov.py:770: DeprecationWarning: `product` is deprecated as of NumPy 1.25.0, and will be removed in NumPy 2.0. Please use `prod` instead.\n",
      "  dset.attrs.create('mean_value', data=stats_obj.mean)\n",
      "/home/jovyan/isce3/python/packages/nisar/workflows/gcov.py:771: DeprecationWarning: `product` is deprecated as of NumPy 1.25.0, and will be removed in NumPy 2.0. Please use `prod` instead.\n",
      "  dset.attrs.create('max_value', data=stats_obj.max)\n",
      "/home/jovyan/isce3/python/packages/nisar/workflows/gcov.py:772: DeprecationWarning: `product` is deprecated as of NumPy 1.25.0, and will be removed in NumPy 2.0. Please use `prod` instead.\n",
      "  dset.attrs.create('sample_standard_deviation', data=stats_obj.sample_stddev)\n",
      "/home/jovyan/isce3/python/packages/nisar/workflows/gcov.py:790: DeprecationWarning: `product` is deprecated as of NumPy 1.25.0, and will be removed in NumPy 2.0. Please use `prod` instead.\n",
      "  dset.attrs.create('valid_min', data=valid_min)\n",
      "/home/jovyan/isce3/python/packages/nisar/workflows/gcov.py:793: DeprecationWarning: `product` is deprecated as of NumPy 1.25.0, and will be removed in NumPy 2.0. Please use `prod` instead.\n",
      "  dset.attrs.create('valid_max', data=valid_max)\n",
      "\n"
     ]
    },
    {
     "name": "stdout",
     "output_type": "stream",
     "text": [
      "\n",
      "0000471013_001001_ALOS2430451310-220513\n",
      "\n",
      "conda run -n isce3_src /home/jovyan/isce3/share/nisar/examples/alos2_to_nisar_l1.py -i /scratch/alex_eco_test/BONA/ALOS2/0000471013_001001_ALOS2430451310-220513 -o /scratch/alex_eco_test/BONA/ALOS2/0000471013_001001_ALOS2430451310-220513.h5\n"
     ]
    },
    {
     "name": "stderr",
     "output_type": "stream",
     "text": [
      "WARNING: overwriting environment variables set in the machine\n",
      "overwriting variable {'LD_LIBRARY_PATH'}\n",
      "\n"
     ]
    },
    {
     "name": "stdout",
     "output_type": "stream",
     "text": [
      "\n",
      "conda run -n isce3_src /home/jovyan/isce3/python/packages/nisar/workflows/stage_dem.py -p /scratch/alex_eco_test/BONA/ALOS2/0000471013_001001_ALOS2430451310-220513.h5 -o /scratch/alex_eco_test/BONA/DEM/0000471013_001001_ALOS2430451310-220513.vrt\n"
     ]
    },
    {
     "name": "stderr",
     "output_type": "stream",
     "text": [
      "WARNING: overwriting environment variables set in the machine\n",
      "overwriting variable {'LD_LIBRARY_PATH'}\n",
      "\n"
     ]
    },
    {
     "name": "stdout",
     "output_type": "stream",
     "text": [
      "\n",
      "conda run -n isce3_src /home/jovyan/isce3/python/packages/nisar/workflows/gcov.py /scratch/alex_eco_test/BONA/GCOV/0000471013_001001_ALOS2430451310-220513.yaml\n"
     ]
    },
    {
     "name": "stderr",
     "output_type": "stream",
     "text": [
      "WARNING: overwriting environment variables set in the machine\n",
      "overwriting variable {'LD_LIBRARY_PATH'}\n",
      "/home/jovyan/isce3/build/packages/nisar/workflows/h5_prep.py:207: UserWarning: swmr=True only affects read ('r') mode. For swmr write mode, set f.swmr_mode = True after opening the file.\n",
      "  h5py.File(output_hdf5, 'w', libver='latest', swmr=True) as dst_h5:\n",
      "/home/jovyan/isce3/build/packages/nisar/workflows/h5_prep.py:489: UserWarning: swmr=True only affects read ('r') mode. For swmr write mode, set f.swmr_mode = True after opening the file.\n",
      "  with h5py.File(output_hdf5, 'a', libver='latest', swmr=True) as dst_h5:\n",
      "/home/jovyan/isce3/python/packages/nisar/workflows/gcov.py:765: DeprecationWarning: `product` is deprecated as of NumPy 1.25.0, and will be removed in NumPy 2.0. Please use `prod` instead.\n",
      "  dset.attrs.create('_FillValue', data=np.nan)\n",
      "/home/jovyan/isce3/python/packages/nisar/workflows/gcov.py:769: DeprecationWarning: `product` is deprecated as of NumPy 1.25.0, and will be removed in NumPy 2.0. Please use `prod` instead.\n",
      "  dset.attrs.create('min_value', data=stats_obj.min)\n",
      "/home/jovyan/isce3/python/packages/nisar/workflows/gcov.py:770: DeprecationWarning: `product` is deprecated as of NumPy 1.25.0, and will be removed in NumPy 2.0. Please use `prod` instead.\n",
      "  dset.attrs.create('mean_value', data=stats_obj.mean)\n",
      "/home/jovyan/isce3/python/packages/nisar/workflows/gcov.py:771: DeprecationWarning: `product` is deprecated as of NumPy 1.25.0, and will be removed in NumPy 2.0. Please use `prod` instead.\n",
      "  dset.attrs.create('max_value', data=stats_obj.max)\n",
      "/home/jovyan/isce3/python/packages/nisar/workflows/gcov.py:772: DeprecationWarning: `product` is deprecated as of NumPy 1.25.0, and will be removed in NumPy 2.0. Please use `prod` instead.\n",
      "  dset.attrs.create('sample_standard_deviation', data=stats_obj.sample_stddev)\n",
      "/home/jovyan/isce3/python/packages/nisar/workflows/gcov.py:790: DeprecationWarning: `product` is deprecated as of NumPy 1.25.0, and will be removed in NumPy 2.0. Please use `prod` instead.\n",
      "  dset.attrs.create('valid_min', data=valid_min)\n",
      "/home/jovyan/isce3/python/packages/nisar/workflows/gcov.py:793: DeprecationWarning: `product` is deprecated as of NumPy 1.25.0, and will be removed in NumPy 2.0. Please use `prod` instead.\n",
      "  dset.attrs.create('valid_max', data=valid_max)\n",
      "\n"
     ]
    },
    {
     "name": "stdout",
     "output_type": "stream",
     "text": [
      "\n",
      "0000513438_001001_ALOS2484271300-230512\n",
      "\n",
      "conda run -n isce3_src /home/jovyan/isce3/share/nisar/examples/alos2_to_nisar_l1.py -i /scratch/alex_eco_test/BONA/ALOS2/0000513438_001001_ALOS2484271300-230512 -o /scratch/alex_eco_test/BONA/ALOS2/0000513438_001001_ALOS2484271300-230512.h5\n"
     ]
    },
    {
     "name": "stderr",
     "output_type": "stream",
     "text": [
      "WARNING: overwriting environment variables set in the machine\n",
      "overwriting variable {'LD_LIBRARY_PATH'}\n",
      "\n"
     ]
    },
    {
     "name": "stdout",
     "output_type": "stream",
     "text": [
      "\n",
      "conda run -n isce3_src /home/jovyan/isce3/python/packages/nisar/workflows/stage_dem.py -p /scratch/alex_eco_test/BONA/ALOS2/0000513438_001001_ALOS2484271300-230512.h5 -o /scratch/alex_eco_test/BONA/DEM/0000513438_001001_ALOS2484271300-230512.vrt\n"
     ]
    },
    {
     "name": "stderr",
     "output_type": "stream",
     "text": [
      "WARNING: overwriting environment variables set in the machine\n",
      "overwriting variable {'LD_LIBRARY_PATH'}\n",
      "\n"
     ]
    },
    {
     "name": "stdout",
     "output_type": "stream",
     "text": [
      "\n",
      "conda run -n isce3_src /home/jovyan/isce3/python/packages/nisar/workflows/gcov.py /scratch/alex_eco_test/BONA/GCOV/0000513438_001001_ALOS2484271300-230512.yaml\n"
     ]
    },
    {
     "name": "stderr",
     "output_type": "stream",
     "text": [
      "WARNING: overwriting environment variables set in the machine\n",
      "overwriting variable {'LD_LIBRARY_PATH'}\n",
      "/home/jovyan/isce3/build/packages/nisar/workflows/h5_prep.py:207: UserWarning: swmr=True only affects read ('r') mode. For swmr write mode, set f.swmr_mode = True after opening the file.\n",
      "  h5py.File(output_hdf5, 'w', libver='latest', swmr=True) as dst_h5:\n",
      "/home/jovyan/isce3/build/packages/nisar/workflows/h5_prep.py:489: UserWarning: swmr=True only affects read ('r') mode. For swmr write mode, set f.swmr_mode = True after opening the file.\n",
      "  with h5py.File(output_hdf5, 'a', libver='latest', swmr=True) as dst_h5:\n",
      "/home/jovyan/isce3/python/packages/nisar/workflows/gcov.py:765: DeprecationWarning: `product` is deprecated as of NumPy 1.25.0, and will be removed in NumPy 2.0. Please use `prod` instead.\n",
      "  dset.attrs.create('_FillValue', data=np.nan)\n",
      "/home/jovyan/isce3/python/packages/nisar/workflows/gcov.py:769: DeprecationWarning: `product` is deprecated as of NumPy 1.25.0, and will be removed in NumPy 2.0. Please use `prod` instead.\n",
      "  dset.attrs.create('min_value', data=stats_obj.min)\n",
      "/home/jovyan/isce3/python/packages/nisar/workflows/gcov.py:770: DeprecationWarning: `product` is deprecated as of NumPy 1.25.0, and will be removed in NumPy 2.0. Please use `prod` instead.\n",
      "  dset.attrs.create('mean_value', data=stats_obj.mean)\n",
      "/home/jovyan/isce3/python/packages/nisar/workflows/gcov.py:771: DeprecationWarning: `product` is deprecated as of NumPy 1.25.0, and will be removed in NumPy 2.0. Please use `prod` instead.\n",
      "  dset.attrs.create('max_value', data=stats_obj.max)\n",
      "/home/jovyan/isce3/python/packages/nisar/workflows/gcov.py:772: DeprecationWarning: `product` is deprecated as of NumPy 1.25.0, and will be removed in NumPy 2.0. Please use `prod` instead.\n",
      "  dset.attrs.create('sample_standard_deviation', data=stats_obj.sample_stddev)\n",
      "/home/jovyan/isce3/python/packages/nisar/workflows/gcov.py:790: DeprecationWarning: `product` is deprecated as of NumPy 1.25.0, and will be removed in NumPy 2.0. Please use `prod` instead.\n",
      "  dset.attrs.create('valid_min', data=valid_min)\n",
      "/home/jovyan/isce3/python/packages/nisar/workflows/gcov.py:793: DeprecationWarning: `product` is deprecated as of NumPy 1.25.0, and will be removed in NumPy 2.0. Please use `prod` instead.\n",
      "  dset.attrs.create('valid_max', data=valid_max)\n",
      "\n"
     ]
    },
    {
     "name": "stdout",
     "output_type": "stream",
     "text": [
      "\n",
      "0000518796_001001_ALOS2490481310-230623\n",
      "\n",
      "conda run -n isce3_src /home/jovyan/isce3/share/nisar/examples/alos2_to_nisar_l1.py -i /scratch/alex_eco_test/BONA/ALOS2/0000518796_001001_ALOS2490481310-230623 -o /scratch/alex_eco_test/BONA/ALOS2/0000518796_001001_ALOS2490481310-230623.h5\n"
     ]
    },
    {
     "name": "stderr",
     "output_type": "stream",
     "text": [
      "WARNING: overwriting environment variables set in the machine\n",
      "overwriting variable {'LD_LIBRARY_PATH'}\n",
      "\n"
     ]
    },
    {
     "name": "stdout",
     "output_type": "stream",
     "text": [
      "\n",
      "conda run -n isce3_src /home/jovyan/isce3/python/packages/nisar/workflows/stage_dem.py -p /scratch/alex_eco_test/BONA/ALOS2/0000518796_001001_ALOS2490481310-230623.h5 -o /scratch/alex_eco_test/BONA/DEM/0000518796_001001_ALOS2490481310-230623.vrt\n"
     ]
    },
    {
     "name": "stderr",
     "output_type": "stream",
     "text": [
      "WARNING: overwriting environment variables set in the machine\n",
      "overwriting variable {'LD_LIBRARY_PATH'}\n",
      "\n"
     ]
    },
    {
     "name": "stdout",
     "output_type": "stream",
     "text": [
      "\n",
      "conda run -n isce3_src /home/jovyan/isce3/python/packages/nisar/workflows/gcov.py /scratch/alex_eco_test/BONA/GCOV/0000518796_001001_ALOS2490481310-230623.yaml\n"
     ]
    },
    {
     "name": "stderr",
     "output_type": "stream",
     "text": [
      "WARNING: overwriting environment variables set in the machine\n",
      "overwriting variable {'LD_LIBRARY_PATH'}\n",
      "/home/jovyan/isce3/build/packages/nisar/workflows/h5_prep.py:207: UserWarning: swmr=True only affects read ('r') mode. For swmr write mode, set f.swmr_mode = True after opening the file.\n",
      "  h5py.File(output_hdf5, 'w', libver='latest', swmr=True) as dst_h5:\n",
      "/home/jovyan/isce3/build/packages/nisar/workflows/h5_prep.py:489: UserWarning: swmr=True only affects read ('r') mode. For swmr write mode, set f.swmr_mode = True after opening the file.\n",
      "  with h5py.File(output_hdf5, 'a', libver='latest', swmr=True) as dst_h5:\n",
      "/home/jovyan/isce3/python/packages/nisar/workflows/gcov.py:765: DeprecationWarning: `product` is deprecated as of NumPy 1.25.0, and will be removed in NumPy 2.0. Please use `prod` instead.\n",
      "  dset.attrs.create('_FillValue', data=np.nan)\n",
      "/home/jovyan/isce3/python/packages/nisar/workflows/gcov.py:769: DeprecationWarning: `product` is deprecated as of NumPy 1.25.0, and will be removed in NumPy 2.0. Please use `prod` instead.\n",
      "  dset.attrs.create('min_value', data=stats_obj.min)\n",
      "/home/jovyan/isce3/python/packages/nisar/workflows/gcov.py:770: DeprecationWarning: `product` is deprecated as of NumPy 1.25.0, and will be removed in NumPy 2.0. Please use `prod` instead.\n",
      "  dset.attrs.create('mean_value', data=stats_obj.mean)\n",
      "/home/jovyan/isce3/python/packages/nisar/workflows/gcov.py:771: DeprecationWarning: `product` is deprecated as of NumPy 1.25.0, and will be removed in NumPy 2.0. Please use `prod` instead.\n",
      "  dset.attrs.create('max_value', data=stats_obj.max)\n",
      "/home/jovyan/isce3/python/packages/nisar/workflows/gcov.py:772: DeprecationWarning: `product` is deprecated as of NumPy 1.25.0, and will be removed in NumPy 2.0. Please use `prod` instead.\n",
      "  dset.attrs.create('sample_standard_deviation', data=stats_obj.sample_stddev)\n",
      "/home/jovyan/isce3/python/packages/nisar/workflows/gcov.py:790: DeprecationWarning: `product` is deprecated as of NumPy 1.25.0, and will be removed in NumPy 2.0. Please use `prod` instead.\n",
      "  dset.attrs.create('valid_min', data=valid_min)\n",
      "/home/jovyan/isce3/python/packages/nisar/workflows/gcov.py:793: DeprecationWarning: `product` is deprecated as of NumPy 1.25.0, and will be removed in NumPy 2.0. Please use `prod` instead.\n",
      "  dset.attrs.create('valid_max', data=valid_max)\n",
      "\n"
     ]
    },
    {
     "name": "stdout",
     "output_type": "stream",
     "text": [
      "\n",
      "0000515564_001001_ALOS2486341310-230526\n",
      "\n",
      "conda run -n isce3_src /home/jovyan/isce3/share/nisar/examples/alos2_to_nisar_l1.py -i /scratch/alex_eco_test/BONA/ALOS2/0000515564_001001_ALOS2486341310-230526 -o /scratch/alex_eco_test/BONA/ALOS2/0000515564_001001_ALOS2486341310-230526.h5\n"
     ]
    },
    {
     "name": "stderr",
     "output_type": "stream",
     "text": [
      "WARNING: overwriting environment variables set in the machine\n",
      "overwriting variable {'LD_LIBRARY_PATH'}\n",
      "\n"
     ]
    },
    {
     "name": "stdout",
     "output_type": "stream",
     "text": [
      "\n",
      "conda run -n isce3_src /home/jovyan/isce3/python/packages/nisar/workflows/stage_dem.py -p /scratch/alex_eco_test/BONA/ALOS2/0000515564_001001_ALOS2486341310-230526.h5 -o /scratch/alex_eco_test/BONA/DEM/0000515564_001001_ALOS2486341310-230526.vrt\n"
     ]
    },
    {
     "name": "stderr",
     "output_type": "stream",
     "text": [
      "WARNING: overwriting environment variables set in the machine\n",
      "overwriting variable {'LD_LIBRARY_PATH'}\n",
      "\n"
     ]
    },
    {
     "name": "stdout",
     "output_type": "stream",
     "text": [
      "\n",
      "conda run -n isce3_src /home/jovyan/isce3/python/packages/nisar/workflows/gcov.py /scratch/alex_eco_test/BONA/GCOV/0000515564_001001_ALOS2486341310-230526.yaml\n"
     ]
    },
    {
     "name": "stderr",
     "output_type": "stream",
     "text": [
      "WARNING: overwriting environment variables set in the machine\n",
      "overwriting variable {'LD_LIBRARY_PATH'}\n",
      "/home/jovyan/isce3/build/packages/nisar/workflows/h5_prep.py:207: UserWarning: swmr=True only affects read ('r') mode. For swmr write mode, set f.swmr_mode = True after opening the file.\n",
      "  h5py.File(output_hdf5, 'w', libver='latest', swmr=True) as dst_h5:\n",
      "/home/jovyan/isce3/build/packages/nisar/workflows/h5_prep.py:489: UserWarning: swmr=True only affects read ('r') mode. For swmr write mode, set f.swmr_mode = True after opening the file.\n",
      "  with h5py.File(output_hdf5, 'a', libver='latest', swmr=True) as dst_h5:\n",
      "/home/jovyan/isce3/python/packages/nisar/workflows/gcov.py:765: DeprecationWarning: `product` is deprecated as of NumPy 1.25.0, and will be removed in NumPy 2.0. Please use `prod` instead.\n",
      "  dset.attrs.create('_FillValue', data=np.nan)\n",
      "/home/jovyan/isce3/python/packages/nisar/workflows/gcov.py:769: DeprecationWarning: `product` is deprecated as of NumPy 1.25.0, and will be removed in NumPy 2.0. Please use `prod` instead.\n",
      "  dset.attrs.create('min_value', data=stats_obj.min)\n",
      "/home/jovyan/isce3/python/packages/nisar/workflows/gcov.py:770: DeprecationWarning: `product` is deprecated as of NumPy 1.25.0, and will be removed in NumPy 2.0. Please use `prod` instead.\n",
      "  dset.attrs.create('mean_value', data=stats_obj.mean)\n",
      "/home/jovyan/isce3/python/packages/nisar/workflows/gcov.py:771: DeprecationWarning: `product` is deprecated as of NumPy 1.25.0, and will be removed in NumPy 2.0. Please use `prod` instead.\n",
      "  dset.attrs.create('max_value', data=stats_obj.max)\n",
      "/home/jovyan/isce3/python/packages/nisar/workflows/gcov.py:772: DeprecationWarning: `product` is deprecated as of NumPy 1.25.0, and will be removed in NumPy 2.0. Please use `prod` instead.\n",
      "  dset.attrs.create('sample_standard_deviation', data=stats_obj.sample_stddev)\n",
      "/home/jovyan/isce3/python/packages/nisar/workflows/gcov.py:790: DeprecationWarning: `product` is deprecated as of NumPy 1.25.0, and will be removed in NumPy 2.0. Please use `prod` instead.\n",
      "  dset.attrs.create('valid_min', data=valid_min)\n",
      "/home/jovyan/isce3/python/packages/nisar/workflows/gcov.py:793: DeprecationWarning: `product` is deprecated as of NumPy 1.25.0, and will be removed in NumPy 2.0. Please use `prod` instead.\n",
      "  dset.attrs.create('valid_max', data=valid_max)\n",
      "\n"
     ]
    },
    {
     "name": "stdout",
     "output_type": "stream",
     "text": [
      "\n",
      "0000515565_001001_ALOS2486341300-230526\n",
      "\n",
      "conda run -n isce3_src /home/jovyan/isce3/share/nisar/examples/alos2_to_nisar_l1.py -i /scratch/alex_eco_test/BONA/ALOS2/0000515565_001001_ALOS2486341300-230526 -o /scratch/alex_eco_test/BONA/ALOS2/0000515565_001001_ALOS2486341300-230526.h5\n"
     ]
    },
    {
     "name": "stderr",
     "output_type": "stream",
     "text": [
      "WARNING: overwriting environment variables set in the machine\n",
      "overwriting variable {'LD_LIBRARY_PATH'}\n",
      "\n"
     ]
    },
    {
     "name": "stdout",
     "output_type": "stream",
     "text": [
      "\n",
      "conda run -n isce3_src /home/jovyan/isce3/python/packages/nisar/workflows/stage_dem.py -p /scratch/alex_eco_test/BONA/ALOS2/0000515565_001001_ALOS2486341300-230526.h5 -o /scratch/alex_eco_test/BONA/DEM/0000515565_001001_ALOS2486341300-230526.vrt\n"
     ]
    },
    {
     "name": "stderr",
     "output_type": "stream",
     "text": [
      "WARNING: overwriting environment variables set in the machine\n",
      "overwriting variable {'LD_LIBRARY_PATH'}\n",
      "\n"
     ]
    },
    {
     "name": "stdout",
     "output_type": "stream",
     "text": [
      "\n",
      "conda run -n isce3_src /home/jovyan/isce3/python/packages/nisar/workflows/gcov.py /scratch/alex_eco_test/BONA/GCOV/0000515565_001001_ALOS2486341300-230526.yaml\n"
     ]
    },
    {
     "name": "stderr",
     "output_type": "stream",
     "text": [
      "WARNING: overwriting environment variables set in the machine\n",
      "overwriting variable {'LD_LIBRARY_PATH'}\n",
      "/home/jovyan/isce3/build/packages/nisar/workflows/h5_prep.py:207: UserWarning: swmr=True only affects read ('r') mode. For swmr write mode, set f.swmr_mode = True after opening the file.\n",
      "  h5py.File(output_hdf5, 'w', libver='latest', swmr=True) as dst_h5:\n",
      "/home/jovyan/isce3/build/packages/nisar/workflows/h5_prep.py:489: UserWarning: swmr=True only affects read ('r') mode. For swmr write mode, set f.swmr_mode = True after opening the file.\n",
      "  with h5py.File(output_hdf5, 'a', libver='latest', swmr=True) as dst_h5:\n",
      "/home/jovyan/isce3/python/packages/nisar/workflows/gcov.py:765: DeprecationWarning: `product` is deprecated as of NumPy 1.25.0, and will be removed in NumPy 2.0. Please use `prod` instead.\n",
      "  dset.attrs.create('_FillValue', data=np.nan)\n",
      "/home/jovyan/isce3/python/packages/nisar/workflows/gcov.py:769: DeprecationWarning: `product` is deprecated as of NumPy 1.25.0, and will be removed in NumPy 2.0. Please use `prod` instead.\n",
      "  dset.attrs.create('min_value', data=stats_obj.min)\n",
      "/home/jovyan/isce3/python/packages/nisar/workflows/gcov.py:770: DeprecationWarning: `product` is deprecated as of NumPy 1.25.0, and will be removed in NumPy 2.0. Please use `prod` instead.\n",
      "  dset.attrs.create('mean_value', data=stats_obj.mean)\n",
      "/home/jovyan/isce3/python/packages/nisar/workflows/gcov.py:771: DeprecationWarning: `product` is deprecated as of NumPy 1.25.0, and will be removed in NumPy 2.0. Please use `prod` instead.\n",
      "  dset.attrs.create('max_value', data=stats_obj.max)\n",
      "/home/jovyan/isce3/python/packages/nisar/workflows/gcov.py:772: DeprecationWarning: `product` is deprecated as of NumPy 1.25.0, and will be removed in NumPy 2.0. Please use `prod` instead.\n",
      "  dset.attrs.create('sample_standard_deviation', data=stats_obj.sample_stddev)\n",
      "/home/jovyan/isce3/python/packages/nisar/workflows/gcov.py:790: DeprecationWarning: `product` is deprecated as of NumPy 1.25.0, and will be removed in NumPy 2.0. Please use `prod` instead.\n",
      "  dset.attrs.create('valid_min', data=valid_min)\n",
      "/home/jovyan/isce3/python/packages/nisar/workflows/gcov.py:793: DeprecationWarning: `product` is deprecated as of NumPy 1.25.0, and will be removed in NumPy 2.0. Please use `prod` instead.\n",
      "  dset.attrs.create('valid_max', data=valid_max)\n",
      "\n"
     ]
    },
    {
     "name": "stdout",
     "output_type": "stream",
     "text": [
      "\n",
      "0000526913_001001_ALOS2498761300-230818\n",
      "\n",
      "conda run -n isce3_src /home/jovyan/isce3/share/nisar/examples/alos2_to_nisar_l1.py -i /scratch/alex_eco_test/BONA/ALOS2/0000526913_001001_ALOS2498761300-230818 -o /scratch/alex_eco_test/BONA/ALOS2/0000526913_001001_ALOS2498761300-230818.h5\n"
     ]
    },
    {
     "name": "stderr",
     "output_type": "stream",
     "text": [
      "WARNING: overwriting environment variables set in the machine\n",
      "overwriting variable {'LD_LIBRARY_PATH'}\n",
      "\n"
     ]
    },
    {
     "name": "stdout",
     "output_type": "stream",
     "text": [
      "\n",
      "conda run -n isce3_src /home/jovyan/isce3/python/packages/nisar/workflows/stage_dem.py -p /scratch/alex_eco_test/BONA/ALOS2/0000526913_001001_ALOS2498761300-230818.h5 -o /scratch/alex_eco_test/BONA/DEM/0000526913_001001_ALOS2498761300-230818.vrt\n"
     ]
    },
    {
     "name": "stderr",
     "output_type": "stream",
     "text": [
      "WARNING: overwriting environment variables set in the machine\n",
      "overwriting variable {'LD_LIBRARY_PATH'}\n",
      "\n"
     ]
    },
    {
     "name": "stdout",
     "output_type": "stream",
     "text": [
      "\n",
      "conda run -n isce3_src /home/jovyan/isce3/python/packages/nisar/workflows/gcov.py /scratch/alex_eco_test/BONA/GCOV/0000526913_001001_ALOS2498761300-230818.yaml\n"
     ]
    },
    {
     "name": "stderr",
     "output_type": "stream",
     "text": [
      "WARNING: overwriting environment variables set in the machine\n",
      "overwriting variable {'LD_LIBRARY_PATH'}\n",
      "/home/jovyan/isce3/build/packages/nisar/workflows/h5_prep.py:207: UserWarning: swmr=True only affects read ('r') mode. For swmr write mode, set f.swmr_mode = True after opening the file.\n",
      "  h5py.File(output_hdf5, 'w', libver='latest', swmr=True) as dst_h5:\n",
      "/home/jovyan/isce3/build/packages/nisar/workflows/h5_prep.py:489: UserWarning: swmr=True only affects read ('r') mode. For swmr write mode, set f.swmr_mode = True after opening the file.\n",
      "  with h5py.File(output_hdf5, 'a', libver='latest', swmr=True) as dst_h5:\n",
      "/home/jovyan/isce3/python/packages/nisar/workflows/gcov.py:765: DeprecationWarning: `product` is deprecated as of NumPy 1.25.0, and will be removed in NumPy 2.0. Please use `prod` instead.\n",
      "  dset.attrs.create('_FillValue', data=np.nan)\n",
      "/home/jovyan/isce3/python/packages/nisar/workflows/gcov.py:769: DeprecationWarning: `product` is deprecated as of NumPy 1.25.0, and will be removed in NumPy 2.0. Please use `prod` instead.\n",
      "  dset.attrs.create('min_value', data=stats_obj.min)\n",
      "/home/jovyan/isce3/python/packages/nisar/workflows/gcov.py:770: DeprecationWarning: `product` is deprecated as of NumPy 1.25.0, and will be removed in NumPy 2.0. Please use `prod` instead.\n",
      "  dset.attrs.create('mean_value', data=stats_obj.mean)\n",
      "/home/jovyan/isce3/python/packages/nisar/workflows/gcov.py:771: DeprecationWarning: `product` is deprecated as of NumPy 1.25.0, and will be removed in NumPy 2.0. Please use `prod` instead.\n",
      "  dset.attrs.create('max_value', data=stats_obj.max)\n",
      "/home/jovyan/isce3/python/packages/nisar/workflows/gcov.py:772: DeprecationWarning: `product` is deprecated as of NumPy 1.25.0, and will be removed in NumPy 2.0. Please use `prod` instead.\n",
      "  dset.attrs.create('sample_standard_deviation', data=stats_obj.sample_stddev)\n",
      "/home/jovyan/isce3/python/packages/nisar/workflows/gcov.py:790: DeprecationWarning: `product` is deprecated as of NumPy 1.25.0, and will be removed in NumPy 2.0. Please use `prod` instead.\n",
      "  dset.attrs.create('valid_min', data=valid_min)\n",
      "/home/jovyan/isce3/python/packages/nisar/workflows/gcov.py:793: DeprecationWarning: `product` is deprecated as of NumPy 1.25.0, and will be removed in NumPy 2.0. Please use `prod` instead.\n",
      "  dset.attrs.create('valid_max', data=valid_max)\n",
      "\n"
     ]
    },
    {
     "name": "stdout",
     "output_type": "stream",
     "text": [
      "\n",
      "0000472163_001001_ALOS2432521310-220527\n",
      "\n",
      "conda run -n isce3_src /home/jovyan/isce3/share/nisar/examples/alos2_to_nisar_l1.py -i /scratch/alex_eco_test/BONA/ALOS2/0000472163_001001_ALOS2432521310-220527 -o /scratch/alex_eco_test/BONA/ALOS2/0000472163_001001_ALOS2432521310-220527.h5\n"
     ]
    },
    {
     "name": "stderr",
     "output_type": "stream",
     "text": [
      "WARNING: overwriting environment variables set in the machine\n",
      "overwriting variable {'LD_LIBRARY_PATH'}\n",
      "\n"
     ]
    },
    {
     "name": "stdout",
     "output_type": "stream",
     "text": [
      "\n",
      "conda run -n isce3_src /home/jovyan/isce3/python/packages/nisar/workflows/stage_dem.py -p /scratch/alex_eco_test/BONA/ALOS2/0000472163_001001_ALOS2432521310-220527.h5 -o /scratch/alex_eco_test/BONA/DEM/0000472163_001001_ALOS2432521310-220527.vrt\n"
     ]
    },
    {
     "name": "stderr",
     "output_type": "stream",
     "text": [
      "WARNING: overwriting environment variables set in the machine\n",
      "overwriting variable {'LD_LIBRARY_PATH'}\n",
      "\n"
     ]
    },
    {
     "name": "stdout",
     "output_type": "stream",
     "text": [
      "\n",
      "conda run -n isce3_src /home/jovyan/isce3/python/packages/nisar/workflows/gcov.py /scratch/alex_eco_test/BONA/GCOV/0000472163_001001_ALOS2432521310-220527.yaml\n"
     ]
    },
    {
     "name": "stderr",
     "output_type": "stream",
     "text": [
      "WARNING: overwriting environment variables set in the machine\n",
      "overwriting variable {'LD_LIBRARY_PATH'}\n",
      "/home/jovyan/isce3/build/packages/nisar/workflows/h5_prep.py:207: UserWarning: swmr=True only affects read ('r') mode. For swmr write mode, set f.swmr_mode = True after opening the file.\n",
      "  h5py.File(output_hdf5, 'w', libver='latest', swmr=True) as dst_h5:\n",
      "/home/jovyan/isce3/build/packages/nisar/workflows/h5_prep.py:489: UserWarning: swmr=True only affects read ('r') mode. For swmr write mode, set f.swmr_mode = True after opening the file.\n",
      "  with h5py.File(output_hdf5, 'a', libver='latest', swmr=True) as dst_h5:\n",
      "/home/jovyan/isce3/python/packages/nisar/workflows/gcov.py:765: DeprecationWarning: `product` is deprecated as of NumPy 1.25.0, and will be removed in NumPy 2.0. Please use `prod` instead.\n",
      "  dset.attrs.create('_FillValue', data=np.nan)\n",
      "/home/jovyan/isce3/python/packages/nisar/workflows/gcov.py:769: DeprecationWarning: `product` is deprecated as of NumPy 1.25.0, and will be removed in NumPy 2.0. Please use `prod` instead.\n",
      "  dset.attrs.create('min_value', data=stats_obj.min)\n",
      "/home/jovyan/isce3/python/packages/nisar/workflows/gcov.py:770: DeprecationWarning: `product` is deprecated as of NumPy 1.25.0, and will be removed in NumPy 2.0. Please use `prod` instead.\n",
      "  dset.attrs.create('mean_value', data=stats_obj.mean)\n",
      "/home/jovyan/isce3/python/packages/nisar/workflows/gcov.py:771: DeprecationWarning: `product` is deprecated as of NumPy 1.25.0, and will be removed in NumPy 2.0. Please use `prod` instead.\n",
      "  dset.attrs.create('max_value', data=stats_obj.max)\n",
      "/home/jovyan/isce3/python/packages/nisar/workflows/gcov.py:772: DeprecationWarning: `product` is deprecated as of NumPy 1.25.0, and will be removed in NumPy 2.0. Please use `prod` instead.\n",
      "  dset.attrs.create('sample_standard_deviation', data=stats_obj.sample_stddev)\n",
      "/home/jovyan/isce3/python/packages/nisar/workflows/gcov.py:790: DeprecationWarning: `product` is deprecated as of NumPy 1.25.0, and will be removed in NumPy 2.0. Please use `prod` instead.\n",
      "  dset.attrs.create('valid_min', data=valid_min)\n",
      "/home/jovyan/isce3/python/packages/nisar/workflows/gcov.py:793: DeprecationWarning: `product` is deprecated as of NumPy 1.25.0, and will be removed in NumPy 2.0. Please use `prod` instead.\n",
      "  dset.attrs.create('valid_max', data=valid_max)\n",
      "\n"
     ]
    },
    {
     "name": "stdout",
     "output_type": "stream",
     "text": [
      "\n",
      "0000472164_001001_ALOS2432521300-220527\n",
      "\n",
      "conda run -n isce3_src /home/jovyan/isce3/share/nisar/examples/alos2_to_nisar_l1.py -i /scratch/alex_eco_test/BONA/ALOS2/0000472164_001001_ALOS2432521300-220527 -o /scratch/alex_eco_test/BONA/ALOS2/0000472164_001001_ALOS2432521300-220527.h5\n"
     ]
    },
    {
     "name": "stderr",
     "output_type": "stream",
     "text": [
      "WARNING: overwriting environment variables set in the machine\n",
      "overwriting variable {'LD_LIBRARY_PATH'}\n",
      "\n"
     ]
    },
    {
     "name": "stdout",
     "output_type": "stream",
     "text": [
      "\n",
      "conda run -n isce3_src /home/jovyan/isce3/python/packages/nisar/workflows/stage_dem.py -p /scratch/alex_eco_test/BONA/ALOS2/0000472164_001001_ALOS2432521300-220527.h5 -o /scratch/alex_eco_test/BONA/DEM/0000472164_001001_ALOS2432521300-220527.vrt\n"
     ]
    },
    {
     "name": "stderr",
     "output_type": "stream",
     "text": [
      "WARNING: overwriting environment variables set in the machine\n",
      "overwriting variable {'LD_LIBRARY_PATH'}\n",
      "\n"
     ]
    },
    {
     "name": "stdout",
     "output_type": "stream",
     "text": [
      "\n",
      "conda run -n isce3_src /home/jovyan/isce3/python/packages/nisar/workflows/gcov.py /scratch/alex_eco_test/BONA/GCOV/0000472164_001001_ALOS2432521300-220527.yaml\n"
     ]
    },
    {
     "name": "stderr",
     "output_type": "stream",
     "text": [
      "WARNING: overwriting environment variables set in the machine\n",
      "overwriting variable {'LD_LIBRARY_PATH'}\n",
      "/home/jovyan/isce3/build/packages/nisar/workflows/h5_prep.py:207: UserWarning: swmr=True only affects read ('r') mode. For swmr write mode, set f.swmr_mode = True after opening the file.\n",
      "  h5py.File(output_hdf5, 'w', libver='latest', swmr=True) as dst_h5:\n",
      "/home/jovyan/isce3/build/packages/nisar/workflows/h5_prep.py:489: UserWarning: swmr=True only affects read ('r') mode. For swmr write mode, set f.swmr_mode = True after opening the file.\n",
      "  with h5py.File(output_hdf5, 'a', libver='latest', swmr=True) as dst_h5:\n",
      "/home/jovyan/isce3/python/packages/nisar/workflows/gcov.py:765: DeprecationWarning: `product` is deprecated as of NumPy 1.25.0, and will be removed in NumPy 2.0. Please use `prod` instead.\n",
      "  dset.attrs.create('_FillValue', data=np.nan)\n",
      "/home/jovyan/isce3/python/packages/nisar/workflows/gcov.py:769: DeprecationWarning: `product` is deprecated as of NumPy 1.25.0, and will be removed in NumPy 2.0. Please use `prod` instead.\n",
      "  dset.attrs.create('min_value', data=stats_obj.min)\n",
      "/home/jovyan/isce3/python/packages/nisar/workflows/gcov.py:770: DeprecationWarning: `product` is deprecated as of NumPy 1.25.0, and will be removed in NumPy 2.0. Please use `prod` instead.\n",
      "  dset.attrs.create('mean_value', data=stats_obj.mean)\n",
      "/home/jovyan/isce3/python/packages/nisar/workflows/gcov.py:771: DeprecationWarning: `product` is deprecated as of NumPy 1.25.0, and will be removed in NumPy 2.0. Please use `prod` instead.\n",
      "  dset.attrs.create('max_value', data=stats_obj.max)\n",
      "/home/jovyan/isce3/python/packages/nisar/workflows/gcov.py:772: DeprecationWarning: `product` is deprecated as of NumPy 1.25.0, and will be removed in NumPy 2.0. Please use `prod` instead.\n",
      "  dset.attrs.create('sample_standard_deviation', data=stats_obj.sample_stddev)\n",
      "/home/jovyan/isce3/python/packages/nisar/workflows/gcov.py:790: DeprecationWarning: `product` is deprecated as of NumPy 1.25.0, and will be removed in NumPy 2.0. Please use `prod` instead.\n",
      "  dset.attrs.create('valid_min', data=valid_min)\n",
      "/home/jovyan/isce3/python/packages/nisar/workflows/gcov.py:793: DeprecationWarning: `product` is deprecated as of NumPy 1.25.0, and will be removed in NumPy 2.0. Please use `prod` instead.\n",
      "  dset.attrs.create('valid_max', data=valid_max)\n",
      "\n"
     ]
    },
    {
     "name": "stdout",
     "output_type": "stream",
     "text": [
      "\n",
      "0000517113_001001_ALOS2488411310-230609\n",
      "\n",
      "conda run -n isce3_src /home/jovyan/isce3/share/nisar/examples/alos2_to_nisar_l1.py -i /scratch/alex_eco_test/BONA/ALOS2/0000517113_001001_ALOS2488411310-230609 -o /scratch/alex_eco_test/BONA/ALOS2/0000517113_001001_ALOS2488411310-230609.h5\n"
     ]
    },
    {
     "name": "stderr",
     "output_type": "stream",
     "text": [
      "WARNING: overwriting environment variables set in the machine\n",
      "overwriting variable {'LD_LIBRARY_PATH'}\n",
      "\n"
     ]
    },
    {
     "name": "stdout",
     "output_type": "stream",
     "text": [
      "\n",
      "conda run -n isce3_src /home/jovyan/isce3/python/packages/nisar/workflows/stage_dem.py -p /scratch/alex_eco_test/BONA/ALOS2/0000517113_001001_ALOS2488411310-230609.h5 -o /scratch/alex_eco_test/BONA/DEM/0000517113_001001_ALOS2488411310-230609.vrt\n"
     ]
    },
    {
     "name": "stderr",
     "output_type": "stream",
     "text": [
      "WARNING: overwriting environment variables set in the machine\n",
      "overwriting variable {'LD_LIBRARY_PATH'}\n",
      "\n"
     ]
    },
    {
     "name": "stdout",
     "output_type": "stream",
     "text": [
      "\n",
      "conda run -n isce3_src /home/jovyan/isce3/python/packages/nisar/workflows/gcov.py /scratch/alex_eco_test/BONA/GCOV/0000517113_001001_ALOS2488411310-230609.yaml\n"
     ]
    },
    {
     "name": "stderr",
     "output_type": "stream",
     "text": [
      "WARNING: overwriting environment variables set in the machine\n",
      "overwriting variable {'LD_LIBRARY_PATH'}\n",
      "/home/jovyan/isce3/build/packages/nisar/workflows/h5_prep.py:207: UserWarning: swmr=True only affects read ('r') mode. For swmr write mode, set f.swmr_mode = True after opening the file.\n",
      "  h5py.File(output_hdf5, 'w', libver='latest', swmr=True) as dst_h5:\n",
      "/home/jovyan/isce3/build/packages/nisar/workflows/h5_prep.py:489: UserWarning: swmr=True only affects read ('r') mode. For swmr write mode, set f.swmr_mode = True after opening the file.\n",
      "  with h5py.File(output_hdf5, 'a', libver='latest', swmr=True) as dst_h5:\n",
      "/home/jovyan/isce3/python/packages/nisar/workflows/gcov.py:765: DeprecationWarning: `product` is deprecated as of NumPy 1.25.0, and will be removed in NumPy 2.0. Please use `prod` instead.\n",
      "  dset.attrs.create('_FillValue', data=np.nan)\n",
      "/home/jovyan/isce3/python/packages/nisar/workflows/gcov.py:769: DeprecationWarning: `product` is deprecated as of NumPy 1.25.0, and will be removed in NumPy 2.0. Please use `prod` instead.\n",
      "  dset.attrs.create('min_value', data=stats_obj.min)\n",
      "/home/jovyan/isce3/python/packages/nisar/workflows/gcov.py:770: DeprecationWarning: `product` is deprecated as of NumPy 1.25.0, and will be removed in NumPy 2.0. Please use `prod` instead.\n",
      "  dset.attrs.create('mean_value', data=stats_obj.mean)\n",
      "/home/jovyan/isce3/python/packages/nisar/workflows/gcov.py:771: DeprecationWarning: `product` is deprecated as of NumPy 1.25.0, and will be removed in NumPy 2.0. Please use `prod` instead.\n",
      "  dset.attrs.create('max_value', data=stats_obj.max)\n",
      "/home/jovyan/isce3/python/packages/nisar/workflows/gcov.py:772: DeprecationWarning: `product` is deprecated as of NumPy 1.25.0, and will be removed in NumPy 2.0. Please use `prod` instead.\n",
      "  dset.attrs.create('sample_standard_deviation', data=stats_obj.sample_stddev)\n",
      "/home/jovyan/isce3/python/packages/nisar/workflows/gcov.py:790: DeprecationWarning: `product` is deprecated as of NumPy 1.25.0, and will be removed in NumPy 2.0. Please use `prod` instead.\n",
      "  dset.attrs.create('valid_min', data=valid_min)\n",
      "/home/jovyan/isce3/python/packages/nisar/workflows/gcov.py:793: DeprecationWarning: `product` is deprecated as of NumPy 1.25.0, and will be removed in NumPy 2.0. Please use `prod` instead.\n",
      "  dset.attrs.create('valid_max', data=valid_max)\n",
      "\n"
     ]
    },
    {
     "name": "stdout",
     "output_type": "stream",
     "text": [
      "\n",
      "0000435934_001001_ALOS2399401310-211015\n",
      "\n",
      "conda run -n isce3_src /home/jovyan/isce3/share/nisar/examples/alos2_to_nisar_l1.py -i /scratch/alex_eco_test/BONA/ALOS2/0000435934_001001_ALOS2399401310-211015 -o /scratch/alex_eco_test/BONA/ALOS2/0000435934_001001_ALOS2399401310-211015.h5\n"
     ]
    },
    {
     "name": "stderr",
     "output_type": "stream",
     "text": [
      "WARNING: overwriting environment variables set in the machine\n",
      "overwriting variable {'LD_LIBRARY_PATH'}\n",
      "\n"
     ]
    },
    {
     "name": "stdout",
     "output_type": "stream",
     "text": [
      "\n",
      "conda run -n isce3_src /home/jovyan/isce3/python/packages/nisar/workflows/stage_dem.py -p /scratch/alex_eco_test/BONA/ALOS2/0000435934_001001_ALOS2399401310-211015.h5 -o /scratch/alex_eco_test/BONA/DEM/0000435934_001001_ALOS2399401310-211015.vrt\n"
     ]
    },
    {
     "name": "stderr",
     "output_type": "stream",
     "text": [
      "WARNING: overwriting environment variables set in the machine\n",
      "overwriting variable {'LD_LIBRARY_PATH'}\n",
      "\n"
     ]
    },
    {
     "name": "stdout",
     "output_type": "stream",
     "text": [
      "\n",
      "conda run -n isce3_src /home/jovyan/isce3/python/packages/nisar/workflows/gcov.py /scratch/alex_eco_test/BONA/GCOV/0000435934_001001_ALOS2399401310-211015.yaml\n"
     ]
    },
    {
     "name": "stderr",
     "output_type": "stream",
     "text": [
      "WARNING: overwriting environment variables set in the machine\n",
      "overwriting variable {'LD_LIBRARY_PATH'}\n",
      "/home/jovyan/isce3/build/packages/nisar/workflows/h5_prep.py:207: UserWarning: swmr=True only affects read ('r') mode. For swmr write mode, set f.swmr_mode = True after opening the file.\n",
      "  h5py.File(output_hdf5, 'w', libver='latest', swmr=True) as dst_h5:\n",
      "/home/jovyan/isce3/build/packages/nisar/workflows/h5_prep.py:489: UserWarning: swmr=True only affects read ('r') mode. For swmr write mode, set f.swmr_mode = True after opening the file.\n",
      "  with h5py.File(output_hdf5, 'a', libver='latest', swmr=True) as dst_h5:\n",
      "/home/jovyan/isce3/python/packages/nisar/workflows/gcov.py:765: DeprecationWarning: `product` is deprecated as of NumPy 1.25.0, and will be removed in NumPy 2.0. Please use `prod` instead.\n",
      "  dset.attrs.create('_FillValue', data=np.nan)\n",
      "/home/jovyan/isce3/python/packages/nisar/workflows/gcov.py:769: DeprecationWarning: `product` is deprecated as of NumPy 1.25.0, and will be removed in NumPy 2.0. Please use `prod` instead.\n",
      "  dset.attrs.create('min_value', data=stats_obj.min)\n",
      "/home/jovyan/isce3/python/packages/nisar/workflows/gcov.py:770: DeprecationWarning: `product` is deprecated as of NumPy 1.25.0, and will be removed in NumPy 2.0. Please use `prod` instead.\n",
      "  dset.attrs.create('mean_value', data=stats_obj.mean)\n",
      "/home/jovyan/isce3/python/packages/nisar/workflows/gcov.py:771: DeprecationWarning: `product` is deprecated as of NumPy 1.25.0, and will be removed in NumPy 2.0. Please use `prod` instead.\n",
      "  dset.attrs.create('max_value', data=stats_obj.max)\n",
      "/home/jovyan/isce3/python/packages/nisar/workflows/gcov.py:772: DeprecationWarning: `product` is deprecated as of NumPy 1.25.0, and will be removed in NumPy 2.0. Please use `prod` instead.\n",
      "  dset.attrs.create('sample_standard_deviation', data=stats_obj.sample_stddev)\n",
      "/home/jovyan/isce3/python/packages/nisar/workflows/gcov.py:790: DeprecationWarning: `product` is deprecated as of NumPy 1.25.0, and will be removed in NumPy 2.0. Please use `prod` instead.\n",
      "  dset.attrs.create('valid_min', data=valid_min)\n",
      "/home/jovyan/isce3/python/packages/nisar/workflows/gcov.py:793: DeprecationWarning: `product` is deprecated as of NumPy 1.25.0, and will be removed in NumPy 2.0. Please use `prod` instead.\n",
      "  dset.attrs.create('valid_max', data=valid_max)\n",
      "\n"
     ]
    },
    {
     "name": "stdout",
     "output_type": "stream",
     "text": [
      "\n",
      "0000470233_001001_ALOS2428381310-220429\n",
      "\n",
      "conda run -n isce3_src /home/jovyan/isce3/share/nisar/examples/alos2_to_nisar_l1.py -i /scratch/alex_eco_test/BONA/ALOS2/0000470233_001001_ALOS2428381310-220429 -o /scratch/alex_eco_test/BONA/ALOS2/0000470233_001001_ALOS2428381310-220429.h5\n"
     ]
    },
    {
     "name": "stderr",
     "output_type": "stream",
     "text": [
      "WARNING: overwriting environment variables set in the machine\n",
      "overwriting variable {'LD_LIBRARY_PATH'}\n",
      "\n"
     ]
    },
    {
     "name": "stdout",
     "output_type": "stream",
     "text": [
      "\n",
      "conda run -n isce3_src /home/jovyan/isce3/python/packages/nisar/workflows/stage_dem.py -p /scratch/alex_eco_test/BONA/ALOS2/0000470233_001001_ALOS2428381310-220429.h5 -o /scratch/alex_eco_test/BONA/DEM/0000470233_001001_ALOS2428381310-220429.vrt\n"
     ]
    },
    {
     "name": "stderr",
     "output_type": "stream",
     "text": [
      "WARNING: overwriting environment variables set in the machine\n",
      "overwriting variable {'LD_LIBRARY_PATH'}\n",
      "\n"
     ]
    },
    {
     "name": "stdout",
     "output_type": "stream",
     "text": [
      "\n",
      "conda run -n isce3_src /home/jovyan/isce3/python/packages/nisar/workflows/gcov.py /scratch/alex_eco_test/BONA/GCOV/0000470233_001001_ALOS2428381310-220429.yaml\n"
     ]
    },
    {
     "name": "stderr",
     "output_type": "stream",
     "text": [
      "WARNING: overwriting environment variables set in the machine\n",
      "overwriting variable {'LD_LIBRARY_PATH'}\n",
      "/home/jovyan/isce3/build/packages/nisar/workflows/h5_prep.py:207: UserWarning: swmr=True only affects read ('r') mode. For swmr write mode, set f.swmr_mode = True after opening the file.\n",
      "  h5py.File(output_hdf5, 'w', libver='latest', swmr=True) as dst_h5:\n",
      "/home/jovyan/isce3/build/packages/nisar/workflows/h5_prep.py:489: UserWarning: swmr=True only affects read ('r') mode. For swmr write mode, set f.swmr_mode = True after opening the file.\n",
      "  with h5py.File(output_hdf5, 'a', libver='latest', swmr=True) as dst_h5:\n",
      "/home/jovyan/isce3/python/packages/nisar/workflows/gcov.py:765: DeprecationWarning: `product` is deprecated as of NumPy 1.25.0, and will be removed in NumPy 2.0. Please use `prod` instead.\n",
      "  dset.attrs.create('_FillValue', data=np.nan)\n",
      "/home/jovyan/isce3/python/packages/nisar/workflows/gcov.py:769: DeprecationWarning: `product` is deprecated as of NumPy 1.25.0, and will be removed in NumPy 2.0. Please use `prod` instead.\n",
      "  dset.attrs.create('min_value', data=stats_obj.min)\n",
      "/home/jovyan/isce3/python/packages/nisar/workflows/gcov.py:770: DeprecationWarning: `product` is deprecated as of NumPy 1.25.0, and will be removed in NumPy 2.0. Please use `prod` instead.\n",
      "  dset.attrs.create('mean_value', data=stats_obj.mean)\n",
      "/home/jovyan/isce3/python/packages/nisar/workflows/gcov.py:771: DeprecationWarning: `product` is deprecated as of NumPy 1.25.0, and will be removed in NumPy 2.0. Please use `prod` instead.\n",
      "  dset.attrs.create('max_value', data=stats_obj.max)\n",
      "/home/jovyan/isce3/python/packages/nisar/workflows/gcov.py:772: DeprecationWarning: `product` is deprecated as of NumPy 1.25.0, and will be removed in NumPy 2.0. Please use `prod` instead.\n",
      "  dset.attrs.create('sample_standard_deviation', data=stats_obj.sample_stddev)\n",
      "/home/jovyan/isce3/python/packages/nisar/workflows/gcov.py:790: DeprecationWarning: `product` is deprecated as of NumPy 1.25.0, and will be removed in NumPy 2.0. Please use `prod` instead.\n",
      "  dset.attrs.create('valid_min', data=valid_min)\n",
      "/home/jovyan/isce3/python/packages/nisar/workflows/gcov.py:793: DeprecationWarning: `product` is deprecated as of NumPy 1.25.0, and will be removed in NumPy 2.0. Please use `prod` instead.\n",
      "  dset.attrs.create('valid_max', data=valid_max)\n",
      "\n"
     ]
    },
    {
     "name": "stdout",
     "output_type": "stream",
     "text": [
      "\n",
      "0000517114_001001_ALOS2488411300-230609\n",
      "\n",
      "conda run -n isce3_src /home/jovyan/isce3/share/nisar/examples/alos2_to_nisar_l1.py -i /scratch/alex_eco_test/BONA/ALOS2/0000517114_001001_ALOS2488411300-230609 -o /scratch/alex_eco_test/BONA/ALOS2/0000517114_001001_ALOS2488411300-230609.h5\n"
     ]
    },
    {
     "name": "stderr",
     "output_type": "stream",
     "text": [
      "WARNING: overwriting environment variables set in the machine\n",
      "overwriting variable {'LD_LIBRARY_PATH'}\n",
      "\n"
     ]
    },
    {
     "name": "stdout",
     "output_type": "stream",
     "text": [
      "\n",
      "conda run -n isce3_src /home/jovyan/isce3/python/packages/nisar/workflows/stage_dem.py -p /scratch/alex_eco_test/BONA/ALOS2/0000517114_001001_ALOS2488411300-230609.h5 -o /scratch/alex_eco_test/BONA/DEM/0000517114_001001_ALOS2488411300-230609.vrt\n"
     ]
    },
    {
     "name": "stderr",
     "output_type": "stream",
     "text": [
      "WARNING: overwriting environment variables set in the machine\n",
      "overwriting variable {'LD_LIBRARY_PATH'}\n",
      "\n"
     ]
    },
    {
     "name": "stdout",
     "output_type": "stream",
     "text": [
      "\n",
      "conda run -n isce3_src /home/jovyan/isce3/python/packages/nisar/workflows/gcov.py /scratch/alex_eco_test/BONA/GCOV/0000517114_001001_ALOS2488411300-230609.yaml\n"
     ]
    },
    {
     "name": "stderr",
     "output_type": "stream",
     "text": [
      "WARNING: overwriting environment variables set in the machine\n",
      "overwriting variable {'LD_LIBRARY_PATH'}\n",
      "/home/jovyan/isce3/build/packages/nisar/workflows/h5_prep.py:207: UserWarning: swmr=True only affects read ('r') mode. For swmr write mode, set f.swmr_mode = True after opening the file.\n",
      "  h5py.File(output_hdf5, 'w', libver='latest', swmr=True) as dst_h5:\n",
      "/home/jovyan/isce3/build/packages/nisar/workflows/h5_prep.py:489: UserWarning: swmr=True only affects read ('r') mode. For swmr write mode, set f.swmr_mode = True after opening the file.\n",
      "  with h5py.File(output_hdf5, 'a', libver='latest', swmr=True) as dst_h5:\n",
      "/home/jovyan/isce3/python/packages/nisar/workflows/gcov.py:765: DeprecationWarning: `product` is deprecated as of NumPy 1.25.0, and will be removed in NumPy 2.0. Please use `prod` instead.\n",
      "  dset.attrs.create('_FillValue', data=np.nan)\n",
      "/home/jovyan/isce3/python/packages/nisar/workflows/gcov.py:769: DeprecationWarning: `product` is deprecated as of NumPy 1.25.0, and will be removed in NumPy 2.0. Please use `prod` instead.\n",
      "  dset.attrs.create('min_value', data=stats_obj.min)\n",
      "/home/jovyan/isce3/python/packages/nisar/workflows/gcov.py:770: DeprecationWarning: `product` is deprecated as of NumPy 1.25.0, and will be removed in NumPy 2.0. Please use `prod` instead.\n",
      "  dset.attrs.create('mean_value', data=stats_obj.mean)\n",
      "/home/jovyan/isce3/python/packages/nisar/workflows/gcov.py:771: DeprecationWarning: `product` is deprecated as of NumPy 1.25.0, and will be removed in NumPy 2.0. Please use `prod` instead.\n",
      "  dset.attrs.create('max_value', data=stats_obj.max)\n",
      "/home/jovyan/isce3/python/packages/nisar/workflows/gcov.py:772: DeprecationWarning: `product` is deprecated as of NumPy 1.25.0, and will be removed in NumPy 2.0. Please use `prod` instead.\n",
      "  dset.attrs.create('sample_standard_deviation', data=stats_obj.sample_stddev)\n",
      "/home/jovyan/isce3/python/packages/nisar/workflows/gcov.py:790: DeprecationWarning: `product` is deprecated as of NumPy 1.25.0, and will be removed in NumPy 2.0. Please use `prod` instead.\n",
      "  dset.attrs.create('valid_min', data=valid_min)\n",
      "/home/jovyan/isce3/python/packages/nisar/workflows/gcov.py:793: DeprecationWarning: `product` is deprecated as of NumPy 1.25.0, and will be removed in NumPy 2.0. Please use `prod` instead.\n",
      "  dset.attrs.create('valid_max', data=valid_max)\n",
      "\n"
     ]
    },
    {
     "name": "stdout",
     "output_type": "stream",
     "text": [
      "\n",
      "0000487230_001001_ALOS2455291300-221028\n",
      "\n",
      "conda run -n isce3_src /home/jovyan/isce3/share/nisar/examples/alos2_to_nisar_l1.py -i /scratch/alex_eco_test/BONA/ALOS2/0000487230_001001_ALOS2455291300-221028 -o /scratch/alex_eco_test/BONA/ALOS2/0000487230_001001_ALOS2455291300-221028.h5\n"
     ]
    },
    {
     "name": "stderr",
     "output_type": "stream",
     "text": [
      "WARNING: overwriting environment variables set in the machine\n",
      "overwriting variable {'LD_LIBRARY_PATH'}\n",
      "\n"
     ]
    },
    {
     "name": "stdout",
     "output_type": "stream",
     "text": [
      "\n",
      "conda run -n isce3_src /home/jovyan/isce3/python/packages/nisar/workflows/stage_dem.py -p /scratch/alex_eco_test/BONA/ALOS2/0000487230_001001_ALOS2455291300-221028.h5 -o /scratch/alex_eco_test/BONA/DEM/0000487230_001001_ALOS2455291300-221028.vrt\n"
     ]
    },
    {
     "name": "stderr",
     "output_type": "stream",
     "text": [
      "WARNING: overwriting environment variables set in the machine\n",
      "overwriting variable {'LD_LIBRARY_PATH'}\n",
      "\n"
     ]
    },
    {
     "name": "stdout",
     "output_type": "stream",
     "text": [
      "\n",
      "conda run -n isce3_src /home/jovyan/isce3/python/packages/nisar/workflows/gcov.py /scratch/alex_eco_test/BONA/GCOV/0000487230_001001_ALOS2455291300-221028.yaml\n"
     ]
    },
    {
     "name": "stderr",
     "output_type": "stream",
     "text": [
      "WARNING: overwriting environment variables set in the machine\n",
      "overwriting variable {'LD_LIBRARY_PATH'}\n",
      "/home/jovyan/isce3/build/packages/nisar/workflows/h5_prep.py:207: UserWarning: swmr=True only affects read ('r') mode. For swmr write mode, set f.swmr_mode = True after opening the file.\n",
      "  h5py.File(output_hdf5, 'w', libver='latest', swmr=True) as dst_h5:\n",
      "/home/jovyan/isce3/build/packages/nisar/workflows/h5_prep.py:489: UserWarning: swmr=True only affects read ('r') mode. For swmr write mode, set f.swmr_mode = True after opening the file.\n",
      "  with h5py.File(output_hdf5, 'a', libver='latest', swmr=True) as dst_h5:\n",
      "/home/jovyan/isce3/python/packages/nisar/workflows/gcov.py:765: DeprecationWarning: `product` is deprecated as of NumPy 1.25.0, and will be removed in NumPy 2.0. Please use `prod` instead.\n",
      "  dset.attrs.create('_FillValue', data=np.nan)\n",
      "/home/jovyan/isce3/python/packages/nisar/workflows/gcov.py:769: DeprecationWarning: `product` is deprecated as of NumPy 1.25.0, and will be removed in NumPy 2.0. Please use `prod` instead.\n",
      "  dset.attrs.create('min_value', data=stats_obj.min)\n",
      "/home/jovyan/isce3/python/packages/nisar/workflows/gcov.py:770: DeprecationWarning: `product` is deprecated as of NumPy 1.25.0, and will be removed in NumPy 2.0. Please use `prod` instead.\n",
      "  dset.attrs.create('mean_value', data=stats_obj.mean)\n",
      "/home/jovyan/isce3/python/packages/nisar/workflows/gcov.py:771: DeprecationWarning: `product` is deprecated as of NumPy 1.25.0, and will be removed in NumPy 2.0. Please use `prod` instead.\n",
      "  dset.attrs.create('max_value', data=stats_obj.max)\n",
      "/home/jovyan/isce3/python/packages/nisar/workflows/gcov.py:772: DeprecationWarning: `product` is deprecated as of NumPy 1.25.0, and will be removed in NumPy 2.0. Please use `prod` instead.\n",
      "  dset.attrs.create('sample_standard_deviation', data=stats_obj.sample_stddev)\n",
      "/home/jovyan/isce3/python/packages/nisar/workflows/gcov.py:790: DeprecationWarning: `product` is deprecated as of NumPy 1.25.0, and will be removed in NumPy 2.0. Please use `prod` instead.\n",
      "  dset.attrs.create('valid_min', data=valid_min)\n",
      "/home/jovyan/isce3/python/packages/nisar/workflows/gcov.py:793: DeprecationWarning: `product` is deprecated as of NumPy 1.25.0, and will be removed in NumPy 2.0. Please use `prod` instead.\n",
      "  dset.attrs.create('valid_max', data=valid_max)\n",
      "\n"
     ]
    },
    {
     "name": "stdout",
     "output_type": "stream",
     "text": [
      "\n",
      "0000470234_001001_ALOS2428381300-220429\n",
      "\n",
      "conda run -n isce3_src /home/jovyan/isce3/share/nisar/examples/alos2_to_nisar_l1.py -i /scratch/alex_eco_test/BONA/ALOS2/0000470234_001001_ALOS2428381300-220429 -o /scratch/alex_eco_test/BONA/ALOS2/0000470234_001001_ALOS2428381300-220429.h5\n"
     ]
    },
    {
     "name": "stderr",
     "output_type": "stream",
     "text": [
      "WARNING: overwriting environment variables set in the machine\n",
      "overwriting variable {'LD_LIBRARY_PATH'}\n",
      "\n"
     ]
    },
    {
     "name": "stdout",
     "output_type": "stream",
     "text": [
      "\n",
      "conda run -n isce3_src /home/jovyan/isce3/python/packages/nisar/workflows/stage_dem.py -p /scratch/alex_eco_test/BONA/ALOS2/0000470234_001001_ALOS2428381300-220429.h5 -o /scratch/alex_eco_test/BONA/DEM/0000470234_001001_ALOS2428381300-220429.vrt\n"
     ]
    },
    {
     "name": "stderr",
     "output_type": "stream",
     "text": [
      "WARNING: overwriting environment variables set in the machine\n",
      "overwriting variable {'LD_LIBRARY_PATH'}\n",
      "\n"
     ]
    },
    {
     "name": "stdout",
     "output_type": "stream",
     "text": [
      "\n",
      "conda run -n isce3_src /home/jovyan/isce3/python/packages/nisar/workflows/gcov.py /scratch/alex_eco_test/BONA/GCOV/0000470234_001001_ALOS2428381300-220429.yaml\n"
     ]
    },
    {
     "name": "stderr",
     "output_type": "stream",
     "text": [
      "WARNING: overwriting environment variables set in the machine\n",
      "overwriting variable {'LD_LIBRARY_PATH'}\n",
      "/home/jovyan/isce3/build/packages/nisar/workflows/h5_prep.py:207: UserWarning: swmr=True only affects read ('r') mode. For swmr write mode, set f.swmr_mode = True after opening the file.\n",
      "  h5py.File(output_hdf5, 'w', libver='latest', swmr=True) as dst_h5:\n",
      "/home/jovyan/isce3/build/packages/nisar/workflows/h5_prep.py:489: UserWarning: swmr=True only affects read ('r') mode. For swmr write mode, set f.swmr_mode = True after opening the file.\n",
      "  with h5py.File(output_hdf5, 'a', libver='latest', swmr=True) as dst_h5:\n",
      "/home/jovyan/isce3/python/packages/nisar/workflows/gcov.py:765: DeprecationWarning: `product` is deprecated as of NumPy 1.25.0, and will be removed in NumPy 2.0. Please use `prod` instead.\n",
      "  dset.attrs.create('_FillValue', data=np.nan)\n",
      "/home/jovyan/isce3/python/packages/nisar/workflows/gcov.py:769: DeprecationWarning: `product` is deprecated as of NumPy 1.25.0, and will be removed in NumPy 2.0. Please use `prod` instead.\n",
      "  dset.attrs.create('min_value', data=stats_obj.min)\n",
      "/home/jovyan/isce3/python/packages/nisar/workflows/gcov.py:770: DeprecationWarning: `product` is deprecated as of NumPy 1.25.0, and will be removed in NumPy 2.0. Please use `prod` instead.\n",
      "  dset.attrs.create('mean_value', data=stats_obj.mean)\n",
      "/home/jovyan/isce3/python/packages/nisar/workflows/gcov.py:771: DeprecationWarning: `product` is deprecated as of NumPy 1.25.0, and will be removed in NumPy 2.0. Please use `prod` instead.\n",
      "  dset.attrs.create('max_value', data=stats_obj.max)\n",
      "/home/jovyan/isce3/python/packages/nisar/workflows/gcov.py:772: DeprecationWarning: `product` is deprecated as of NumPy 1.25.0, and will be removed in NumPy 2.0. Please use `prod` instead.\n",
      "  dset.attrs.create('sample_standard_deviation', data=stats_obj.sample_stddev)\n",
      "/home/jovyan/isce3/python/packages/nisar/workflows/gcov.py:790: DeprecationWarning: `product` is deprecated as of NumPy 1.25.0, and will be removed in NumPy 2.0. Please use `prod` instead.\n",
      "  dset.attrs.create('valid_min', data=valid_min)\n",
      "/home/jovyan/isce3/python/packages/nisar/workflows/gcov.py:793: DeprecationWarning: `product` is deprecated as of NumPy 1.25.0, and will be removed in NumPy 2.0. Please use `prod` instead.\n",
      "  dset.attrs.create('valid_max', data=valid_max)\n",
      "\n"
     ]
    },
    {
     "name": "stdout",
     "output_type": "stream",
     "text": [
      "\n",
      "0000435935_001001_ALOS2399401300-211015\n",
      "\n",
      "conda run -n isce3_src /home/jovyan/isce3/share/nisar/examples/alos2_to_nisar_l1.py -i /scratch/alex_eco_test/BONA/ALOS2/0000435935_001001_ALOS2399401300-211015 -o /scratch/alex_eco_test/BONA/ALOS2/0000435935_001001_ALOS2399401300-211015.h5\n"
     ]
    },
    {
     "name": "stderr",
     "output_type": "stream",
     "text": [
      "WARNING: overwriting environment variables set in the machine\n",
      "overwriting variable {'LD_LIBRARY_PATH'}\n",
      "\n"
     ]
    },
    {
     "name": "stdout",
     "output_type": "stream",
     "text": [
      "\n",
      "conda run -n isce3_src /home/jovyan/isce3/python/packages/nisar/workflows/stage_dem.py -p /scratch/alex_eco_test/BONA/ALOS2/0000435935_001001_ALOS2399401300-211015.h5 -o /scratch/alex_eco_test/BONA/DEM/0000435935_001001_ALOS2399401300-211015.vrt\n"
     ]
    },
    {
     "name": "stderr",
     "output_type": "stream",
     "text": [
      "WARNING: overwriting environment variables set in the machine\n",
      "overwriting variable {'LD_LIBRARY_PATH'}\n",
      "\n"
     ]
    },
    {
     "name": "stdout",
     "output_type": "stream",
     "text": [
      "\n",
      "conda run -n isce3_src /home/jovyan/isce3/python/packages/nisar/workflows/gcov.py /scratch/alex_eco_test/BONA/GCOV/0000435935_001001_ALOS2399401300-211015.yaml\n"
     ]
    },
    {
     "name": "stderr",
     "output_type": "stream",
     "text": [
      "WARNING: overwriting environment variables set in the machine\n",
      "overwriting variable {'LD_LIBRARY_PATH'}\n",
      "/home/jovyan/isce3/build/packages/nisar/workflows/h5_prep.py:207: UserWarning: swmr=True only affects read ('r') mode. For swmr write mode, set f.swmr_mode = True after opening the file.\n",
      "  h5py.File(output_hdf5, 'w', libver='latest', swmr=True) as dst_h5:\n",
      "/home/jovyan/isce3/build/packages/nisar/workflows/h5_prep.py:489: UserWarning: swmr=True only affects read ('r') mode. For swmr write mode, set f.swmr_mode = True after opening the file.\n",
      "  with h5py.File(output_hdf5, 'a', libver='latest', swmr=True) as dst_h5:\n",
      "/home/jovyan/isce3/python/packages/nisar/workflows/gcov.py:765: DeprecationWarning: `product` is deprecated as of NumPy 1.25.0, and will be removed in NumPy 2.0. Please use `prod` instead.\n",
      "  dset.attrs.create('_FillValue', data=np.nan)\n",
      "/home/jovyan/isce3/python/packages/nisar/workflows/gcov.py:769: DeprecationWarning: `product` is deprecated as of NumPy 1.25.0, and will be removed in NumPy 2.0. Please use `prod` instead.\n",
      "  dset.attrs.create('min_value', data=stats_obj.min)\n",
      "/home/jovyan/isce3/python/packages/nisar/workflows/gcov.py:770: DeprecationWarning: `product` is deprecated as of NumPy 1.25.0, and will be removed in NumPy 2.0. Please use `prod` instead.\n",
      "  dset.attrs.create('mean_value', data=stats_obj.mean)\n",
      "/home/jovyan/isce3/python/packages/nisar/workflows/gcov.py:771: DeprecationWarning: `product` is deprecated as of NumPy 1.25.0, and will be removed in NumPy 2.0. Please use `prod` instead.\n",
      "  dset.attrs.create('max_value', data=stats_obj.max)\n",
      "/home/jovyan/isce3/python/packages/nisar/workflows/gcov.py:772: DeprecationWarning: `product` is deprecated as of NumPy 1.25.0, and will be removed in NumPy 2.0. Please use `prod` instead.\n",
      "  dset.attrs.create('sample_standard_deviation', data=stats_obj.sample_stddev)\n",
      "/home/jovyan/isce3/python/packages/nisar/workflows/gcov.py:790: DeprecationWarning: `product` is deprecated as of NumPy 1.25.0, and will be removed in NumPy 2.0. Please use `prod` instead.\n",
      "  dset.attrs.create('valid_min', data=valid_min)\n",
      "/home/jovyan/isce3/python/packages/nisar/workflows/gcov.py:793: DeprecationWarning: `product` is deprecated as of NumPy 1.25.0, and will be removed in NumPy 2.0. Please use `prod` instead.\n",
      "  dset.attrs.create('valid_max', data=valid_max)\n",
      "\n"
     ]
    },
    {
     "name": "stdout",
     "output_type": "stream",
     "text": [
      "\n",
      "0000435729_001001_ALOS2389051300-210806\n",
      "\n",
      "conda run -n isce3_src /home/jovyan/isce3/share/nisar/examples/alos2_to_nisar_l1.py -i /scratch/alex_eco_test/BONA/ALOS2/0000435729_001001_ALOS2389051300-210806 -o /scratch/alex_eco_test/BONA/ALOS2/0000435729_001001_ALOS2389051300-210806.h5\n"
     ]
    },
    {
     "name": "stderr",
     "output_type": "stream",
     "text": [
      "WARNING: overwriting environment variables set in the machine\n",
      "overwriting variable {'LD_LIBRARY_PATH'}\n",
      "\n"
     ]
    },
    {
     "name": "stdout",
     "output_type": "stream",
     "text": [
      "\n",
      "conda run -n isce3_src /home/jovyan/isce3/python/packages/nisar/workflows/stage_dem.py -p /scratch/alex_eco_test/BONA/ALOS2/0000435729_001001_ALOS2389051300-210806.h5 -o /scratch/alex_eco_test/BONA/DEM/0000435729_001001_ALOS2389051300-210806.vrt\n"
     ]
    },
    {
     "name": "stderr",
     "output_type": "stream",
     "text": [
      "WARNING: overwriting environment variables set in the machine\n",
      "overwriting variable {'LD_LIBRARY_PATH'}\n",
      "\n"
     ]
    },
    {
     "name": "stdout",
     "output_type": "stream",
     "text": [
      "\n",
      "conda run -n isce3_src /home/jovyan/isce3/python/packages/nisar/workflows/gcov.py /scratch/alex_eco_test/BONA/GCOV/0000435729_001001_ALOS2389051300-210806.yaml\n"
     ]
    },
    {
     "name": "stderr",
     "output_type": "stream",
     "text": [
      "WARNING: overwriting environment variables set in the machine\n",
      "overwriting variable {'LD_LIBRARY_PATH'}\n",
      "/home/jovyan/isce3/build/packages/nisar/workflows/h5_prep.py:207: UserWarning: swmr=True only affects read ('r') mode. For swmr write mode, set f.swmr_mode = True after opening the file.\n",
      "  h5py.File(output_hdf5, 'w', libver='latest', swmr=True) as dst_h5:\n",
      "/home/jovyan/isce3/build/packages/nisar/workflows/h5_prep.py:489: UserWarning: swmr=True only affects read ('r') mode. For swmr write mode, set f.swmr_mode = True after opening the file.\n",
      "  with h5py.File(output_hdf5, 'a', libver='latest', swmr=True) as dst_h5:\n",
      "/home/jovyan/isce3/python/packages/nisar/workflows/gcov.py:765: DeprecationWarning: `product` is deprecated as of NumPy 1.25.0, and will be removed in NumPy 2.0. Please use `prod` instead.\n",
      "  dset.attrs.create('_FillValue', data=np.nan)\n",
      "/home/jovyan/isce3/python/packages/nisar/workflows/gcov.py:769: DeprecationWarning: `product` is deprecated as of NumPy 1.25.0, and will be removed in NumPy 2.0. Please use `prod` instead.\n",
      "  dset.attrs.create('min_value', data=stats_obj.min)\n",
      "/home/jovyan/isce3/python/packages/nisar/workflows/gcov.py:770: DeprecationWarning: `product` is deprecated as of NumPy 1.25.0, and will be removed in NumPy 2.0. Please use `prod` instead.\n",
      "  dset.attrs.create('mean_value', data=stats_obj.mean)\n",
      "/home/jovyan/isce3/python/packages/nisar/workflows/gcov.py:771: DeprecationWarning: `product` is deprecated as of NumPy 1.25.0, and will be removed in NumPy 2.0. Please use `prod` instead.\n",
      "  dset.attrs.create('max_value', data=stats_obj.max)\n",
      "/home/jovyan/isce3/python/packages/nisar/workflows/gcov.py:772: DeprecationWarning: `product` is deprecated as of NumPy 1.25.0, and will be removed in NumPy 2.0. Please use `prod` instead.\n",
      "  dset.attrs.create('sample_standard_deviation', data=stats_obj.sample_stddev)\n",
      "/home/jovyan/isce3/python/packages/nisar/workflows/gcov.py:790: DeprecationWarning: `product` is deprecated as of NumPy 1.25.0, and will be removed in NumPy 2.0. Please use `prod` instead.\n",
      "  dset.attrs.create('valid_min', data=valid_min)\n",
      "/home/jovyan/isce3/python/packages/nisar/workflows/gcov.py:793: DeprecationWarning: `product` is deprecated as of NumPy 1.25.0, and will be removed in NumPy 2.0. Please use `prod` instead.\n",
      "  dset.attrs.create('valid_max', data=valid_max)\n",
      "\n"
     ]
    },
    {
     "name": "stdout",
     "output_type": "stream",
     "text": [
      "\n",
      "0000435930_001001_ALOS2401471310-211029\n",
      "\n",
      "conda run -n isce3_src /home/jovyan/isce3/share/nisar/examples/alos2_to_nisar_l1.py -i /scratch/alex_eco_test/BONA/ALOS2/0000435930_001001_ALOS2401471310-211029 -o /scratch/alex_eco_test/BONA/ALOS2/0000435930_001001_ALOS2401471310-211029.h5\n"
     ]
    },
    {
     "name": "stderr",
     "output_type": "stream",
     "text": [
      "WARNING: overwriting environment variables set in the machine\n",
      "overwriting variable {'LD_LIBRARY_PATH'}\n",
      "\n"
     ]
    },
    {
     "name": "stdout",
     "output_type": "stream",
     "text": [
      "\n",
      "conda run -n isce3_src /home/jovyan/isce3/python/packages/nisar/workflows/stage_dem.py -p /scratch/alex_eco_test/BONA/ALOS2/0000435930_001001_ALOS2401471310-211029.h5 -o /scratch/alex_eco_test/BONA/DEM/0000435930_001001_ALOS2401471310-211029.vrt\n"
     ]
    },
    {
     "name": "stderr",
     "output_type": "stream",
     "text": [
      "WARNING: overwriting environment variables set in the machine\n",
      "overwriting variable {'LD_LIBRARY_PATH'}\n",
      "\n"
     ]
    },
    {
     "name": "stdout",
     "output_type": "stream",
     "text": [
      "\n",
      "conda run -n isce3_src /home/jovyan/isce3/python/packages/nisar/workflows/gcov.py /scratch/alex_eco_test/BONA/GCOV/0000435930_001001_ALOS2401471310-211029.yaml\n"
     ]
    },
    {
     "name": "stderr",
     "output_type": "stream",
     "text": [
      "WARNING: overwriting environment variables set in the machine\n",
      "overwriting variable {'LD_LIBRARY_PATH'}\n",
      "/home/jovyan/isce3/build/packages/nisar/workflows/h5_prep.py:207: UserWarning: swmr=True only affects read ('r') mode. For swmr write mode, set f.swmr_mode = True after opening the file.\n",
      "  h5py.File(output_hdf5, 'w', libver='latest', swmr=True) as dst_h5:\n",
      "/home/jovyan/isce3/build/packages/nisar/workflows/h5_prep.py:489: UserWarning: swmr=True only affects read ('r') mode. For swmr write mode, set f.swmr_mode = True after opening the file.\n",
      "  with h5py.File(output_hdf5, 'a', libver='latest', swmr=True) as dst_h5:\n",
      "/home/jovyan/isce3/python/packages/nisar/workflows/gcov.py:765: DeprecationWarning: `product` is deprecated as of NumPy 1.25.0, and will be removed in NumPy 2.0. Please use `prod` instead.\n",
      "  dset.attrs.create('_FillValue', data=np.nan)\n",
      "/home/jovyan/isce3/python/packages/nisar/workflows/gcov.py:769: DeprecationWarning: `product` is deprecated as of NumPy 1.25.0, and will be removed in NumPy 2.0. Please use `prod` instead.\n",
      "  dset.attrs.create('min_value', data=stats_obj.min)\n",
      "/home/jovyan/isce3/python/packages/nisar/workflows/gcov.py:770: DeprecationWarning: `product` is deprecated as of NumPy 1.25.0, and will be removed in NumPy 2.0. Please use `prod` instead.\n",
      "  dset.attrs.create('mean_value', data=stats_obj.mean)\n",
      "/home/jovyan/isce3/python/packages/nisar/workflows/gcov.py:771: DeprecationWarning: `product` is deprecated as of NumPy 1.25.0, and will be removed in NumPy 2.0. Please use `prod` instead.\n",
      "  dset.attrs.create('max_value', data=stats_obj.max)\n",
      "/home/jovyan/isce3/python/packages/nisar/workflows/gcov.py:772: DeprecationWarning: `product` is deprecated as of NumPy 1.25.0, and will be removed in NumPy 2.0. Please use `prod` instead.\n",
      "  dset.attrs.create('sample_standard_deviation', data=stats_obj.sample_stddev)\n",
      "/home/jovyan/isce3/python/packages/nisar/workflows/gcov.py:790: DeprecationWarning: `product` is deprecated as of NumPy 1.25.0, and will be removed in NumPy 2.0. Please use `prod` instead.\n",
      "  dset.attrs.create('valid_min', data=valid_min)\n",
      "/home/jovyan/isce3/python/packages/nisar/workflows/gcov.py:793: DeprecationWarning: `product` is deprecated as of NumPy 1.25.0, and will be removed in NumPy 2.0. Please use `prod` instead.\n",
      "  dset.attrs.create('valid_max', data=valid_max)\n",
      "\n"
     ]
    },
    {
     "name": "stdout",
     "output_type": "stream",
     "text": [
      "\n",
      "0000435728_001001_ALOS2389051310-210806\n",
      "\n",
      "conda run -n isce3_src /home/jovyan/isce3/share/nisar/examples/alos2_to_nisar_l1.py -i /scratch/alex_eco_test/BONA/ALOS2/0000435728_001001_ALOS2389051310-210806 -o /scratch/alex_eco_test/BONA/ALOS2/0000435728_001001_ALOS2389051310-210806.h5\n"
     ]
    },
    {
     "name": "stderr",
     "output_type": "stream",
     "text": [
      "WARNING: overwriting environment variables set in the machine\n",
      "overwriting variable {'LD_LIBRARY_PATH'}\n",
      "\n"
     ]
    },
    {
     "name": "stdout",
     "output_type": "stream",
     "text": [
      "\n",
      "conda run -n isce3_src /home/jovyan/isce3/python/packages/nisar/workflows/stage_dem.py -p /scratch/alex_eco_test/BONA/ALOS2/0000435728_001001_ALOS2389051310-210806.h5 -o /scratch/alex_eco_test/BONA/DEM/0000435728_001001_ALOS2389051310-210806.vrt\n"
     ]
    },
    {
     "name": "stderr",
     "output_type": "stream",
     "text": [
      "WARNING: overwriting environment variables set in the machine\n",
      "overwriting variable {'LD_LIBRARY_PATH'}\n",
      "\n"
     ]
    },
    {
     "name": "stdout",
     "output_type": "stream",
     "text": [
      "\n",
      "conda run -n isce3_src /home/jovyan/isce3/python/packages/nisar/workflows/gcov.py /scratch/alex_eco_test/BONA/GCOV/0000435728_001001_ALOS2389051310-210806.yaml\n"
     ]
    },
    {
     "name": "stderr",
     "output_type": "stream",
     "text": [
      "WARNING: overwriting environment variables set in the machine\n",
      "overwriting variable {'LD_LIBRARY_PATH'}\n",
      "/home/jovyan/isce3/build/packages/nisar/workflows/h5_prep.py:207: UserWarning: swmr=True only affects read ('r') mode. For swmr write mode, set f.swmr_mode = True after opening the file.\n",
      "  h5py.File(output_hdf5, 'w', libver='latest', swmr=True) as dst_h5:\n",
      "/home/jovyan/isce3/build/packages/nisar/workflows/h5_prep.py:489: UserWarning: swmr=True only affects read ('r') mode. For swmr write mode, set f.swmr_mode = True after opening the file.\n",
      "  with h5py.File(output_hdf5, 'a', libver='latest', swmr=True) as dst_h5:\n",
      "/home/jovyan/isce3/python/packages/nisar/workflows/gcov.py:765: DeprecationWarning: `product` is deprecated as of NumPy 1.25.0, and will be removed in NumPy 2.0. Please use `prod` instead.\n",
      "  dset.attrs.create('_FillValue', data=np.nan)\n",
      "/home/jovyan/isce3/python/packages/nisar/workflows/gcov.py:769: DeprecationWarning: `product` is deprecated as of NumPy 1.25.0, and will be removed in NumPy 2.0. Please use `prod` instead.\n",
      "  dset.attrs.create('min_value', data=stats_obj.min)\n",
      "/home/jovyan/isce3/python/packages/nisar/workflows/gcov.py:770: DeprecationWarning: `product` is deprecated as of NumPy 1.25.0, and will be removed in NumPy 2.0. Please use `prod` instead.\n",
      "  dset.attrs.create('mean_value', data=stats_obj.mean)\n",
      "/home/jovyan/isce3/python/packages/nisar/workflows/gcov.py:771: DeprecationWarning: `product` is deprecated as of NumPy 1.25.0, and will be removed in NumPy 2.0. Please use `prod` instead.\n",
      "  dset.attrs.create('max_value', data=stats_obj.max)\n",
      "/home/jovyan/isce3/python/packages/nisar/workflows/gcov.py:772: DeprecationWarning: `product` is deprecated as of NumPy 1.25.0, and will be removed in NumPy 2.0. Please use `prod` instead.\n",
      "  dset.attrs.create('sample_standard_deviation', data=stats_obj.sample_stddev)\n",
      "/home/jovyan/isce3/python/packages/nisar/workflows/gcov.py:790: DeprecationWarning: `product` is deprecated as of NumPy 1.25.0, and will be removed in NumPy 2.0. Please use `prod` instead.\n",
      "  dset.attrs.create('valid_min', data=valid_min)\n",
      "/home/jovyan/isce3/python/packages/nisar/workflows/gcov.py:793: DeprecationWarning: `product` is deprecated as of NumPy 1.25.0, and will be removed in NumPy 2.0. Please use `prod` instead.\n",
      "  dset.attrs.create('valid_max', data=valid_max)\n",
      "\n"
     ]
    },
    {
     "name": "stdout",
     "output_type": "stream",
     "text": [
      "\n",
      "0000478639_001001_ALOS2444941300-220819\n",
      "\n",
      "conda run -n isce3_src /home/jovyan/isce3/share/nisar/examples/alos2_to_nisar_l1.py -i /scratch/alex_eco_test/BONA/ALOS2/0000478639_001001_ALOS2444941300-220819 -o /scratch/alex_eco_test/BONA/ALOS2/0000478639_001001_ALOS2444941300-220819.h5\n"
     ]
    },
    {
     "name": "stderr",
     "output_type": "stream",
     "text": [
      "WARNING: overwriting environment variables set in the machine\n",
      "overwriting variable {'LD_LIBRARY_PATH'}\n",
      "\n"
     ]
    },
    {
     "name": "stdout",
     "output_type": "stream",
     "text": [
      "\n",
      "conda run -n isce3_src /home/jovyan/isce3/python/packages/nisar/workflows/stage_dem.py -p /scratch/alex_eco_test/BONA/ALOS2/0000478639_001001_ALOS2444941300-220819.h5 -o /scratch/alex_eco_test/BONA/DEM/0000478639_001001_ALOS2444941300-220819.vrt\n"
     ]
    },
    {
     "name": "stderr",
     "output_type": "stream",
     "text": [
      "WARNING: overwriting environment variables set in the machine\n",
      "overwriting variable {'LD_LIBRARY_PATH'}\n",
      "\n"
     ]
    },
    {
     "name": "stdout",
     "output_type": "stream",
     "text": [
      "\n",
      "conda run -n isce3_src /home/jovyan/isce3/python/packages/nisar/workflows/gcov.py /scratch/alex_eco_test/BONA/GCOV/0000478639_001001_ALOS2444941300-220819.yaml\n"
     ]
    },
    {
     "name": "stderr",
     "output_type": "stream",
     "text": [
      "WARNING: overwriting environment variables set in the machine\n",
      "overwriting variable {'LD_LIBRARY_PATH'}\n",
      "/home/jovyan/isce3/build/packages/nisar/workflows/h5_prep.py:207: UserWarning: swmr=True only affects read ('r') mode. For swmr write mode, set f.swmr_mode = True after opening the file.\n",
      "  h5py.File(output_hdf5, 'w', libver='latest', swmr=True) as dst_h5:\n",
      "/home/jovyan/isce3/build/packages/nisar/workflows/h5_prep.py:489: UserWarning: swmr=True only affects read ('r') mode. For swmr write mode, set f.swmr_mode = True after opening the file.\n",
      "  with h5py.File(output_hdf5, 'a', libver='latest', swmr=True) as dst_h5:\n",
      "/home/jovyan/isce3/python/packages/nisar/workflows/gcov.py:765: DeprecationWarning: `product` is deprecated as of NumPy 1.25.0, and will be removed in NumPy 2.0. Please use `prod` instead.\n",
      "  dset.attrs.create('_FillValue', data=np.nan)\n",
      "/home/jovyan/isce3/python/packages/nisar/workflows/gcov.py:769: DeprecationWarning: `product` is deprecated as of NumPy 1.25.0, and will be removed in NumPy 2.0. Please use `prod` instead.\n",
      "  dset.attrs.create('min_value', data=stats_obj.min)\n",
      "/home/jovyan/isce3/python/packages/nisar/workflows/gcov.py:770: DeprecationWarning: `product` is deprecated as of NumPy 1.25.0, and will be removed in NumPy 2.0. Please use `prod` instead.\n",
      "  dset.attrs.create('mean_value', data=stats_obj.mean)\n",
      "/home/jovyan/isce3/python/packages/nisar/workflows/gcov.py:771: DeprecationWarning: `product` is deprecated as of NumPy 1.25.0, and will be removed in NumPy 2.0. Please use `prod` instead.\n",
      "  dset.attrs.create('max_value', data=stats_obj.max)\n",
      "/home/jovyan/isce3/python/packages/nisar/workflows/gcov.py:772: DeprecationWarning: `product` is deprecated as of NumPy 1.25.0, and will be removed in NumPy 2.0. Please use `prod` instead.\n",
      "  dset.attrs.create('sample_standard_deviation', data=stats_obj.sample_stddev)\n",
      "/home/jovyan/isce3/python/packages/nisar/workflows/gcov.py:790: DeprecationWarning: `product` is deprecated as of NumPy 1.25.0, and will be removed in NumPy 2.0. Please use `prod` instead.\n",
      "  dset.attrs.create('valid_min', data=valid_min)\n",
      "/home/jovyan/isce3/python/packages/nisar/workflows/gcov.py:793: DeprecationWarning: `product` is deprecated as of NumPy 1.25.0, and will be removed in NumPy 2.0. Please use `prod` instead.\n",
      "  dset.attrs.create('valid_max', data=valid_max)\n",
      "\n"
     ]
    },
    {
     "name": "stdout",
     "output_type": "stream",
     "text": [
      "\n",
      "0000522909_001001_ALOS2494621310-230721\n",
      "\n",
      "conda run -n isce3_src /home/jovyan/isce3/share/nisar/examples/alos2_to_nisar_l1.py -i /scratch/alex_eco_test/BONA/ALOS2/0000522909_001001_ALOS2494621310-230721 -o /scratch/alex_eco_test/BONA/ALOS2/0000522909_001001_ALOS2494621310-230721.h5\n"
     ]
    },
    {
     "name": "stderr",
     "output_type": "stream",
     "text": [
      "WARNING: overwriting environment variables set in the machine\n",
      "overwriting variable {'LD_LIBRARY_PATH'}\n",
      "\n"
     ]
    },
    {
     "name": "stdout",
     "output_type": "stream",
     "text": [
      "\n",
      "conda run -n isce3_src /home/jovyan/isce3/python/packages/nisar/workflows/stage_dem.py -p /scratch/alex_eco_test/BONA/ALOS2/0000522909_001001_ALOS2494621310-230721.h5 -o /scratch/alex_eco_test/BONA/DEM/0000522909_001001_ALOS2494621310-230721.vrt\n"
     ]
    },
    {
     "name": "stderr",
     "output_type": "stream",
     "text": [
      "WARNING: overwriting environment variables set in the machine\n",
      "overwriting variable {'LD_LIBRARY_PATH'}\n",
      "\n"
     ]
    },
    {
     "name": "stdout",
     "output_type": "stream",
     "text": [
      "\n",
      "conda run -n isce3_src /home/jovyan/isce3/python/packages/nisar/workflows/gcov.py /scratch/alex_eco_test/BONA/GCOV/0000522909_001001_ALOS2494621310-230721.yaml\n"
     ]
    },
    {
     "name": "stderr",
     "output_type": "stream",
     "text": [
      "WARNING: overwriting environment variables set in the machine\n",
      "overwriting variable {'LD_LIBRARY_PATH'}\n",
      "/home/jovyan/isce3/build/packages/nisar/workflows/h5_prep.py:207: UserWarning: swmr=True only affects read ('r') mode. For swmr write mode, set f.swmr_mode = True after opening the file.\n",
      "  h5py.File(output_hdf5, 'w', libver='latest', swmr=True) as dst_h5:\n",
      "/home/jovyan/isce3/build/packages/nisar/workflows/h5_prep.py:489: UserWarning: swmr=True only affects read ('r') mode. For swmr write mode, set f.swmr_mode = True after opening the file.\n",
      "  with h5py.File(output_hdf5, 'a', libver='latest', swmr=True) as dst_h5:\n",
      "/home/jovyan/isce3/python/packages/nisar/workflows/gcov.py:765: DeprecationWarning: `product` is deprecated as of NumPy 1.25.0, and will be removed in NumPy 2.0. Please use `prod` instead.\n",
      "  dset.attrs.create('_FillValue', data=np.nan)\n",
      "/home/jovyan/isce3/python/packages/nisar/workflows/gcov.py:769: DeprecationWarning: `product` is deprecated as of NumPy 1.25.0, and will be removed in NumPy 2.0. Please use `prod` instead.\n",
      "  dset.attrs.create('min_value', data=stats_obj.min)\n",
      "/home/jovyan/isce3/python/packages/nisar/workflows/gcov.py:770: DeprecationWarning: `product` is deprecated as of NumPy 1.25.0, and will be removed in NumPy 2.0. Please use `prod` instead.\n",
      "  dset.attrs.create('mean_value', data=stats_obj.mean)\n",
      "/home/jovyan/isce3/python/packages/nisar/workflows/gcov.py:771: DeprecationWarning: `product` is deprecated as of NumPy 1.25.0, and will be removed in NumPy 2.0. Please use `prod` instead.\n",
      "  dset.attrs.create('max_value', data=stats_obj.max)\n",
      "/home/jovyan/isce3/python/packages/nisar/workflows/gcov.py:772: DeprecationWarning: `product` is deprecated as of NumPy 1.25.0, and will be removed in NumPy 2.0. Please use `prod` instead.\n",
      "  dset.attrs.create('sample_standard_deviation', data=stats_obj.sample_stddev)\n",
      "/home/jovyan/isce3/python/packages/nisar/workflows/gcov.py:790: DeprecationWarning: `product` is deprecated as of NumPy 1.25.0, and will be removed in NumPy 2.0. Please use `prod` instead.\n",
      "  dset.attrs.create('valid_min', data=valid_min)\n",
      "/home/jovyan/isce3/python/packages/nisar/workflows/gcov.py:793: DeprecationWarning: `product` is deprecated as of NumPy 1.25.0, and will be removed in NumPy 2.0. Please use `prod` instead.\n",
      "  dset.attrs.create('valid_max', data=valid_max)\n",
      "\n"
     ]
    },
    {
     "name": "stdout",
     "output_type": "stream",
     "text": [
      "\n",
      "0000525211_001001_ALOS2496691310-230804\n",
      "\n",
      "conda run -n isce3_src /home/jovyan/isce3/share/nisar/examples/alos2_to_nisar_l1.py -i /scratch/alex_eco_test/BONA/ALOS2/0000525211_001001_ALOS2496691310-230804 -o /scratch/alex_eco_test/BONA/ALOS2/0000525211_001001_ALOS2496691310-230804.h5\n"
     ]
    },
    {
     "name": "stderr",
     "output_type": "stream",
     "text": [
      "WARNING: overwriting environment variables set in the machine\n",
      "overwriting variable {'LD_LIBRARY_PATH'}\n",
      "\n"
     ]
    },
    {
     "name": "stdout",
     "output_type": "stream",
     "text": [
      "\n",
      "conda run -n isce3_src /home/jovyan/isce3/python/packages/nisar/workflows/stage_dem.py -p /scratch/alex_eco_test/BONA/ALOS2/0000525211_001001_ALOS2496691310-230804.h5 -o /scratch/alex_eco_test/BONA/DEM/0000525211_001001_ALOS2496691310-230804.vrt\n"
     ]
    },
    {
     "name": "stderr",
     "output_type": "stream",
     "text": [
      "WARNING: overwriting environment variables set in the machine\n",
      "overwriting variable {'LD_LIBRARY_PATH'}\n",
      "\n"
     ]
    },
    {
     "name": "stdout",
     "output_type": "stream",
     "text": [
      "\n",
      "conda run -n isce3_src /home/jovyan/isce3/python/packages/nisar/workflows/gcov.py /scratch/alex_eco_test/BONA/GCOV/0000525211_001001_ALOS2496691310-230804.yaml\n"
     ]
    },
    {
     "name": "stderr",
     "output_type": "stream",
     "text": [
      "WARNING: overwriting environment variables set in the machine\n",
      "overwriting variable {'LD_LIBRARY_PATH'}\n",
      "/home/jovyan/isce3/build/packages/nisar/workflows/h5_prep.py:207: UserWarning: swmr=True only affects read ('r') mode. For swmr write mode, set f.swmr_mode = True after opening the file.\n",
      "  h5py.File(output_hdf5, 'w', libver='latest', swmr=True) as dst_h5:\n",
      "/home/jovyan/isce3/build/packages/nisar/workflows/h5_prep.py:489: UserWarning: swmr=True only affects read ('r') mode. For swmr write mode, set f.swmr_mode = True after opening the file.\n",
      "  with h5py.File(output_hdf5, 'a', libver='latest', swmr=True) as dst_h5:\n",
      "/home/jovyan/isce3/python/packages/nisar/workflows/gcov.py:765: DeprecationWarning: `product` is deprecated as of NumPy 1.25.0, and will be removed in NumPy 2.0. Please use `prod` instead.\n",
      "  dset.attrs.create('_FillValue', data=np.nan)\n",
      "/home/jovyan/isce3/python/packages/nisar/workflows/gcov.py:769: DeprecationWarning: `product` is deprecated as of NumPy 1.25.0, and will be removed in NumPy 2.0. Please use `prod` instead.\n",
      "  dset.attrs.create('min_value', data=stats_obj.min)\n",
      "/home/jovyan/isce3/python/packages/nisar/workflows/gcov.py:770: DeprecationWarning: `product` is deprecated as of NumPy 1.25.0, and will be removed in NumPy 2.0. Please use `prod` instead.\n",
      "  dset.attrs.create('mean_value', data=stats_obj.mean)\n",
      "/home/jovyan/isce3/python/packages/nisar/workflows/gcov.py:771: DeprecationWarning: `product` is deprecated as of NumPy 1.25.0, and will be removed in NumPy 2.0. Please use `prod` instead.\n",
      "  dset.attrs.create('max_value', data=stats_obj.max)\n",
      "/home/jovyan/isce3/python/packages/nisar/workflows/gcov.py:772: DeprecationWarning: `product` is deprecated as of NumPy 1.25.0, and will be removed in NumPy 2.0. Please use `prod` instead.\n",
      "  dset.attrs.create('sample_standard_deviation', data=stats_obj.sample_stddev)\n",
      "/home/jovyan/isce3/python/packages/nisar/workflows/gcov.py:790: DeprecationWarning: `product` is deprecated as of NumPy 1.25.0, and will be removed in NumPy 2.0. Please use `prod` instead.\n",
      "  dset.attrs.create('valid_min', data=valid_min)\n",
      "/home/jovyan/isce3/python/packages/nisar/workflows/gcov.py:793: DeprecationWarning: `product` is deprecated as of NumPy 1.25.0, and will be removed in NumPy 2.0. Please use `prod` instead.\n",
      "  dset.attrs.create('valid_max', data=valid_max)\n",
      "\n"
     ]
    },
    {
     "name": "stdout",
     "output_type": "stream",
     "text": [
      "\n",
      "0000525212_001001_ALOS2496691300-230804\n",
      "\n",
      "conda run -n isce3_src /home/jovyan/isce3/share/nisar/examples/alos2_to_nisar_l1.py -i /scratch/alex_eco_test/BONA/ALOS2/0000525212_001001_ALOS2496691300-230804 -o /scratch/alex_eco_test/BONA/ALOS2/0000525212_001001_ALOS2496691300-230804.h5\n"
     ]
    },
    {
     "name": "stderr",
     "output_type": "stream",
     "text": [
      "WARNING: overwriting environment variables set in the machine\n",
      "overwriting variable {'LD_LIBRARY_PATH'}\n",
      "\n"
     ]
    },
    {
     "name": "stdout",
     "output_type": "stream",
     "text": [
      "\n",
      "conda run -n isce3_src /home/jovyan/isce3/python/packages/nisar/workflows/stage_dem.py -p /scratch/alex_eco_test/BONA/ALOS2/0000525212_001001_ALOS2496691300-230804.h5 -o /scratch/alex_eco_test/BONA/DEM/0000525212_001001_ALOS2496691300-230804.vrt\n"
     ]
    },
    {
     "name": "stderr",
     "output_type": "stream",
     "text": [
      "WARNING: overwriting environment variables set in the machine\n",
      "overwriting variable {'LD_LIBRARY_PATH'}\n",
      "\n"
     ]
    },
    {
     "name": "stdout",
     "output_type": "stream",
     "text": [
      "\n",
      "conda run -n isce3_src /home/jovyan/isce3/python/packages/nisar/workflows/gcov.py /scratch/alex_eco_test/BONA/GCOV/0000525212_001001_ALOS2496691300-230804.yaml\n"
     ]
    },
    {
     "name": "stderr",
     "output_type": "stream",
     "text": [
      "WARNING: overwriting environment variables set in the machine\n",
      "overwriting variable {'LD_LIBRARY_PATH'}\n",
      "/home/jovyan/isce3/build/packages/nisar/workflows/h5_prep.py:207: UserWarning: swmr=True only affects read ('r') mode. For swmr write mode, set f.swmr_mode = True after opening the file.\n",
      "  h5py.File(output_hdf5, 'w', libver='latest', swmr=True) as dst_h5:\n",
      "/home/jovyan/isce3/build/packages/nisar/workflows/h5_prep.py:489: UserWarning: swmr=True only affects read ('r') mode. For swmr write mode, set f.swmr_mode = True after opening the file.\n",
      "  with h5py.File(output_hdf5, 'a', libver='latest', swmr=True) as dst_h5:\n",
      "/home/jovyan/isce3/python/packages/nisar/workflows/gcov.py:765: DeprecationWarning: `product` is deprecated as of NumPy 1.25.0, and will be removed in NumPy 2.0. Please use `prod` instead.\n",
      "  dset.attrs.create('_FillValue', data=np.nan)\n",
      "/home/jovyan/isce3/python/packages/nisar/workflows/gcov.py:769: DeprecationWarning: `product` is deprecated as of NumPy 1.25.0, and will be removed in NumPy 2.0. Please use `prod` instead.\n",
      "  dset.attrs.create('min_value', data=stats_obj.min)\n",
      "/home/jovyan/isce3/python/packages/nisar/workflows/gcov.py:770: DeprecationWarning: `product` is deprecated as of NumPy 1.25.0, and will be removed in NumPy 2.0. Please use `prod` instead.\n",
      "  dset.attrs.create('mean_value', data=stats_obj.mean)\n",
      "/home/jovyan/isce3/python/packages/nisar/workflows/gcov.py:771: DeprecationWarning: `product` is deprecated as of NumPy 1.25.0, and will be removed in NumPy 2.0. Please use `prod` instead.\n",
      "  dset.attrs.create('max_value', data=stats_obj.max)\n",
      "/home/jovyan/isce3/python/packages/nisar/workflows/gcov.py:772: DeprecationWarning: `product` is deprecated as of NumPy 1.25.0, and will be removed in NumPy 2.0. Please use `prod` instead.\n",
      "  dset.attrs.create('sample_standard_deviation', data=stats_obj.sample_stddev)\n",
      "/home/jovyan/isce3/python/packages/nisar/workflows/gcov.py:790: DeprecationWarning: `product` is deprecated as of NumPy 1.25.0, and will be removed in NumPy 2.0. Please use `prod` instead.\n",
      "  dset.attrs.create('valid_min', data=valid_min)\n",
      "/home/jovyan/isce3/python/packages/nisar/workflows/gcov.py:793: DeprecationWarning: `product` is deprecated as of NumPy 1.25.0, and will be removed in NumPy 2.0. Please use `prod` instead.\n",
      "  dset.attrs.create('valid_max', data=valid_max)\n",
      "\n"
     ]
    },
    {
     "name": "stdout",
     "output_type": "stream",
     "text": [
      "\n",
      "0000478638_001001_ALOS2444941310-220819\n",
      "\n",
      "conda run -n isce3_src /home/jovyan/isce3/share/nisar/examples/alos2_to_nisar_l1.py -i /scratch/alex_eco_test/BONA/ALOS2/0000478638_001001_ALOS2444941310-220819 -o /scratch/alex_eco_test/BONA/ALOS2/0000478638_001001_ALOS2444941310-220819.h5\n"
     ]
    },
    {
     "name": "stderr",
     "output_type": "stream",
     "text": [
      "WARNING: overwriting environment variables set in the machine\n",
      "overwriting variable {'LD_LIBRARY_PATH'}\n",
      "\n"
     ]
    },
    {
     "name": "stdout",
     "output_type": "stream",
     "text": [
      "\n",
      "conda run -n isce3_src /home/jovyan/isce3/python/packages/nisar/workflows/stage_dem.py -p /scratch/alex_eco_test/BONA/ALOS2/0000478638_001001_ALOS2444941310-220819.h5 -o /scratch/alex_eco_test/BONA/DEM/0000478638_001001_ALOS2444941310-220819.vrt\n"
     ]
    },
    {
     "name": "stderr",
     "output_type": "stream",
     "text": [
      "WARNING: overwriting environment variables set in the machine\n",
      "overwriting variable {'LD_LIBRARY_PATH'}\n",
      "\n"
     ]
    },
    {
     "name": "stdout",
     "output_type": "stream",
     "text": [
      "\n",
      "conda run -n isce3_src /home/jovyan/isce3/python/packages/nisar/workflows/gcov.py /scratch/alex_eco_test/BONA/GCOV/0000478638_001001_ALOS2444941310-220819.yaml\n"
     ]
    },
    {
     "name": "stderr",
     "output_type": "stream",
     "text": [
      "WARNING: overwriting environment variables set in the machine\n",
      "overwriting variable {'LD_LIBRARY_PATH'}\n",
      "/home/jovyan/isce3/build/packages/nisar/workflows/h5_prep.py:207: UserWarning: swmr=True only affects read ('r') mode. For swmr write mode, set f.swmr_mode = True after opening the file.\n",
      "  h5py.File(output_hdf5, 'w', libver='latest', swmr=True) as dst_h5:\n",
      "/home/jovyan/isce3/build/packages/nisar/workflows/h5_prep.py:489: UserWarning: swmr=True only affects read ('r') mode. For swmr write mode, set f.swmr_mode = True after opening the file.\n",
      "  with h5py.File(output_hdf5, 'a', libver='latest', swmr=True) as dst_h5:\n",
      "/home/jovyan/isce3/python/packages/nisar/workflows/gcov.py:765: DeprecationWarning: `product` is deprecated as of NumPy 1.25.0, and will be removed in NumPy 2.0. Please use `prod` instead.\n",
      "  dset.attrs.create('_FillValue', data=np.nan)\n",
      "/home/jovyan/isce3/python/packages/nisar/workflows/gcov.py:769: DeprecationWarning: `product` is deprecated as of NumPy 1.25.0, and will be removed in NumPy 2.0. Please use `prod` instead.\n",
      "  dset.attrs.create('min_value', data=stats_obj.min)\n",
      "/home/jovyan/isce3/python/packages/nisar/workflows/gcov.py:770: DeprecationWarning: `product` is deprecated as of NumPy 1.25.0, and will be removed in NumPy 2.0. Please use `prod` instead.\n",
      "  dset.attrs.create('mean_value', data=stats_obj.mean)\n",
      "/home/jovyan/isce3/python/packages/nisar/workflows/gcov.py:771: DeprecationWarning: `product` is deprecated as of NumPy 1.25.0, and will be removed in NumPy 2.0. Please use `prod` instead.\n",
      "  dset.attrs.create('max_value', data=stats_obj.max)\n",
      "/home/jovyan/isce3/python/packages/nisar/workflows/gcov.py:772: DeprecationWarning: `product` is deprecated as of NumPy 1.25.0, and will be removed in NumPy 2.0. Please use `prod` instead.\n",
      "  dset.attrs.create('sample_standard_deviation', data=stats_obj.sample_stddev)\n",
      "/home/jovyan/isce3/python/packages/nisar/workflows/gcov.py:790: DeprecationWarning: `product` is deprecated as of NumPy 1.25.0, and will be removed in NumPy 2.0. Please use `prod` instead.\n",
      "  dset.attrs.create('valid_min', data=valid_min)\n",
      "/home/jovyan/isce3/python/packages/nisar/workflows/gcov.py:793: DeprecationWarning: `product` is deprecated as of NumPy 1.25.0, and will be removed in NumPy 2.0. Please use `prod` instead.\n",
      "  dset.attrs.create('valid_max', data=valid_max)\n",
      "\n"
     ]
    },
    {
     "name": "stdout",
     "output_type": "stream",
     "text": [
      "\n",
      "0000472562_001001_ALOS2434591310-220610\n",
      "\n",
      "conda run -n isce3_src /home/jovyan/isce3/share/nisar/examples/alos2_to_nisar_l1.py -i /scratch/alex_eco_test/BONA/ALOS2/0000472562_001001_ALOS2434591310-220610 -o /scratch/alex_eco_test/BONA/ALOS2/0000472562_001001_ALOS2434591310-220610.h5\n"
     ]
    },
    {
     "name": "stderr",
     "output_type": "stream",
     "text": [
      "WARNING: overwriting environment variables set in the machine\n",
      "overwriting variable {'LD_LIBRARY_PATH'}\n",
      "\n"
     ]
    },
    {
     "name": "stdout",
     "output_type": "stream",
     "text": [
      "\n",
      "conda run -n isce3_src /home/jovyan/isce3/python/packages/nisar/workflows/stage_dem.py -p /scratch/alex_eco_test/BONA/ALOS2/0000472562_001001_ALOS2434591310-220610.h5 -o /scratch/alex_eco_test/BONA/DEM/0000472562_001001_ALOS2434591310-220610.vrt\n"
     ]
    },
    {
     "name": "stderr",
     "output_type": "stream",
     "text": [
      "WARNING: overwriting environment variables set in the machine\n",
      "overwriting variable {'LD_LIBRARY_PATH'}\n",
      "\n"
     ]
    },
    {
     "name": "stdout",
     "output_type": "stream",
     "text": [
      "\n",
      "conda run -n isce3_src /home/jovyan/isce3/python/packages/nisar/workflows/gcov.py /scratch/alex_eco_test/BONA/GCOV/0000472562_001001_ALOS2434591310-220610.yaml\n"
     ]
    },
    {
     "name": "stderr",
     "output_type": "stream",
     "text": [
      "WARNING: overwriting environment variables set in the machine\n",
      "overwriting variable {'LD_LIBRARY_PATH'}\n",
      "/home/jovyan/isce3/build/packages/nisar/workflows/h5_prep.py:207: UserWarning: swmr=True only affects read ('r') mode. For swmr write mode, set f.swmr_mode = True after opening the file.\n",
      "  h5py.File(output_hdf5, 'w', libver='latest', swmr=True) as dst_h5:\n",
      "/home/jovyan/isce3/build/packages/nisar/workflows/h5_prep.py:489: UserWarning: swmr=True only affects read ('r') mode. For swmr write mode, set f.swmr_mode = True after opening the file.\n",
      "  with h5py.File(output_hdf5, 'a', libver='latest', swmr=True) as dst_h5:\n",
      "/home/jovyan/isce3/python/packages/nisar/workflows/gcov.py:765: DeprecationWarning: `product` is deprecated as of NumPy 1.25.0, and will be removed in NumPy 2.0. Please use `prod` instead.\n",
      "  dset.attrs.create('_FillValue', data=np.nan)\n",
      "/home/jovyan/isce3/python/packages/nisar/workflows/gcov.py:769: DeprecationWarning: `product` is deprecated as of NumPy 1.25.0, and will be removed in NumPy 2.0. Please use `prod` instead.\n",
      "  dset.attrs.create('min_value', data=stats_obj.min)\n",
      "/home/jovyan/isce3/python/packages/nisar/workflows/gcov.py:770: DeprecationWarning: `product` is deprecated as of NumPy 1.25.0, and will be removed in NumPy 2.0. Please use `prod` instead.\n",
      "  dset.attrs.create('mean_value', data=stats_obj.mean)\n",
      "/home/jovyan/isce3/python/packages/nisar/workflows/gcov.py:771: DeprecationWarning: `product` is deprecated as of NumPy 1.25.0, and will be removed in NumPy 2.0. Please use `prod` instead.\n",
      "  dset.attrs.create('max_value', data=stats_obj.max)\n",
      "/home/jovyan/isce3/python/packages/nisar/workflows/gcov.py:772: DeprecationWarning: `product` is deprecated as of NumPy 1.25.0, and will be removed in NumPy 2.0. Please use `prod` instead.\n",
      "  dset.attrs.create('sample_standard_deviation', data=stats_obj.sample_stddev)\n",
      "/home/jovyan/isce3/python/packages/nisar/workflows/gcov.py:790: DeprecationWarning: `product` is deprecated as of NumPy 1.25.0, and will be removed in NumPy 2.0. Please use `prod` instead.\n",
      "  dset.attrs.create('valid_min', data=valid_min)\n",
      "/home/jovyan/isce3/python/packages/nisar/workflows/gcov.py:793: DeprecationWarning: `product` is deprecated as of NumPy 1.25.0, and will be removed in NumPy 2.0. Please use `prod` instead.\n",
      "  dset.attrs.create('valid_max', data=valid_max)\n",
      "\n"
     ]
    },
    {
     "name": "stdout",
     "output_type": "stream",
     "text": [
      "\n",
      "0000435929_001001_ALOS2401471300-211029\n",
      "\n",
      "conda run -n isce3_src /home/jovyan/isce3/share/nisar/examples/alos2_to_nisar_l1.py -i /scratch/alex_eco_test/BONA/ALOS2/0000435929_001001_ALOS2401471300-211029 -o /scratch/alex_eco_test/BONA/ALOS2/0000435929_001001_ALOS2401471300-211029.h5\n"
     ]
    },
    {
     "name": "stderr",
     "output_type": "stream",
     "text": [
      "WARNING: overwriting environment variables set in the machine\n",
      "overwriting variable {'LD_LIBRARY_PATH'}\n",
      "\n"
     ]
    },
    {
     "name": "stdout",
     "output_type": "stream",
     "text": [
      "\n",
      "conda run -n isce3_src /home/jovyan/isce3/python/packages/nisar/workflows/stage_dem.py -p /scratch/alex_eco_test/BONA/ALOS2/0000435929_001001_ALOS2401471300-211029.h5 -o /scratch/alex_eco_test/BONA/DEM/0000435929_001001_ALOS2401471300-211029.vrt\n"
     ]
    },
    {
     "name": "stderr",
     "output_type": "stream",
     "text": [
      "WARNING: overwriting environment variables set in the machine\n",
      "overwriting variable {'LD_LIBRARY_PATH'}\n",
      "\n"
     ]
    },
    {
     "name": "stdout",
     "output_type": "stream",
     "text": [
      "\n",
      "conda run -n isce3_src /home/jovyan/isce3/python/packages/nisar/workflows/gcov.py /scratch/alex_eco_test/BONA/GCOV/0000435929_001001_ALOS2401471300-211029.yaml\n"
     ]
    },
    {
     "name": "stderr",
     "output_type": "stream",
     "text": [
      "WARNING: overwriting environment variables set in the machine\n",
      "overwriting variable {'LD_LIBRARY_PATH'}\n",
      "/home/jovyan/isce3/build/packages/nisar/workflows/h5_prep.py:207: UserWarning: swmr=True only affects read ('r') mode. For swmr write mode, set f.swmr_mode = True after opening the file.\n",
      "  h5py.File(output_hdf5, 'w', libver='latest', swmr=True) as dst_h5:\n",
      "/home/jovyan/isce3/build/packages/nisar/workflows/h5_prep.py:489: UserWarning: swmr=True only affects read ('r') mode. For swmr write mode, set f.swmr_mode = True after opening the file.\n",
      "  with h5py.File(output_hdf5, 'a', libver='latest', swmr=True) as dst_h5:\n",
      "/home/jovyan/isce3/python/packages/nisar/workflows/gcov.py:765: DeprecationWarning: `product` is deprecated as of NumPy 1.25.0, and will be removed in NumPy 2.0. Please use `prod` instead.\n",
      "  dset.attrs.create('_FillValue', data=np.nan)\n",
      "/home/jovyan/isce3/python/packages/nisar/workflows/gcov.py:769: DeprecationWarning: `product` is deprecated as of NumPy 1.25.0, and will be removed in NumPy 2.0. Please use `prod` instead.\n",
      "  dset.attrs.create('min_value', data=stats_obj.min)\n",
      "/home/jovyan/isce3/python/packages/nisar/workflows/gcov.py:770: DeprecationWarning: `product` is deprecated as of NumPy 1.25.0, and will be removed in NumPy 2.0. Please use `prod` instead.\n",
      "  dset.attrs.create('mean_value', data=stats_obj.mean)\n",
      "/home/jovyan/isce3/python/packages/nisar/workflows/gcov.py:771: DeprecationWarning: `product` is deprecated as of NumPy 1.25.0, and will be removed in NumPy 2.0. Please use `prod` instead.\n",
      "  dset.attrs.create('max_value', data=stats_obj.max)\n",
      "/home/jovyan/isce3/python/packages/nisar/workflows/gcov.py:772: DeprecationWarning: `product` is deprecated as of NumPy 1.25.0, and will be removed in NumPy 2.0. Please use `prod` instead.\n",
      "  dset.attrs.create('sample_standard_deviation', data=stats_obj.sample_stddev)\n",
      "/home/jovyan/isce3/python/packages/nisar/workflows/gcov.py:790: DeprecationWarning: `product` is deprecated as of NumPy 1.25.0, and will be removed in NumPy 2.0. Please use `prod` instead.\n",
      "  dset.attrs.create('valid_min', data=valid_min)\n",
      "/home/jovyan/isce3/python/packages/nisar/workflows/gcov.py:793: DeprecationWarning: `product` is deprecated as of NumPy 1.25.0, and will be removed in NumPy 2.0. Please use `prod` instead.\n",
      "  dset.attrs.create('valid_max', data=valid_max)\n",
      "\n"
     ]
    },
    {
     "name": "stdout",
     "output_type": "stream",
     "text": [
      "\n",
      "0000435895_001001_ALOS2395261300-210917\n",
      "\n",
      "conda run -n isce3_src /home/jovyan/isce3/share/nisar/examples/alos2_to_nisar_l1.py -i /scratch/alex_eco_test/BONA/ALOS2/0000435895_001001_ALOS2395261300-210917 -o /scratch/alex_eco_test/BONA/ALOS2/0000435895_001001_ALOS2395261300-210917.h5\n"
     ]
    },
    {
     "name": "stderr",
     "output_type": "stream",
     "text": [
      "WARNING: overwriting environment variables set in the machine\n",
      "overwriting variable {'LD_LIBRARY_PATH'}\n",
      "\n"
     ]
    },
    {
     "name": "stdout",
     "output_type": "stream",
     "text": [
      "\n",
      "conda run -n isce3_src /home/jovyan/isce3/python/packages/nisar/workflows/stage_dem.py -p /scratch/alex_eco_test/BONA/ALOS2/0000435895_001001_ALOS2395261300-210917.h5 -o /scratch/alex_eco_test/BONA/DEM/0000435895_001001_ALOS2395261300-210917.vrt\n"
     ]
    },
    {
     "name": "stderr",
     "output_type": "stream",
     "text": [
      "WARNING: overwriting environment variables set in the machine\n",
      "overwriting variable {'LD_LIBRARY_PATH'}\n",
      "\n"
     ]
    },
    {
     "name": "stdout",
     "output_type": "stream",
     "text": [
      "\n",
      "conda run -n isce3_src /home/jovyan/isce3/python/packages/nisar/workflows/gcov.py /scratch/alex_eco_test/BONA/GCOV/0000435895_001001_ALOS2395261300-210917.yaml\n"
     ]
    },
    {
     "name": "stderr",
     "output_type": "stream",
     "text": [
      "WARNING: overwriting environment variables set in the machine\n",
      "overwriting variable {'LD_LIBRARY_PATH'}\n",
      "/home/jovyan/isce3/build/packages/nisar/workflows/h5_prep.py:207: UserWarning: swmr=True only affects read ('r') mode. For swmr write mode, set f.swmr_mode = True after opening the file.\n",
      "  h5py.File(output_hdf5, 'w', libver='latest', swmr=True) as dst_h5:\n",
      "/home/jovyan/isce3/build/packages/nisar/workflows/h5_prep.py:489: UserWarning: swmr=True only affects read ('r') mode. For swmr write mode, set f.swmr_mode = True after opening the file.\n",
      "  with h5py.File(output_hdf5, 'a', libver='latest', swmr=True) as dst_h5:\n",
      "/home/jovyan/isce3/python/packages/nisar/workflows/gcov.py:765: DeprecationWarning: `product` is deprecated as of NumPy 1.25.0, and will be removed in NumPy 2.0. Please use `prod` instead.\n",
      "  dset.attrs.create('_FillValue', data=np.nan)\n",
      "/home/jovyan/isce3/python/packages/nisar/workflows/gcov.py:769: DeprecationWarning: `product` is deprecated as of NumPy 1.25.0, and will be removed in NumPy 2.0. Please use `prod` instead.\n",
      "  dset.attrs.create('min_value', data=stats_obj.min)\n",
      "/home/jovyan/isce3/python/packages/nisar/workflows/gcov.py:770: DeprecationWarning: `product` is deprecated as of NumPy 1.25.0, and will be removed in NumPy 2.0. Please use `prod` instead.\n",
      "  dset.attrs.create('mean_value', data=stats_obj.mean)\n",
      "/home/jovyan/isce3/python/packages/nisar/workflows/gcov.py:771: DeprecationWarning: `product` is deprecated as of NumPy 1.25.0, and will be removed in NumPy 2.0. Please use `prod` instead.\n",
      "  dset.attrs.create('max_value', data=stats_obj.max)\n",
      "/home/jovyan/isce3/python/packages/nisar/workflows/gcov.py:772: DeprecationWarning: `product` is deprecated as of NumPy 1.25.0, and will be removed in NumPy 2.0. Please use `prod` instead.\n",
      "  dset.attrs.create('sample_standard_deviation', data=stats_obj.sample_stddev)\n",
      "/home/jovyan/isce3/python/packages/nisar/workflows/gcov.py:790: DeprecationWarning: `product` is deprecated as of NumPy 1.25.0, and will be removed in NumPy 2.0. Please use `prod` instead.\n",
      "  dset.attrs.create('valid_min', data=valid_min)\n",
      "/home/jovyan/isce3/python/packages/nisar/workflows/gcov.py:793: DeprecationWarning: `product` is deprecated as of NumPy 1.25.0, and will be removed in NumPy 2.0. Please use `prod` instead.\n",
      "  dset.attrs.create('valid_max', data=valid_max)\n",
      "\n"
     ]
    },
    {
     "name": "stdout",
     "output_type": "stream",
     "text": [
      "\n",
      "0000435894_001001_ALOS2395261310-210917\n",
      "\n",
      "conda run -n isce3_src /home/jovyan/isce3/share/nisar/examples/alos2_to_nisar_l1.py -i /scratch/alex_eco_test/BONA/ALOS2/0000435894_001001_ALOS2395261310-210917 -o /scratch/alex_eco_test/BONA/ALOS2/0000435894_001001_ALOS2395261310-210917.h5\n"
     ]
    },
    {
     "name": "stderr",
     "output_type": "stream",
     "text": [
      "WARNING: overwriting environment variables set in the machine\n",
      "overwriting variable {'LD_LIBRARY_PATH'}\n",
      "\n"
     ]
    },
    {
     "name": "stdout",
     "output_type": "stream",
     "text": [
      "\n",
      "conda run -n isce3_src /home/jovyan/isce3/python/packages/nisar/workflows/stage_dem.py -p /scratch/alex_eco_test/BONA/ALOS2/0000435894_001001_ALOS2395261310-210917.h5 -o /scratch/alex_eco_test/BONA/DEM/0000435894_001001_ALOS2395261310-210917.vrt\n"
     ]
    },
    {
     "name": "stderr",
     "output_type": "stream",
     "text": [
      "WARNING: overwriting environment variables set in the machine\n",
      "overwriting variable {'LD_LIBRARY_PATH'}\n",
      "\n"
     ]
    },
    {
     "name": "stdout",
     "output_type": "stream",
     "text": [
      "\n",
      "conda run -n isce3_src /home/jovyan/isce3/python/packages/nisar/workflows/gcov.py /scratch/alex_eco_test/BONA/GCOV/0000435894_001001_ALOS2395261310-210917.yaml\n"
     ]
    },
    {
     "name": "stderr",
     "output_type": "stream",
     "text": [
      "WARNING: overwriting environment variables set in the machine\n",
      "overwriting variable {'LD_LIBRARY_PATH'}\n",
      "/home/jovyan/isce3/build/packages/nisar/workflows/h5_prep.py:207: UserWarning: swmr=True only affects read ('r') mode. For swmr write mode, set f.swmr_mode = True after opening the file.\n",
      "  h5py.File(output_hdf5, 'w', libver='latest', swmr=True) as dst_h5:\n",
      "/home/jovyan/isce3/build/packages/nisar/workflows/h5_prep.py:489: UserWarning: swmr=True only affects read ('r') mode. For swmr write mode, set f.swmr_mode = True after opening the file.\n",
      "  with h5py.File(output_hdf5, 'a', libver='latest', swmr=True) as dst_h5:\n",
      "/home/jovyan/isce3/python/packages/nisar/workflows/gcov.py:765: DeprecationWarning: `product` is deprecated as of NumPy 1.25.0, and will be removed in NumPy 2.0. Please use `prod` instead.\n",
      "  dset.attrs.create('_FillValue', data=np.nan)\n",
      "/home/jovyan/isce3/python/packages/nisar/workflows/gcov.py:769: DeprecationWarning: `product` is deprecated as of NumPy 1.25.0, and will be removed in NumPy 2.0. Please use `prod` instead.\n",
      "  dset.attrs.create('min_value', data=stats_obj.min)\n",
      "/home/jovyan/isce3/python/packages/nisar/workflows/gcov.py:770: DeprecationWarning: `product` is deprecated as of NumPy 1.25.0, and will be removed in NumPy 2.0. Please use `prod` instead.\n",
      "  dset.attrs.create('mean_value', data=stats_obj.mean)\n",
      "/home/jovyan/isce3/python/packages/nisar/workflows/gcov.py:771: DeprecationWarning: `product` is deprecated as of NumPy 1.25.0, and will be removed in NumPy 2.0. Please use `prod` instead.\n",
      "  dset.attrs.create('max_value', data=stats_obj.max)\n",
      "/home/jovyan/isce3/python/packages/nisar/workflows/gcov.py:772: DeprecationWarning: `product` is deprecated as of NumPy 1.25.0, and will be removed in NumPy 2.0. Please use `prod` instead.\n",
      "  dset.attrs.create('sample_standard_deviation', data=stats_obj.sample_stddev)\n",
      "/home/jovyan/isce3/python/packages/nisar/workflows/gcov.py:790: DeprecationWarning: `product` is deprecated as of NumPy 1.25.0, and will be removed in NumPy 2.0. Please use `prod` instead.\n",
      "  dset.attrs.create('valid_min', data=valid_min)\n",
      "/home/jovyan/isce3/python/packages/nisar/workflows/gcov.py:793: DeprecationWarning: `product` is deprecated as of NumPy 1.25.0, and will be removed in NumPy 2.0. Please use `prod` instead.\n",
      "  dset.attrs.create('valid_max', data=valid_max)\n",
      "\n"
     ]
    },
    {
     "name": "stdout",
     "output_type": "stream",
     "text": [
      "\n",
      "0000435832_001001_ALOS2391121310-210820\n",
      "\n",
      "conda run -n isce3_src /home/jovyan/isce3/share/nisar/examples/alos2_to_nisar_l1.py -i /scratch/alex_eco_test/BONA/ALOS2/0000435832_001001_ALOS2391121310-210820 -o /scratch/alex_eco_test/BONA/ALOS2/0000435832_001001_ALOS2391121310-210820.h5\n"
     ]
    },
    {
     "name": "stderr",
     "output_type": "stream",
     "text": [
      "WARNING: overwriting environment variables set in the machine\n",
      "overwriting variable {'LD_LIBRARY_PATH'}\n",
      "\n"
     ]
    },
    {
     "name": "stdout",
     "output_type": "stream",
     "text": [
      "\n",
      "conda run -n isce3_src /home/jovyan/isce3/python/packages/nisar/workflows/stage_dem.py -p /scratch/alex_eco_test/BONA/ALOS2/0000435832_001001_ALOS2391121310-210820.h5 -o /scratch/alex_eco_test/BONA/DEM/0000435832_001001_ALOS2391121310-210820.vrt\n"
     ]
    },
    {
     "name": "stderr",
     "output_type": "stream",
     "text": [
      "WARNING: overwriting environment variables set in the machine\n",
      "overwriting variable {'LD_LIBRARY_PATH'}\n",
      "\n"
     ]
    },
    {
     "name": "stdout",
     "output_type": "stream",
     "text": [
      "\n",
      "conda run -n isce3_src /home/jovyan/isce3/python/packages/nisar/workflows/gcov.py /scratch/alex_eco_test/BONA/GCOV/0000435832_001001_ALOS2391121310-210820.yaml\n"
     ]
    },
    {
     "name": "stderr",
     "output_type": "stream",
     "text": [
      "WARNING: overwriting environment variables set in the machine\n",
      "overwriting variable {'LD_LIBRARY_PATH'}\n",
      "/home/jovyan/isce3/build/packages/nisar/workflows/h5_prep.py:207: UserWarning: swmr=True only affects read ('r') mode. For swmr write mode, set f.swmr_mode = True after opening the file.\n",
      "  h5py.File(output_hdf5, 'w', libver='latest', swmr=True) as dst_h5:\n",
      "/home/jovyan/isce3/build/packages/nisar/workflows/h5_prep.py:489: UserWarning: swmr=True only affects read ('r') mode. For swmr write mode, set f.swmr_mode = True after opening the file.\n",
      "  with h5py.File(output_hdf5, 'a', libver='latest', swmr=True) as dst_h5:\n",
      "/home/jovyan/isce3/python/packages/nisar/workflows/gcov.py:765: DeprecationWarning: `product` is deprecated as of NumPy 1.25.0, and will be removed in NumPy 2.0. Please use `prod` instead.\n",
      "  dset.attrs.create('_FillValue', data=np.nan)\n",
      "/home/jovyan/isce3/python/packages/nisar/workflows/gcov.py:769: DeprecationWarning: `product` is deprecated as of NumPy 1.25.0, and will be removed in NumPy 2.0. Please use `prod` instead.\n",
      "  dset.attrs.create('min_value', data=stats_obj.min)\n",
      "/home/jovyan/isce3/python/packages/nisar/workflows/gcov.py:770: DeprecationWarning: `product` is deprecated as of NumPy 1.25.0, and will be removed in NumPy 2.0. Please use `prod` instead.\n",
      "  dset.attrs.create('mean_value', data=stats_obj.mean)\n",
      "/home/jovyan/isce3/python/packages/nisar/workflows/gcov.py:771: DeprecationWarning: `product` is deprecated as of NumPy 1.25.0, and will be removed in NumPy 2.0. Please use `prod` instead.\n",
      "  dset.attrs.create('max_value', data=stats_obj.max)\n",
      "/home/jovyan/isce3/python/packages/nisar/workflows/gcov.py:772: DeprecationWarning: `product` is deprecated as of NumPy 1.25.0, and will be removed in NumPy 2.0. Please use `prod` instead.\n",
      "  dset.attrs.create('sample_standard_deviation', data=stats_obj.sample_stddev)\n",
      "/home/jovyan/isce3/python/packages/nisar/workflows/gcov.py:790: DeprecationWarning: `product` is deprecated as of NumPy 1.25.0, and will be removed in NumPy 2.0. Please use `prod` instead.\n",
      "  dset.attrs.create('valid_min', data=valid_min)\n",
      "/home/jovyan/isce3/python/packages/nisar/workflows/gcov.py:793: DeprecationWarning: `product` is deprecated as of NumPy 1.25.0, and will be removed in NumPy 2.0. Please use `prod` instead.\n",
      "  dset.attrs.create('valid_max', data=valid_max)\n",
      "\n"
     ]
    },
    {
     "name": "stdout",
     "output_type": "stream",
     "text": [
      "\n",
      "0000476066_001001_ALOS2442871300-220805\n",
      "\n",
      "conda run -n isce3_src /home/jovyan/isce3/share/nisar/examples/alos2_to_nisar_l1.py -i /scratch/alex_eco_test/BONA/ALOS2/0000476066_001001_ALOS2442871300-220805 -o /scratch/alex_eco_test/BONA/ALOS2/0000476066_001001_ALOS2442871300-220805.h5\n"
     ]
    },
    {
     "name": "stderr",
     "output_type": "stream",
     "text": [
      "WARNING: overwriting environment variables set in the machine\n",
      "overwriting variable {'LD_LIBRARY_PATH'}\n",
      "\n"
     ]
    },
    {
     "name": "stdout",
     "output_type": "stream",
     "text": [
      "\n",
      "conda run -n isce3_src /home/jovyan/isce3/python/packages/nisar/workflows/stage_dem.py -p /scratch/alex_eco_test/BONA/ALOS2/0000476066_001001_ALOS2442871300-220805.h5 -o /scratch/alex_eco_test/BONA/DEM/0000476066_001001_ALOS2442871300-220805.vrt\n"
     ]
    },
    {
     "name": "stderr",
     "output_type": "stream",
     "text": [
      "WARNING: overwriting environment variables set in the machine\n",
      "overwriting variable {'LD_LIBRARY_PATH'}\n",
      "\n"
     ]
    },
    {
     "name": "stdout",
     "output_type": "stream",
     "text": [
      "\n",
      "conda run -n isce3_src /home/jovyan/isce3/python/packages/nisar/workflows/gcov.py /scratch/alex_eco_test/BONA/GCOV/0000476066_001001_ALOS2442871300-220805.yaml\n"
     ]
    },
    {
     "name": "stderr",
     "output_type": "stream",
     "text": [
      "WARNING: overwriting environment variables set in the machine\n",
      "overwriting variable {'LD_LIBRARY_PATH'}\n",
      "/home/jovyan/isce3/build/packages/nisar/workflows/h5_prep.py:207: UserWarning: swmr=True only affects read ('r') mode. For swmr write mode, set f.swmr_mode = True after opening the file.\n",
      "  h5py.File(output_hdf5, 'w', libver='latest', swmr=True) as dst_h5:\n",
      "/home/jovyan/isce3/build/packages/nisar/workflows/h5_prep.py:489: UserWarning: swmr=True only affects read ('r') mode. For swmr write mode, set f.swmr_mode = True after opening the file.\n",
      "  with h5py.File(output_hdf5, 'a', libver='latest', swmr=True) as dst_h5:\n",
      "/home/jovyan/isce3/python/packages/nisar/workflows/gcov.py:765: DeprecationWarning: `product` is deprecated as of NumPy 1.25.0, and will be removed in NumPy 2.0. Please use `prod` instead.\n",
      "  dset.attrs.create('_FillValue', data=np.nan)\n",
      "/home/jovyan/isce3/python/packages/nisar/workflows/gcov.py:769: DeprecationWarning: `product` is deprecated as of NumPy 1.25.0, and will be removed in NumPy 2.0. Please use `prod` instead.\n",
      "  dset.attrs.create('min_value', data=stats_obj.min)\n",
      "/home/jovyan/isce3/python/packages/nisar/workflows/gcov.py:770: DeprecationWarning: `product` is deprecated as of NumPy 1.25.0, and will be removed in NumPy 2.0. Please use `prod` instead.\n",
      "  dset.attrs.create('mean_value', data=stats_obj.mean)\n",
      "/home/jovyan/isce3/python/packages/nisar/workflows/gcov.py:771: DeprecationWarning: `product` is deprecated as of NumPy 1.25.0, and will be removed in NumPy 2.0. Please use `prod` instead.\n",
      "  dset.attrs.create('max_value', data=stats_obj.max)\n",
      "/home/jovyan/isce3/python/packages/nisar/workflows/gcov.py:772: DeprecationWarning: `product` is deprecated as of NumPy 1.25.0, and will be removed in NumPy 2.0. Please use `prod` instead.\n",
      "  dset.attrs.create('sample_standard_deviation', data=stats_obj.sample_stddev)\n",
      "/home/jovyan/isce3/python/packages/nisar/workflows/gcov.py:790: DeprecationWarning: `product` is deprecated as of NumPy 1.25.0, and will be removed in NumPy 2.0. Please use `prod` instead.\n",
      "  dset.attrs.create('valid_min', data=valid_min)\n",
      "/home/jovyan/isce3/python/packages/nisar/workflows/gcov.py:793: DeprecationWarning: `product` is deprecated as of NumPy 1.25.0, and will be removed in NumPy 2.0. Please use `prod` instead.\n",
      "  dset.attrs.create('valid_max', data=valid_max)\n",
      "\n"
     ]
    },
    {
     "name": "stdout",
     "output_type": "stream",
     "text": [
      "\n",
      "0000476065_001001_ALOS2442871310-220805\n",
      "\n",
      "conda run -n isce3_src /home/jovyan/isce3/share/nisar/examples/alos2_to_nisar_l1.py -i /scratch/alex_eco_test/BONA/ALOS2/0000476065_001001_ALOS2442871310-220805 -o /scratch/alex_eco_test/BONA/ALOS2/0000476065_001001_ALOS2442871310-220805.h5\n"
     ]
    },
    {
     "name": "stderr",
     "output_type": "stream",
     "text": [
      "WARNING: overwriting environment variables set in the machine\n",
      "overwriting variable {'LD_LIBRARY_PATH'}\n",
      "\n"
     ]
    },
    {
     "name": "stdout",
     "output_type": "stream",
     "text": [
      "\n",
      "conda run -n isce3_src /home/jovyan/isce3/python/packages/nisar/workflows/stage_dem.py -p /scratch/alex_eco_test/BONA/ALOS2/0000476065_001001_ALOS2442871310-220805.h5 -o /scratch/alex_eco_test/BONA/DEM/0000476065_001001_ALOS2442871310-220805.vrt\n"
     ]
    },
    {
     "name": "stderr",
     "output_type": "stream",
     "text": [
      "WARNING: overwriting environment variables set in the machine\n",
      "overwriting variable {'LD_LIBRARY_PATH'}\n",
      "\n"
     ]
    },
    {
     "name": "stdout",
     "output_type": "stream",
     "text": [
      "\n",
      "conda run -n isce3_src /home/jovyan/isce3/python/packages/nisar/workflows/gcov.py /scratch/alex_eco_test/BONA/GCOV/0000476065_001001_ALOS2442871310-220805.yaml\n"
     ]
    },
    {
     "name": "stderr",
     "output_type": "stream",
     "text": [
      "WARNING: overwriting environment variables set in the machine\n",
      "overwriting variable {'LD_LIBRARY_PATH'}\n",
      "/home/jovyan/isce3/build/packages/nisar/workflows/h5_prep.py:207: UserWarning: swmr=True only affects read ('r') mode. For swmr write mode, set f.swmr_mode = True after opening the file.\n",
      "  h5py.File(output_hdf5, 'w', libver='latest', swmr=True) as dst_h5:\n",
      "/home/jovyan/isce3/build/packages/nisar/workflows/h5_prep.py:489: UserWarning: swmr=True only affects read ('r') mode. For swmr write mode, set f.swmr_mode = True after opening the file.\n",
      "  with h5py.File(output_hdf5, 'a', libver='latest', swmr=True) as dst_h5:\n",
      "/home/jovyan/isce3/python/packages/nisar/workflows/gcov.py:765: DeprecationWarning: `product` is deprecated as of NumPy 1.25.0, and will be removed in NumPy 2.0. Please use `prod` instead.\n",
      "  dset.attrs.create('_FillValue', data=np.nan)\n",
      "/home/jovyan/isce3/python/packages/nisar/workflows/gcov.py:769: DeprecationWarning: `product` is deprecated as of NumPy 1.25.0, and will be removed in NumPy 2.0. Please use `prod` instead.\n",
      "  dset.attrs.create('min_value', data=stats_obj.min)\n",
      "/home/jovyan/isce3/python/packages/nisar/workflows/gcov.py:770: DeprecationWarning: `product` is deprecated as of NumPy 1.25.0, and will be removed in NumPy 2.0. Please use `prod` instead.\n",
      "  dset.attrs.create('mean_value', data=stats_obj.mean)\n",
      "/home/jovyan/isce3/python/packages/nisar/workflows/gcov.py:771: DeprecationWarning: `product` is deprecated as of NumPy 1.25.0, and will be removed in NumPy 2.0. Please use `prod` instead.\n",
      "  dset.attrs.create('max_value', data=stats_obj.max)\n",
      "/home/jovyan/isce3/python/packages/nisar/workflows/gcov.py:772: DeprecationWarning: `product` is deprecated as of NumPy 1.25.0, and will be removed in NumPy 2.0. Please use `prod` instead.\n",
      "  dset.attrs.create('sample_standard_deviation', data=stats_obj.sample_stddev)\n",
      "/home/jovyan/isce3/python/packages/nisar/workflows/gcov.py:790: DeprecationWarning: `product` is deprecated as of NumPy 1.25.0, and will be removed in NumPy 2.0. Please use `prod` instead.\n",
      "  dset.attrs.create('valid_min', data=valid_min)\n",
      "/home/jovyan/isce3/python/packages/nisar/workflows/gcov.py:793: DeprecationWarning: `product` is deprecated as of NumPy 1.25.0, and will be removed in NumPy 2.0. Please use `prod` instead.\n",
      "  dset.attrs.create('valid_max', data=valid_max)\n",
      "\n"
     ]
    },
    {
     "name": "stdout",
     "output_type": "stream",
     "text": [
      "\n",
      "0000435833_001001_ALOS2391121300-210820\n",
      "\n",
      "conda run -n isce3_src /home/jovyan/isce3/share/nisar/examples/alos2_to_nisar_l1.py -i /scratch/alex_eco_test/BONA/ALOS2/0000435833_001001_ALOS2391121300-210820 -o /scratch/alex_eco_test/BONA/ALOS2/0000435833_001001_ALOS2391121300-210820.h5\n"
     ]
    },
    {
     "name": "stderr",
     "output_type": "stream",
     "text": [
      "WARNING: overwriting environment variables set in the machine\n",
      "overwriting variable {'LD_LIBRARY_PATH'}\n",
      "\n"
     ]
    },
    {
     "name": "stdout",
     "output_type": "stream",
     "text": [
      "\n",
      "conda run -n isce3_src /home/jovyan/isce3/python/packages/nisar/workflows/stage_dem.py -p /scratch/alex_eco_test/BONA/ALOS2/0000435833_001001_ALOS2391121300-210820.h5 -o /scratch/alex_eco_test/BONA/DEM/0000435833_001001_ALOS2391121300-210820.vrt\n"
     ]
    },
    {
     "name": "stderr",
     "output_type": "stream",
     "text": [
      "WARNING: overwriting environment variables set in the machine\n",
      "overwriting variable {'LD_LIBRARY_PATH'}\n",
      "\n"
     ]
    },
    {
     "name": "stdout",
     "output_type": "stream",
     "text": [
      "\n",
      "conda run -n isce3_src /home/jovyan/isce3/python/packages/nisar/workflows/gcov.py /scratch/alex_eco_test/BONA/GCOV/0000435833_001001_ALOS2391121300-210820.yaml\n"
     ]
    },
    {
     "name": "stderr",
     "output_type": "stream",
     "text": [
      "WARNING: overwriting environment variables set in the machine\n",
      "overwriting variable {'LD_LIBRARY_PATH'}\n",
      "/home/jovyan/isce3/build/packages/nisar/workflows/h5_prep.py:207: UserWarning: swmr=True only affects read ('r') mode. For swmr write mode, set f.swmr_mode = True after opening the file.\n",
      "  h5py.File(output_hdf5, 'w', libver='latest', swmr=True) as dst_h5:\n",
      "/home/jovyan/isce3/build/packages/nisar/workflows/h5_prep.py:489: UserWarning: swmr=True only affects read ('r') mode. For swmr write mode, set f.swmr_mode = True after opening the file.\n",
      "  with h5py.File(output_hdf5, 'a', libver='latest', swmr=True) as dst_h5:\n",
      "/home/jovyan/isce3/python/packages/nisar/workflows/gcov.py:765: DeprecationWarning: `product` is deprecated as of NumPy 1.25.0, and will be removed in NumPy 2.0. Please use `prod` instead.\n",
      "  dset.attrs.create('_FillValue', data=np.nan)\n",
      "/home/jovyan/isce3/python/packages/nisar/workflows/gcov.py:769: DeprecationWarning: `product` is deprecated as of NumPy 1.25.0, and will be removed in NumPy 2.0. Please use `prod` instead.\n",
      "  dset.attrs.create('min_value', data=stats_obj.min)\n",
      "/home/jovyan/isce3/python/packages/nisar/workflows/gcov.py:770: DeprecationWarning: `product` is deprecated as of NumPy 1.25.0, and will be removed in NumPy 2.0. Please use `prod` instead.\n",
      "  dset.attrs.create('mean_value', data=stats_obj.mean)\n",
      "/home/jovyan/isce3/python/packages/nisar/workflows/gcov.py:771: DeprecationWarning: `product` is deprecated as of NumPy 1.25.0, and will be removed in NumPy 2.0. Please use `prod` instead.\n",
      "  dset.attrs.create('max_value', data=stats_obj.max)\n",
      "/home/jovyan/isce3/python/packages/nisar/workflows/gcov.py:772: DeprecationWarning: `product` is deprecated as of NumPy 1.25.0, and will be removed in NumPy 2.0. Please use `prod` instead.\n",
      "  dset.attrs.create('sample_standard_deviation', data=stats_obj.sample_stddev)\n",
      "/home/jovyan/isce3/python/packages/nisar/workflows/gcov.py:790: DeprecationWarning: `product` is deprecated as of NumPy 1.25.0, and will be removed in NumPy 2.0. Please use `prod` instead.\n",
      "  dset.attrs.create('valid_min', data=valid_min)\n",
      "/home/jovyan/isce3/python/packages/nisar/workflows/gcov.py:793: DeprecationWarning: `product` is deprecated as of NumPy 1.25.0, and will be removed in NumPy 2.0. Please use `prod` instead.\n",
      "  dset.attrs.create('valid_max', data=valid_max)\n",
      "\n"
     ]
    },
    {
     "name": "stdout",
     "output_type": "stream",
     "text": [
      "\n",
      "0000435905_001001_ALOS2393191310-210903\n",
      "\n",
      "conda run -n isce3_src /home/jovyan/isce3/share/nisar/examples/alos2_to_nisar_l1.py -i /scratch/alex_eco_test/BONA/ALOS2/0000435905_001001_ALOS2393191310-210903 -o /scratch/alex_eco_test/BONA/ALOS2/0000435905_001001_ALOS2393191310-210903.h5\n"
     ]
    },
    {
     "name": "stderr",
     "output_type": "stream",
     "text": [
      "WARNING: overwriting environment variables set in the machine\n",
      "overwriting variable {'LD_LIBRARY_PATH'}\n",
      "\n"
     ]
    },
    {
     "name": "stdout",
     "output_type": "stream",
     "text": [
      "\n",
      "conda run -n isce3_src /home/jovyan/isce3/python/packages/nisar/workflows/stage_dem.py -p /scratch/alex_eco_test/BONA/ALOS2/0000435905_001001_ALOS2393191310-210903.h5 -o /scratch/alex_eco_test/BONA/DEM/0000435905_001001_ALOS2393191310-210903.vrt\n"
     ]
    },
    {
     "name": "stderr",
     "output_type": "stream",
     "text": [
      "WARNING: overwriting environment variables set in the machine\n",
      "overwriting variable {'LD_LIBRARY_PATH'}\n",
      "\n"
     ]
    },
    {
     "name": "stdout",
     "output_type": "stream",
     "text": [
      "\n",
      "conda run -n isce3_src /home/jovyan/isce3/python/packages/nisar/workflows/gcov.py /scratch/alex_eco_test/BONA/GCOV/0000435905_001001_ALOS2393191310-210903.yaml\n"
     ]
    },
    {
     "name": "stderr",
     "output_type": "stream",
     "text": [
      "WARNING: overwriting environment variables set in the machine\n",
      "overwriting variable {'LD_LIBRARY_PATH'}\n",
      "/home/jovyan/isce3/build/packages/nisar/workflows/h5_prep.py:207: UserWarning: swmr=True only affects read ('r') mode. For swmr write mode, set f.swmr_mode = True after opening the file.\n",
      "  h5py.File(output_hdf5, 'w', libver='latest', swmr=True) as dst_h5:\n",
      "/home/jovyan/isce3/build/packages/nisar/workflows/h5_prep.py:489: UserWarning: swmr=True only affects read ('r') mode. For swmr write mode, set f.swmr_mode = True after opening the file.\n",
      "  with h5py.File(output_hdf5, 'a', libver='latest', swmr=True) as dst_h5:\n",
      "/home/jovyan/isce3/python/packages/nisar/workflows/gcov.py:765: DeprecationWarning: `product` is deprecated as of NumPy 1.25.0, and will be removed in NumPy 2.0. Please use `prod` instead.\n",
      "  dset.attrs.create('_FillValue', data=np.nan)\n",
      "/home/jovyan/isce3/python/packages/nisar/workflows/gcov.py:769: DeprecationWarning: `product` is deprecated as of NumPy 1.25.0, and will be removed in NumPy 2.0. Please use `prod` instead.\n",
      "  dset.attrs.create('min_value', data=stats_obj.min)\n",
      "/home/jovyan/isce3/python/packages/nisar/workflows/gcov.py:770: DeprecationWarning: `product` is deprecated as of NumPy 1.25.0, and will be removed in NumPy 2.0. Please use `prod` instead.\n",
      "  dset.attrs.create('mean_value', data=stats_obj.mean)\n",
      "/home/jovyan/isce3/python/packages/nisar/workflows/gcov.py:771: DeprecationWarning: `product` is deprecated as of NumPy 1.25.0, and will be removed in NumPy 2.0. Please use `prod` instead.\n",
      "  dset.attrs.create('max_value', data=stats_obj.max)\n",
      "/home/jovyan/isce3/python/packages/nisar/workflows/gcov.py:772: DeprecationWarning: `product` is deprecated as of NumPy 1.25.0, and will be removed in NumPy 2.0. Please use `prod` instead.\n",
      "  dset.attrs.create('sample_standard_deviation', data=stats_obj.sample_stddev)\n",
      "/home/jovyan/isce3/python/packages/nisar/workflows/gcov.py:790: DeprecationWarning: `product` is deprecated as of NumPy 1.25.0, and will be removed in NumPy 2.0. Please use `prod` instead.\n",
      "  dset.attrs.create('valid_min', data=valid_min)\n",
      "/home/jovyan/isce3/python/packages/nisar/workflows/gcov.py:793: DeprecationWarning: `product` is deprecated as of NumPy 1.25.0, and will be removed in NumPy 2.0. Please use `prod` instead.\n",
      "  dset.attrs.create('valid_max', data=valid_max)\n",
      "\n"
     ]
    },
    {
     "name": "stdout",
     "output_type": "stream",
     "text": [
      "\n",
      "0000435906_001001_ALOS2393191300-210903\n",
      "\n",
      "conda run -n isce3_src /home/jovyan/isce3/share/nisar/examples/alos2_to_nisar_l1.py -i /scratch/alex_eco_test/BONA/ALOS2/0000435906_001001_ALOS2393191300-210903 -o /scratch/alex_eco_test/BONA/ALOS2/0000435906_001001_ALOS2393191300-210903.h5\n"
     ]
    },
    {
     "name": "stderr",
     "output_type": "stream",
     "text": [
      "WARNING: overwriting environment variables set in the machine\n",
      "overwriting variable {'LD_LIBRARY_PATH'}\n",
      "\n"
     ]
    },
    {
     "name": "stdout",
     "output_type": "stream",
     "text": [
      "\n",
      "conda run -n isce3_src /home/jovyan/isce3/python/packages/nisar/workflows/stage_dem.py -p /scratch/alex_eco_test/BONA/ALOS2/0000435906_001001_ALOS2393191300-210903.h5 -o /scratch/alex_eco_test/BONA/DEM/0000435906_001001_ALOS2393191300-210903.vrt\n"
     ]
    },
    {
     "name": "stderr",
     "output_type": "stream",
     "text": [
      "WARNING: overwriting environment variables set in the machine\n",
      "overwriting variable {'LD_LIBRARY_PATH'}\n",
      "\n"
     ]
    },
    {
     "name": "stdout",
     "output_type": "stream",
     "text": [
      "\n",
      "conda run -n isce3_src /home/jovyan/isce3/python/packages/nisar/workflows/gcov.py /scratch/alex_eco_test/BONA/GCOV/0000435906_001001_ALOS2393191300-210903.yaml\n"
     ]
    },
    {
     "name": "stderr",
     "output_type": "stream",
     "text": [
      "WARNING: overwriting environment variables set in the machine\n",
      "overwriting variable {'LD_LIBRARY_PATH'}\n",
      "/home/jovyan/isce3/build/packages/nisar/workflows/h5_prep.py:207: UserWarning: swmr=True only affects read ('r') mode. For swmr write mode, set f.swmr_mode = True after opening the file.\n",
      "  h5py.File(output_hdf5, 'w', libver='latest', swmr=True) as dst_h5:\n",
      "/home/jovyan/isce3/build/packages/nisar/workflows/h5_prep.py:489: UserWarning: swmr=True only affects read ('r') mode. For swmr write mode, set f.swmr_mode = True after opening the file.\n",
      "  with h5py.File(output_hdf5, 'a', libver='latest', swmr=True) as dst_h5:\n",
      "/home/jovyan/isce3/python/packages/nisar/workflows/gcov.py:765: DeprecationWarning: `product` is deprecated as of NumPy 1.25.0, and will be removed in NumPy 2.0. Please use `prod` instead.\n",
      "  dset.attrs.create('_FillValue', data=np.nan)\n",
      "/home/jovyan/isce3/python/packages/nisar/workflows/gcov.py:769: DeprecationWarning: `product` is deprecated as of NumPy 1.25.0, and will be removed in NumPy 2.0. Please use `prod` instead.\n",
      "  dset.attrs.create('min_value', data=stats_obj.min)\n",
      "/home/jovyan/isce3/python/packages/nisar/workflows/gcov.py:770: DeprecationWarning: `product` is deprecated as of NumPy 1.25.0, and will be removed in NumPy 2.0. Please use `prod` instead.\n",
      "  dset.attrs.create('mean_value', data=stats_obj.mean)\n",
      "/home/jovyan/isce3/python/packages/nisar/workflows/gcov.py:771: DeprecationWarning: `product` is deprecated as of NumPy 1.25.0, and will be removed in NumPy 2.0. Please use `prod` instead.\n",
      "  dset.attrs.create('max_value', data=stats_obj.max)\n",
      "/home/jovyan/isce3/python/packages/nisar/workflows/gcov.py:772: DeprecationWarning: `product` is deprecated as of NumPy 1.25.0, and will be removed in NumPy 2.0. Please use `prod` instead.\n",
      "  dset.attrs.create('sample_standard_deviation', data=stats_obj.sample_stddev)\n",
      "/home/jovyan/isce3/python/packages/nisar/workflows/gcov.py:790: DeprecationWarning: `product` is deprecated as of NumPy 1.25.0, and will be removed in NumPy 2.0. Please use `prod` instead.\n",
      "  dset.attrs.create('valid_min', data=valid_min)\n",
      "/home/jovyan/isce3/python/packages/nisar/workflows/gcov.py:793: DeprecationWarning: `product` is deprecated as of NumPy 1.25.0, and will be removed in NumPy 2.0. Please use `prod` instead.\n",
      "  dset.attrs.create('valid_max', data=valid_max)\n",
      "\n"
     ]
    },
    {
     "name": "stdout",
     "output_type": "stream",
     "text": [
      "\n",
      "0000482393_001001_ALOS2449081310-220916\n",
      "\n",
      "conda run -n isce3_src /home/jovyan/isce3/share/nisar/examples/alos2_to_nisar_l1.py -i /scratch/alex_eco_test/BONA/ALOS2/0000482393_001001_ALOS2449081310-220916 -o /scratch/alex_eco_test/BONA/ALOS2/0000482393_001001_ALOS2449081310-220916.h5\n"
     ]
    },
    {
     "name": "stderr",
     "output_type": "stream",
     "text": [
      "WARNING: overwriting environment variables set in the machine\n",
      "overwriting variable {'LD_LIBRARY_PATH'}\n",
      "\n"
     ]
    },
    {
     "name": "stdout",
     "output_type": "stream",
     "text": [
      "\n",
      "conda run -n isce3_src /home/jovyan/isce3/python/packages/nisar/workflows/stage_dem.py -p /scratch/alex_eco_test/BONA/ALOS2/0000482393_001001_ALOS2449081310-220916.h5 -o /scratch/alex_eco_test/BONA/DEM/0000482393_001001_ALOS2449081310-220916.vrt\n"
     ]
    },
    {
     "name": "stderr",
     "output_type": "stream",
     "text": [
      "WARNING: overwriting environment variables set in the machine\n",
      "overwriting variable {'LD_LIBRARY_PATH'}\n",
      "\n"
     ]
    },
    {
     "name": "stdout",
     "output_type": "stream",
     "text": [
      "\n",
      "conda run -n isce3_src /home/jovyan/isce3/python/packages/nisar/workflows/gcov.py /scratch/alex_eco_test/BONA/GCOV/0000482393_001001_ALOS2449081310-220916.yaml\n"
     ]
    },
    {
     "name": "stderr",
     "output_type": "stream",
     "text": [
      "WARNING: overwriting environment variables set in the machine\n",
      "overwriting variable {'LD_LIBRARY_PATH'}\n",
      "/home/jovyan/isce3/build/packages/nisar/workflows/h5_prep.py:207: UserWarning: swmr=True only affects read ('r') mode. For swmr write mode, set f.swmr_mode = True after opening the file.\n",
      "  h5py.File(output_hdf5, 'w', libver='latest', swmr=True) as dst_h5:\n",
      "/home/jovyan/isce3/build/packages/nisar/workflows/h5_prep.py:489: UserWarning: swmr=True only affects read ('r') mode. For swmr write mode, set f.swmr_mode = True after opening the file.\n",
      "  with h5py.File(output_hdf5, 'a', libver='latest', swmr=True) as dst_h5:\n",
      "/home/jovyan/isce3/python/packages/nisar/workflows/gcov.py:765: DeprecationWarning: `product` is deprecated as of NumPy 1.25.0, and will be removed in NumPy 2.0. Please use `prod` instead.\n",
      "  dset.attrs.create('_FillValue', data=np.nan)\n",
      "/home/jovyan/isce3/python/packages/nisar/workflows/gcov.py:769: DeprecationWarning: `product` is deprecated as of NumPy 1.25.0, and will be removed in NumPy 2.0. Please use `prod` instead.\n",
      "  dset.attrs.create('min_value', data=stats_obj.min)\n",
      "/home/jovyan/isce3/python/packages/nisar/workflows/gcov.py:770: DeprecationWarning: `product` is deprecated as of NumPy 1.25.0, and will be removed in NumPy 2.0. Please use `prod` instead.\n",
      "  dset.attrs.create('mean_value', data=stats_obj.mean)\n",
      "/home/jovyan/isce3/python/packages/nisar/workflows/gcov.py:771: DeprecationWarning: `product` is deprecated as of NumPy 1.25.0, and will be removed in NumPy 2.0. Please use `prod` instead.\n",
      "  dset.attrs.create('max_value', data=stats_obj.max)\n",
      "/home/jovyan/isce3/python/packages/nisar/workflows/gcov.py:772: DeprecationWarning: `product` is deprecated as of NumPy 1.25.0, and will be removed in NumPy 2.0. Please use `prod` instead.\n",
      "  dset.attrs.create('sample_standard_deviation', data=stats_obj.sample_stddev)\n",
      "/home/jovyan/isce3/python/packages/nisar/workflows/gcov.py:790: DeprecationWarning: `product` is deprecated as of NumPy 1.25.0, and will be removed in NumPy 2.0. Please use `prod` instead.\n",
      "  dset.attrs.create('valid_min', data=valid_min)\n",
      "/home/jovyan/isce3/python/packages/nisar/workflows/gcov.py:793: DeprecationWarning: `product` is deprecated as of NumPy 1.25.0, and will be removed in NumPy 2.0. Please use `prod` instead.\n",
      "  dset.attrs.create('valid_max', data=valid_max)\n",
      "\n"
     ]
    },
    {
     "name": "stdout",
     "output_type": "stream",
     "text": [
      "\n",
      "0000522910_001001_ALOS2494621300-230721\n",
      "\n",
      "conda run -n isce3_src /home/jovyan/isce3/share/nisar/examples/alos2_to_nisar_l1.py -i /scratch/alex_eco_test/BONA/ALOS2/0000522910_001001_ALOS2494621300-230721 -o /scratch/alex_eco_test/BONA/ALOS2/0000522910_001001_ALOS2494621300-230721.h5\n"
     ]
    },
    {
     "name": "stderr",
     "output_type": "stream",
     "text": [
      "WARNING: overwriting environment variables set in the machine\n",
      "overwriting variable {'LD_LIBRARY_PATH'}\n",
      "\n"
     ]
    },
    {
     "name": "stdout",
     "output_type": "stream",
     "text": [
      "\n",
      "conda run -n isce3_src /home/jovyan/isce3/python/packages/nisar/workflows/stage_dem.py -p /scratch/alex_eco_test/BONA/ALOS2/0000522910_001001_ALOS2494621300-230721.h5 -o /scratch/alex_eco_test/BONA/DEM/0000522910_001001_ALOS2494621300-230721.vrt\n"
     ]
    },
    {
     "name": "stderr",
     "output_type": "stream",
     "text": [
      "WARNING: overwriting environment variables set in the machine\n",
      "overwriting variable {'LD_LIBRARY_PATH'}\n",
      "\n"
     ]
    },
    {
     "name": "stdout",
     "output_type": "stream",
     "text": [
      "\n",
      "conda run -n isce3_src /home/jovyan/isce3/python/packages/nisar/workflows/gcov.py /scratch/alex_eco_test/BONA/GCOV/0000522910_001001_ALOS2494621300-230721.yaml\n"
     ]
    },
    {
     "name": "stderr",
     "output_type": "stream",
     "text": [
      "WARNING: overwriting environment variables set in the machine\n",
      "overwriting variable {'LD_LIBRARY_PATH'}\n",
      "/home/jovyan/isce3/build/packages/nisar/workflows/h5_prep.py:207: UserWarning: swmr=True only affects read ('r') mode. For swmr write mode, set f.swmr_mode = True after opening the file.\n",
      "  h5py.File(output_hdf5, 'w', libver='latest', swmr=True) as dst_h5:\n",
      "/home/jovyan/isce3/build/packages/nisar/workflows/h5_prep.py:489: UserWarning: swmr=True only affects read ('r') mode. For swmr write mode, set f.swmr_mode = True after opening the file.\n",
      "  with h5py.File(output_hdf5, 'a', libver='latest', swmr=True) as dst_h5:\n",
      "/home/jovyan/isce3/python/packages/nisar/workflows/gcov.py:765: DeprecationWarning: `product` is deprecated as of NumPy 1.25.0, and will be removed in NumPy 2.0. Please use `prod` instead.\n",
      "  dset.attrs.create('_FillValue', data=np.nan)\n",
      "/home/jovyan/isce3/python/packages/nisar/workflows/gcov.py:769: DeprecationWarning: `product` is deprecated as of NumPy 1.25.0, and will be removed in NumPy 2.0. Please use `prod` instead.\n",
      "  dset.attrs.create('min_value', data=stats_obj.min)\n",
      "/home/jovyan/isce3/python/packages/nisar/workflows/gcov.py:770: DeprecationWarning: `product` is deprecated as of NumPy 1.25.0, and will be removed in NumPy 2.0. Please use `prod` instead.\n",
      "  dset.attrs.create('mean_value', data=stats_obj.mean)\n",
      "/home/jovyan/isce3/python/packages/nisar/workflows/gcov.py:771: DeprecationWarning: `product` is deprecated as of NumPy 1.25.0, and will be removed in NumPy 2.0. Please use `prod` instead.\n",
      "  dset.attrs.create('max_value', data=stats_obj.max)\n",
      "/home/jovyan/isce3/python/packages/nisar/workflows/gcov.py:772: DeprecationWarning: `product` is deprecated as of NumPy 1.25.0, and will be removed in NumPy 2.0. Please use `prod` instead.\n",
      "  dset.attrs.create('sample_standard_deviation', data=stats_obj.sample_stddev)\n",
      "/home/jovyan/isce3/python/packages/nisar/workflows/gcov.py:790: DeprecationWarning: `product` is deprecated as of NumPy 1.25.0, and will be removed in NumPy 2.0. Please use `prod` instead.\n",
      "  dset.attrs.create('valid_min', data=valid_min)\n",
      "/home/jovyan/isce3/python/packages/nisar/workflows/gcov.py:793: DeprecationWarning: `product` is deprecated as of NumPy 1.25.0, and will be removed in NumPy 2.0. Please use `prod` instead.\n",
      "  dset.attrs.create('valid_max', data=valid_max)\n",
      "\n"
     ]
    },
    {
     "name": "stdout",
     "output_type": "stream",
     "text": [
      "\n",
      "0000435733_001001_ALOS2386981310-210723\n",
      "\n",
      "conda run -n isce3_src /home/jovyan/isce3/share/nisar/examples/alos2_to_nisar_l1.py -i /scratch/alex_eco_test/BONA/ALOS2/0000435733_001001_ALOS2386981310-210723 -o /scratch/alex_eco_test/BONA/ALOS2/0000435733_001001_ALOS2386981310-210723.h5\n"
     ]
    },
    {
     "name": "stderr",
     "output_type": "stream",
     "text": [
      "WARNING: overwriting environment variables set in the machine\n",
      "overwriting variable {'LD_LIBRARY_PATH'}\n",
      "\n"
     ]
    },
    {
     "name": "stdout",
     "output_type": "stream",
     "text": [
      "\n",
      "conda run -n isce3_src /home/jovyan/isce3/python/packages/nisar/workflows/stage_dem.py -p /scratch/alex_eco_test/BONA/ALOS2/0000435733_001001_ALOS2386981310-210723.h5 -o /scratch/alex_eco_test/BONA/DEM/0000435733_001001_ALOS2386981310-210723.vrt\n"
     ]
    },
    {
     "name": "stderr",
     "output_type": "stream",
     "text": [
      "WARNING: overwriting environment variables set in the machine\n",
      "overwriting variable {'LD_LIBRARY_PATH'}\n",
      "\n"
     ]
    },
    {
     "name": "stdout",
     "output_type": "stream",
     "text": [
      "\n",
      "conda run -n isce3_src /home/jovyan/isce3/python/packages/nisar/workflows/gcov.py /scratch/alex_eco_test/BONA/GCOV/0000435733_001001_ALOS2386981310-210723.yaml\n"
     ]
    },
    {
     "name": "stderr",
     "output_type": "stream",
     "text": [
      "WARNING: overwriting environment variables set in the machine\n",
      "overwriting variable {'LD_LIBRARY_PATH'}\n",
      "/home/jovyan/isce3/build/packages/nisar/workflows/h5_prep.py:207: UserWarning: swmr=True only affects read ('r') mode. For swmr write mode, set f.swmr_mode = True after opening the file.\n",
      "  h5py.File(output_hdf5, 'w', libver='latest', swmr=True) as dst_h5:\n",
      "/home/jovyan/isce3/build/packages/nisar/workflows/h5_prep.py:489: UserWarning: swmr=True only affects read ('r') mode. For swmr write mode, set f.swmr_mode = True after opening the file.\n",
      "  with h5py.File(output_hdf5, 'a', libver='latest', swmr=True) as dst_h5:\n",
      "/home/jovyan/isce3/python/packages/nisar/workflows/gcov.py:765: DeprecationWarning: `product` is deprecated as of NumPy 1.25.0, and will be removed in NumPy 2.0. Please use `prod` instead.\n",
      "  dset.attrs.create('_FillValue', data=np.nan)\n",
      "/home/jovyan/isce3/python/packages/nisar/workflows/gcov.py:769: DeprecationWarning: `product` is deprecated as of NumPy 1.25.0, and will be removed in NumPy 2.0. Please use `prod` instead.\n",
      "  dset.attrs.create('min_value', data=stats_obj.min)\n",
      "/home/jovyan/isce3/python/packages/nisar/workflows/gcov.py:770: DeprecationWarning: `product` is deprecated as of NumPy 1.25.0, and will be removed in NumPy 2.0. Please use `prod` instead.\n",
      "  dset.attrs.create('mean_value', data=stats_obj.mean)\n",
      "/home/jovyan/isce3/python/packages/nisar/workflows/gcov.py:771: DeprecationWarning: `product` is deprecated as of NumPy 1.25.0, and will be removed in NumPy 2.0. Please use `prod` instead.\n",
      "  dset.attrs.create('max_value', data=stats_obj.max)\n",
      "/home/jovyan/isce3/python/packages/nisar/workflows/gcov.py:772: DeprecationWarning: `product` is deprecated as of NumPy 1.25.0, and will be removed in NumPy 2.0. Please use `prod` instead.\n",
      "  dset.attrs.create('sample_standard_deviation', data=stats_obj.sample_stddev)\n",
      "/home/jovyan/isce3/python/packages/nisar/workflows/gcov.py:790: DeprecationWarning: `product` is deprecated as of NumPy 1.25.0, and will be removed in NumPy 2.0. Please use `prod` instead.\n",
      "  dset.attrs.create('valid_min', data=valid_min)\n",
      "/home/jovyan/isce3/python/packages/nisar/workflows/gcov.py:793: DeprecationWarning: `product` is deprecated as of NumPy 1.25.0, and will be removed in NumPy 2.0. Please use `prod` instead.\n",
      "  dset.attrs.create('valid_max', data=valid_max)\n",
      "\n"
     ]
    },
    {
     "name": "stdout",
     "output_type": "stream",
     "text": [
      "\n",
      "0000483903_001001_ALOS2451151300-220930\n",
      "\n",
      "conda run -n isce3_src /home/jovyan/isce3/share/nisar/examples/alos2_to_nisar_l1.py -i /scratch/alex_eco_test/BONA/ALOS2/0000483903_001001_ALOS2451151300-220930 -o /scratch/alex_eco_test/BONA/ALOS2/0000483903_001001_ALOS2451151300-220930.h5\n"
     ]
    },
    {
     "name": "stderr",
     "output_type": "stream",
     "text": [
      "WARNING: overwriting environment variables set in the machine\n",
      "overwriting variable {'LD_LIBRARY_PATH'}\n",
      "\n"
     ]
    },
    {
     "name": "stdout",
     "output_type": "stream",
     "text": [
      "\n",
      "conda run -n isce3_src /home/jovyan/isce3/python/packages/nisar/workflows/stage_dem.py -p /scratch/alex_eco_test/BONA/ALOS2/0000483903_001001_ALOS2451151300-220930.h5 -o /scratch/alex_eco_test/BONA/DEM/0000483903_001001_ALOS2451151300-220930.vrt\n"
     ]
    },
    {
     "name": "stderr",
     "output_type": "stream",
     "text": [
      "WARNING: overwriting environment variables set in the machine\n",
      "overwriting variable {'LD_LIBRARY_PATH'}\n",
      "\n"
     ]
    },
    {
     "name": "stdout",
     "output_type": "stream",
     "text": [
      "\n",
      "conda run -n isce3_src /home/jovyan/isce3/python/packages/nisar/workflows/gcov.py /scratch/alex_eco_test/BONA/GCOV/0000483903_001001_ALOS2451151300-220930.yaml\n"
     ]
    },
    {
     "name": "stderr",
     "output_type": "stream",
     "text": [
      "WARNING: overwriting environment variables set in the machine\n",
      "overwriting variable {'LD_LIBRARY_PATH'}\n",
      "/home/jovyan/isce3/build/packages/nisar/workflows/h5_prep.py:207: UserWarning: swmr=True only affects read ('r') mode. For swmr write mode, set f.swmr_mode = True after opening the file.\n",
      "  h5py.File(output_hdf5, 'w', libver='latest', swmr=True) as dst_h5:\n",
      "/home/jovyan/isce3/build/packages/nisar/workflows/h5_prep.py:489: UserWarning: swmr=True only affects read ('r') mode. For swmr write mode, set f.swmr_mode = True after opening the file.\n",
      "  with h5py.File(output_hdf5, 'a', libver='latest', swmr=True) as dst_h5:\n",
      "/home/jovyan/isce3/python/packages/nisar/workflows/gcov.py:765: DeprecationWarning: `product` is deprecated as of NumPy 1.25.0, and will be removed in NumPy 2.0. Please use `prod` instead.\n",
      "  dset.attrs.create('_FillValue', data=np.nan)\n",
      "/home/jovyan/isce3/python/packages/nisar/workflows/gcov.py:769: DeprecationWarning: `product` is deprecated as of NumPy 1.25.0, and will be removed in NumPy 2.0. Please use `prod` instead.\n",
      "  dset.attrs.create('min_value', data=stats_obj.min)\n",
      "/home/jovyan/isce3/python/packages/nisar/workflows/gcov.py:770: DeprecationWarning: `product` is deprecated as of NumPy 1.25.0, and will be removed in NumPy 2.0. Please use `prod` instead.\n",
      "  dset.attrs.create('mean_value', data=stats_obj.mean)\n",
      "/home/jovyan/isce3/python/packages/nisar/workflows/gcov.py:771: DeprecationWarning: `product` is deprecated as of NumPy 1.25.0, and will be removed in NumPy 2.0. Please use `prod` instead.\n",
      "  dset.attrs.create('max_value', data=stats_obj.max)\n",
      "/home/jovyan/isce3/python/packages/nisar/workflows/gcov.py:772: DeprecationWarning: `product` is deprecated as of NumPy 1.25.0, and will be removed in NumPy 2.0. Please use `prod` instead.\n",
      "  dset.attrs.create('sample_standard_deviation', data=stats_obj.sample_stddev)\n",
      "/home/jovyan/isce3/python/packages/nisar/workflows/gcov.py:790: DeprecationWarning: `product` is deprecated as of NumPy 1.25.0, and will be removed in NumPy 2.0. Please use `prod` instead.\n",
      "  dset.attrs.create('valid_min', data=valid_min)\n",
      "/home/jovyan/isce3/python/packages/nisar/workflows/gcov.py:793: DeprecationWarning: `product` is deprecated as of NumPy 1.25.0, and will be removed in NumPy 2.0. Please use `prod` instead.\n",
      "  dset.attrs.create('valid_max', data=valid_max)\n",
      "\n"
     ]
    },
    {
     "name": "stdout",
     "output_type": "stream",
     "text": [
      "\n",
      "0000483902_001001_ALOS2451151310-220930\n",
      "\n",
      "conda run -n isce3_src /home/jovyan/isce3/share/nisar/examples/alos2_to_nisar_l1.py -i /scratch/alex_eco_test/BONA/ALOS2/0000483902_001001_ALOS2451151310-220930 -o /scratch/alex_eco_test/BONA/ALOS2/0000483902_001001_ALOS2451151310-220930.h5\n"
     ]
    }
   ],
   "source": [
    "%%time\n",
    "for ALOS2folder in ALOS2folders[:]:\n",
    "    ALOS2_id = ALOS2folder.split('/')[-1]\n",
    "    print('')\n",
    "    print(ALOS2_id)\n",
    "    \n",
    "    ##ALOS2 SLC --> NISAR RSLC\n",
    "    command = f\"conda run -n isce3_src /home/jovyan/isce3/share/nisar/examples/alos2_to_nisar_l1.py -i {ALOS2folder} -o {ALOS2_dir/ALOS2_id}.h5\"\n",
    "    print('')\n",
    "    print(command)    \n",
    "    if os.path.isfile(f\"{ALOS2_dir/ALOS2_id}.h5\")==False or os.path.getsize(f\"{ALOS2_dir/ALOS2_id}.h5\")<6000000000:\n",
    "        try: os.remove(f\"{ALOS2_dir/ALOS2_id}.h5\")\n",
    "        except:''\n",
    "        output = subprocess.check_output(command, shell=True)\n",
    "\n",
    "    \n",
    "    ## Get NISAR DEM\n",
    "    command = f\"conda run -n isce3_src /home/jovyan/isce3/python/packages/nisar/workflows/stage_dem.py -p {ALOS2_dir/ALOS2_id}.h5 -o {DEM_dir/ALOS2_id}.vrt\"\n",
    "    print('')\n",
    "    print(command)    \n",
    "\n",
    "    if os.path.isfile(f\"{DEM_dir/ALOS2_id}.vrt\")==False:\n",
    "        output = subprocess.check_output(command, shell=True)\n",
    "\n",
    "    \n",
    "    ## NISAR RSLC --> NISAR GCOV\n",
    "    filein = open('/home/jovyan/gcov_template.yaml')\n",
    "    template = Template(filein.read())\n",
    "    replacements = {'inputfile':  f\"{ALOS2_dir/ALOS2_id}.h5\",\n",
    "                    'outputfile':  f\"{GCOV_dir/ALOS2_id}_gcov.h5\",\n",
    "                    'demfile': f\"{DEM_dir/ALOS2_id}.vrt\",\n",
    "                    'tmp': f\"{TMP_dir}/\"\n",
    "                    }\n",
    "    makeoutput = template.substitute(replacements)\n",
    "    file = open('%s/%s.yaml' %(GCOV_dir,ALOS2_id),'w')\n",
    "    file.write(makeoutput)\n",
    "    file.close()\n",
    "    filein.close()\n",
    "\n",
    "    command = f\"conda run -n isce3_src /home/jovyan/isce3/python/packages/nisar/workflows/gcov.py {GCOV_dir/ALOS2_id}.yaml\"\n",
    "    print('')\n",
    "    print(command)\n",
    "    if os.path.isfile(f\"{GCOV_dir/ALOS2_id}_gcov.h5\")==False:\n",
    "        output = subprocess.check_output(command, shell=True)\n"
   ]
  },
  {
   "cell_type": "code",
   "execution_count": 111,
   "id": "4358256b-bb79-4fcc-91a7-160fda690c78",
   "metadata": {
    "tags": []
   },
   "outputs": [],
   "source": [
    "## Command line option\n",
    "\n",
    "######## ALOS2 SLC to NISAR RSLC\n",
    "# for f in /scratch/alex_eco_test/ALOS2/southfork/*/; \n",
    "# do python /home/jovyan/isce3/share/nisar/examples/alos2_to_nisar_l1.py -i $f -o \"${f%.*}\".h5; \n",
    "# done\n",
    "\n",
    "######## Get NISAR DEM\n",
    "# for f in /scratch/alex_eco_test/ALOS2/southfork/rslc/*; \n",
    "# do python /home/jovyan/isce3/python/packages/nisar/workflows/stage_dem.py -p $f -o \"${f%.*}\".vrt; \n",
    "# done\n",
    "\n",
    "######## NISAR RSLC to NISAR GCOV\n",
    "# for f in /scratch/alex_eco_test/ALOS2/southfork/rslc/*.yaml; \n",
    "# do python /home/jovyan/isce3/python/packages/nisar/workflows/gcov.py $f; \n",
    "# done"
   ]
  },
  {
   "cell_type": "code",
   "execution_count": null,
   "id": "c7165d81-6957-4e14-b953-99943bda4232",
   "metadata": {
    "tags": []
   },
   "outputs": [],
   "source": [
    "NISAR_GCOVs = [os.path.join(dirpath,f)\n",
    "                for dirpath,dirnames, files in os.walk(GCOV_dir)\n",
    "                for f in fnmatch.filter(files,'*.h5')]\n",
    "NISAR_GCOVs"
   ]
  },
  {
   "cell_type": "code",
   "execution_count": null,
   "id": "32e82b57-c843-4a2c-824a-ec49efa886d0",
   "metadata": {
    "tags": []
   },
   "outputs": [],
   "source": []
  },
  {
   "cell_type": "code",
   "execution_count": null,
   "id": "0c108fbb-f050-4a35-9db5-d66e86cb8461",
   "metadata": {
    "tags": []
   },
   "outputs": [],
   "source": []
  },
  {
   "cell_type": "code",
   "execution_count": null,
   "id": "c82dd33e-745b-4180-9795-6707b3ab9f32",
   "metadata": {
    "tags": []
   },
   "outputs": [],
   "source": []
  },
  {
   "cell_type": "code",
   "execution_count": null,
   "id": "d3a4d4f9-6638-4e50-9cb2-c0527bb23980",
   "metadata": {},
   "outputs": [],
   "source": []
  }
 ],
 "metadata": {
  "kernelspec": {
   "display_name": "isce3_src",
   "language": "python",
   "name": "isce3_src"
  },
  "language_info": {
   "codemirror_mode": {
    "name": "ipython",
    "version": 3
   },
   "file_extension": ".py",
   "mimetype": "text/x-python",
   "name": "python",
   "nbconvert_exporter": "python",
   "pygments_lexer": "ipython3",
   "version": "3.9.17"
  }
 },
 "nbformat": 4,
 "nbformat_minor": 5
}
