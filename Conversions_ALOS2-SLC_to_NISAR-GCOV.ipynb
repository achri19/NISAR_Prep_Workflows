{
 "cells": [
  {
   "cell_type": "markdown",
   "id": "a6195696-d4f9-425c-b7a9-79c7aac18903",
   "metadata": {},
   "source": [
    "# <img src=\"https://upload.wikimedia.org/wikipedia/commons/6/60/NISAR_artist_concept.jpg\" width=400 align=\"left\"/>\n",
    "<img src=\"https://upload.wikimedia.org/wikipedia/commons/9/9b/NISAR_Mission_Logo.png\" width=400 align=\"left\"/><br><br><br><br><br>\n",
    "\n"
   ]
  },
  {
   "cell_type": "markdown",
   "id": "3e7ba3b7-d7e0-4f8d-be90-f4fea8db69c0",
   "metadata": {},
   "source": [
    "# Convert ALOS2 Data to GCOV\n",
    "\n",
    "In preparation for NISAR, this notebook converts ALOS-2 SLC data to NISAR RSLC to NISAR GCOV.\n",
    "\n",
    "\n",
    "These steps can be run in the command line, details are below."
   ]
  },
  {
   "cell_type": "code",
   "execution_count": 1,
   "id": "b3a41cd0-91b7-4afe-88ad-dbce4b3e941a",
   "metadata": {
    "tags": []
   },
   "outputs": [],
   "source": [
    "import os\n",
    "import sys\n",
    "from pathlib import Path\n",
    "import subprocess\n",
    "import fnmatch\n",
    "import zipfile\n",
    "import h5py\n",
    "from string import Template\n",
    "from osgeo import gdal\n",
    "import numpy as np\n",
    "import math"
   ]
  },
  {
   "cell_type": "markdown",
   "id": "15590b4e-2359-4f57-9953-6b2c7aef75b5",
   "metadata": {},
   "source": [
    "## Choose your place to save your outputs. \n",
    "\n",
    "The home directory should be used (not scratch) unless very large storage space is needed. Files should be moved to the S3 bucket after processing. "
   ]
  },
  {
   "cell_type": "code",
   "execution_count": 2,
   "id": "f2b3d3d1-4f46-403c-b680-628cfcb7c682",
   "metadata": {
    "tags": []
   },
   "outputs": [],
   "source": [
    "working_dir = Path(os.get_cwd())\n"
   ]
  },
  {
   "cell_type": "markdown",
   "id": "ec3525da-c42f-4fab-9f71-6654b05bd3bf",
   "metadata": {},
   "source": [
    "## Choose your AOI\n",
    "\n",
    "New directories will be made to store files for this AOI"
   ]
  },
  {
   "cell_type": "code",
   "execution_count": 3,
   "id": "602162d6-d82a-4ff8-a14b-923cfa434733",
   "metadata": {
    "tags": []
   },
   "outputs": [],
   "source": [
    "aoi = 'waxlakedelta'\n",
    "\n",
    "aoi_dir = working_dir/aoi\n",
    "RSLC_dir = aoi_dir / 'RSLC'\n",
    "ALOS2_dir = aoi_dir / 'ALOS2'\n",
    "DEM_dir = aoi_dir / 'DEM'\n",
    "GCOV_dir = aoi_dir / 'GCOV'\n",
    "TMP_dir = aoi_dir / 'TMP'\n",
    "\n",
    "Path(aoi_dir).mkdir(parents=True, exist_ok=True)\n",
    "Path(RSLC_dir).mkdir(parents=True, exist_ok=True)\n",
    "Path(ALOS2_dir).mkdir(parents=True, exist_ok=True)\n",
    "Path(DEM_dir).mkdir(parents=True, exist_ok=True)\n",
    "Path(GCOV_dir).mkdir(parents=True, exist_ok=True)\n",
    "Path(TMP_dir).mkdir(parents=True, exist_ok=True)\n",
    "\n"
   ]
  },
  {
   "cell_type": "markdown",
   "id": "5e80d13b-1dc0-4c12-8ec5-46e8c4ef43fd",
   "metadata": {},
   "source": [
    "## Copy the ALOS2 URLs into a list"
   ]
  },
  {
   "cell_type": "code",
   "execution_count": 4,
   "id": "19d51a3d-e789-49fa-a617-762074b2c92e",
   "metadata": {
    "tags": []
   },
   "outputs": [],
   "source": [
    "list_of_ALOS_SLCs = ['https://cumulus.asf.alaska.edu/L1.1/A4/0000436588_001001_ALOS2390510580-210816.zip',\n",
    "                        'https://cumulus.asf.alaska.edu/L1.1/A4/0000470239_001001_ALOS2427770580-220425.zip']\n",
    "                        "
   ]
  },
  {
   "cell_type": "markdown",
   "id": "c32a3160-3d4b-424d-be88-5ad1a0a28b58",
   "metadata": {
    "tags": []
   },
   "source": [
    "## Download the ALOS2 files using wget"
   ]
  },
  {
   "cell_type": "code",
   "execution_count": 5,
   "id": "3c8af914-2a30-4b67-902d-cca76564430a",
   "metadata": {
    "tags": []
   },
   "outputs": [
    {
     "name": "stdout",
     "output_type": "stream",
     "text": [
      "https://cumulus.asf.alaska.edu/L1.1/A4/0000436588_001001_ALOS2390510580-210816.zip\n",
      "https://cumulus.asf.alaska.edu/L1.1/A4/0000470239_001001_ALOS2427770580-220425.zip\n"
     ]
    }
   ],
   "source": [
    "for file in list_of_ALOS_SLCs:\n",
    "    print(file)\n",
    "    filename = ALOS2_dir / file.split('/')[-1]\n",
    "    if os.path.isfile(filename)==False:\n",
    "        command = f\"wget -P {ALOS2_dir} -q {file}\"\n",
    "        output = subprocess.check_output(command, shell=True)\n"
   ]
  },
  {
   "cell_type": "markdown",
   "id": "e2a9e0ef-aef8-4782-b100-c5059d254567",
   "metadata": {},
   "source": [
    "## Unzip the ALOS files\n",
    "\n",
    "If you don't want to keep the zip files, you should uncomment the os.remove line"
   ]
  },
  {
   "cell_type": "code",
   "execution_count": 11,
   "id": "ad9dccfd-de79-49f6-943d-abe21fbf3b2d",
   "metadata": {
    "tags": []
   },
   "outputs": [
    {
     "name": "stdout",
     "output_type": "stream",
     "text": [
      "/scratch/alex_eco_test/waxlakedelta/ALOS2/0000436588_001001_ALOS2390510580-210816.zip\n",
      "/scratch/alex_eco_test/waxlakedelta/ALOS2/0000470239_001001_ALOS2427770580-220425.zip\n"
     ]
    }
   ],
   "source": [
    "zipfiles = [os.path.join(dirpath,f)\n",
    "                for dirpath,dirnames, files in os.walk(ALOS2_dir)\n",
    "                for f in fnmatch.filter(files,'*.zip')]\n",
    "for file in zipfiles:\n",
    "    print(file)\n",
    "    if os.path.isdir(ALOS2_dir / file[:-4])==False:\n",
    "        ##check full unzipping\n",
    "        # if sum(os.path.getsize(ALOS2_dir / file[:-4] / f) for f in os.listdir(ALOS2_dir / file[:-4]) if os.path.isfile(ALOS2_dir / file[:-4] /f)) < 6509714637:\n",
    "            # with zipfile.ZipFile(file, 'r') as zip_ref:\n",
    "            #     zip_ref.extractall(ALOS2_dir/file.split('/')[-1][:-4])\n",
    "            # # os.remove(file)\n",
    "        with zipfile.ZipFile(file, 'r') as zip_ref:\n",
    "            zip_ref.extractall(ALOS2_dir/file.split('/')[-1][:-4])\n"
   ]
  },
  {
   "cell_type": "markdown",
   "id": "af65b7df-5d79-42a9-b287-4002d325c12b",
   "metadata": {},
   "source": [
    "## Get a list of folders for each ALOS2 file"
   ]
  },
  {
   "cell_type": "code",
   "execution_count": 7,
   "id": "23858301-de8e-430d-9ea1-e035e702f86d",
   "metadata": {
    "tags": []
   },
   "outputs": [
    {
     "data": {
      "text/plain": [
       "['/scratch/alex_eco_test/waxlakedelta/ALOS2/0000470239_001001_ALOS2427770580-220425',\n",
       " '/scratch/alex_eco_test/waxlakedelta/ALOS2/0000436588_001001_ALOS2390510580-210816']"
      ]
     },
     "execution_count": 7,
     "metadata": {},
     "output_type": "execute_result"
    }
   ],
   "source": [
    "ALOS2folders = [os.path.join(dirpath,f)\n",
    "                for dirpath,dirnames, files in os.walk(ALOS2_dir)\n",
    "                for f in fnmatch.filter(dirnames,'*')]\n",
    "ALOS2folders"
   ]
  },
  {
   "cell_type": "markdown",
   "id": "483fe034-9202-4f1f-b98a-a4d7be286570",
   "metadata": {},
   "source": [
    "## Convert ALOS2 SLC to NISAR RSLC format"
   ]
  },
  {
   "cell_type": "code",
   "execution_count": 12,
   "id": "7547e9d0-23a1-464e-b920-75670ab3a6c6",
   "metadata": {},
   "outputs": [
    {
     "name": "stdout",
     "output_type": "stream",
     "text": [
      "\n",
      "0000470239_001001_ALOS2427770580-220425\n",
      "\n",
      "conda run -n isce3_src /home/jovyan/isce3/share/nisar/examples/alos2_to_nisar_l1.py -i /scratch/alex_eco_test/waxlakedelta/ALOS2/0000470239_001001_ALOS2427770580-220425 -o /scratch/alex_eco_test/waxlakedelta/RSLC/0000470239_001001_ALOS2427770580-220425.h5\n",
      "\n",
      "0000436588_001001_ALOS2390510580-210816\n",
      "\n",
      "conda run -n isce3_src /home/jovyan/isce3/share/nisar/examples/alos2_to_nisar_l1.py -i /scratch/alex_eco_test/waxlakedelta/ALOS2/0000436588_001001_ALOS2390510580-210816 -o /scratch/alex_eco_test/waxlakedelta/RSLC/0000436588_001001_ALOS2390510580-210816.h5\n"
     ]
    }
   ],
   "source": [
    "for ALOS2folder in ALOS2folders[:]:\n",
    "    ALOS2_id = ALOS2folder.split('/')[-1]\n",
    "    print('')\n",
    "    print(ALOS2_id)\n",
    "    \n",
    "    ##ALOS2 SLC --> NISAR RSLC\n",
    "    command = f\"conda run -n isce3_src /home/jovyan/isce3/share/nisar/examples/alos2_to_nisar_l1.py -i {ALOS2folder} -o {RSLC_dir/ALOS2_id}.h5\"\n",
    "    print('')\n",
    "    print(command)    \n",
    "    if os.path.isfile(f\"{RSLC_dir/ALOS2_id}.h5\")==False: #or os.path.getsize(f\"{RSLC_dir/ALOS2_id}.h5\")<6000000000:\n",
    "        try: os.remove(f\"{RSLC_dir/ALOS2_id}.h5\")\n",
    "        except:''\n",
    "        output = subprocess.check_output(command, shell=True)"
   ]
  },
  {
   "cell_type": "code",
   "execution_count": 13,
   "id": "fae06bbb-0002-497b-ac2d-6bb90f8b412d",
   "metadata": {
    "tags": []
   },
   "outputs": [
    {
     "data": {
      "text/plain": [
       "['/scratch/alex_eco_test/waxlakedelta/RSLC/0000436588_001001_ALOS2390510580-210816.h5',\n",
       " '/scratch/alex_eco_test/waxlakedelta/RSLC/0000470239_001001_ALOS2427770580-220425.h5']"
      ]
     },
     "execution_count": 13,
     "metadata": {},
     "output_type": "execute_result"
    }
   ],
   "source": [
    "ALOS2_RSLCs = [os.path.join(dirpath,f)\n",
    "                for dirpath,dirnames, files in os.walk(RSLC_dir)\n",
    "                for f in fnmatch.filter(files,'*')]\n",
    "ALOS2_RSLCs"
   ]
  },
  {
   "cell_type": "markdown",
   "id": "1c1bd920-03ba-495b-b4b2-80d3c13b3714",
   "metadata": {},
   "source": [
    "## Get a DEM for the first ALOS2 file in the stack "
   ]
  },
  {
   "cell_type": "code",
   "execution_count": 14,
   "id": "082b7233-90df-483a-9832-5cd8754e6104",
   "metadata": {
    "tags": []
   },
   "outputs": [
    {
     "name": "stdout",
     "output_type": "stream",
     "text": [
      "\n",
      "0000436588_001001_ALOS2390510580-210816\n",
      "\n",
      "conda run -n isce3_src /home/jovyan/isce3/python/packages/nisar/workflows/stage_dem.py -p /scratch/alex_eco_test/waxlakedelta/RSLC/0000436588_001001_ALOS2390510580-210816.h5 -o /scratch/alex_eco_test/waxlakedelta/DEM/0000436588_001001_ALOS2390510580-210816.vrt\n"
     ]
    }
   ],
   "source": [
    "\n",
    "ALOS2_ref = ALOS2_RSLCs[0].split('/')[-1][:-3]\n",
    "print('')\n",
    "print(ALOS2_ref)\n",
    "\n",
    "## Get NISAR DEM\n",
    "command = f\"conda run -n isce3_src /home/jovyan/isce3/python/packages/nisar/workflows/stage_dem.py -p {RSLC_dir/ALOS2_ref}.h5 -o {DEM_dir/ALOS2_ref}.vrt\"\n",
    "print('')\n",
    "print(command)    \n",
    "\n",
    "if os.path.isfile(f\"{DEM_dir/ALOS2_ref}.vrt\")==False:\n",
    "    output = subprocess.check_output(command, shell=True)"
   ]
  },
  {
   "cell_type": "markdown",
   "id": "7d98b8a4-6741-46dc-9cd4-2d56167cbbd0",
   "metadata": {},
   "source": [
    "## Process NISAR RSLC to GCOV\n",
    "\n",
    "### If you want to change to UTM coordiates, set utm = True and choose the x and y posting. The default is 20m"
   ]
  },
  {
   "cell_type": "code",
   "execution_count": 40,
   "id": "3ae768f9-8dd0-4920-8be9-272f5117f439",
   "metadata": {
    "tags": []
   },
   "outputs": [
    {
     "name": "stdout",
     "output_type": "stream",
     "text": [
      "32615\n"
     ]
    }
   ],
   "source": [
    "x_posting = ''\n",
    "y_posting = ''\n",
    "\n",
    "EPSG = ''\n",
    "\n",
    "\n",
    "utm = True\n",
    "if utm:\n",
    "    src = gdal.Open(f\"{DEM_dir/ALOS2_ref}.vrt\")\n",
    "    ulx, xres, xskew, uly, yskew, yres  = src.GetGeoTransform()\n",
    "    lrx = ulx + (src.RasterXSize * xres)\n",
    "    lry = uly + (src.RasterYSize * yres)\n",
    "\n",
    "    x1,y1,x2,y2 = math.floor(ulx),math.floor(uly),math.floor(lrx),math.floor(lry)\n",
    "\n",
    "    zone = int(np.ceil((ulx + 180)/6))\n",
    "\n",
    "    if y1>=0:\n",
    "        EPSG = 32600+zone\n",
    "    elif y1<0:\n",
    "        EPSG = 32600+zone\n",
    "\n",
    "    x_posting = 20\n",
    "    y_posting = 20\n",
    "    \n",
    "print(EPSG)"
   ]
  },
  {
   "cell_type": "markdown",
   "id": "4481a71c-33d7-4246-a7d7-27b30aac5163",
   "metadata": {
    "tags": []
   },
   "source": [
    "### Run the GCOV processor on the first image in the stack. This image will be used to determine the bounding box of the remaining images in the stack"
   ]
  },
  {
   "cell_type": "code",
   "execution_count": 23,
   "id": "17981e8e-acce-4827-8362-e7df9ebd49f3",
   "metadata": {
    "tags": []
   },
   "outputs": [
    {
     "name": "stdout",
     "output_type": "stream",
     "text": [
      "\n",
      "conda run -n isce3_src /home/jovyan/isce3/python/packages/nisar/workflows/gcov.py /scratch/alex_eco_test/waxlakedelta/GCOV/0000436588_001001_ALOS2390510580-210816.yaml\n"
     ]
    },
    {
     "name": "stderr",
     "output_type": "stream",
     "text": [
      "WARNING: overwriting environment variables set in the machine\n",
      "overwriting variable {'LD_LIBRARY_PATH'}\n",
      "/home/jovyan/isce3/build/packages/nisar/workflows/h5_prep.py:207: UserWarning: swmr=True only affects read ('r') mode. For swmr write mode, set f.swmr_mode = True after opening the file.\n",
      "  h5py.File(output_hdf5, 'w', libver='latest', swmr=True) as dst_h5:\n",
      "/home/jovyan/isce3/build/packages/nisar/workflows/h5_prep.py:489: UserWarning: swmr=True only affects read ('r') mode. For swmr write mode, set f.swmr_mode = True after opening the file.\n",
      "  with h5py.File(output_hdf5, 'a', libver='latest', swmr=True) as dst_h5:\n",
      "/home/jovyan/isce3/python/packages/nisar/workflows/gcov.py:765: DeprecationWarning: `product` is deprecated as of NumPy 1.25.0, and will be removed in NumPy 2.0. Please use `prod` instead.\n",
      "  dset.attrs.create('_FillValue', data=np.nan)\n",
      "/home/jovyan/isce3/python/packages/nisar/workflows/gcov.py:769: DeprecationWarning: `product` is deprecated as of NumPy 1.25.0, and will be removed in NumPy 2.0. Please use `prod` instead.\n",
      "  dset.attrs.create('min_value', data=stats_obj.min)\n",
      "/home/jovyan/isce3/python/packages/nisar/workflows/gcov.py:770: DeprecationWarning: `product` is deprecated as of NumPy 1.25.0, and will be removed in NumPy 2.0. Please use `prod` instead.\n",
      "  dset.attrs.create('mean_value', data=stats_obj.mean)\n",
      "/home/jovyan/isce3/python/packages/nisar/workflows/gcov.py:771: DeprecationWarning: `product` is deprecated as of NumPy 1.25.0, and will be removed in NumPy 2.0. Please use `prod` instead.\n",
      "  dset.attrs.create('max_value', data=stats_obj.max)\n",
      "/home/jovyan/isce3/python/packages/nisar/workflows/gcov.py:772: DeprecationWarning: `product` is deprecated as of NumPy 1.25.0, and will be removed in NumPy 2.0. Please use `prod` instead.\n",
      "  dset.attrs.create('sample_standard_deviation', data=stats_obj.sample_stddev)\n",
      "/home/jovyan/isce3/python/packages/nisar/workflows/gcov.py:790: DeprecationWarning: `product` is deprecated as of NumPy 1.25.0, and will be removed in NumPy 2.0. Please use `prod` instead.\n",
      "  dset.attrs.create('valid_min', data=valid_min)\n",
      "/home/jovyan/isce3/python/packages/nisar/workflows/gcov.py:793: DeprecationWarning: `product` is deprecated as of NumPy 1.25.0, and will be removed in NumPy 2.0. Please use `prod` instead.\n",
      "  dset.attrs.create('valid_max', data=valid_max)\n",
      "\n"
     ]
    }
   ],
   "source": [
    "\n",
    "## NISAR RSLC --> NISAR GCOV\n",
    "filein = open('gcov_template.yaml')\n",
    "template = Template(filein.read())\n",
    "replacements = {'inputfile':  f\"{RSLC_dir/ALOS2_ref}.h5\",\n",
    "                'outputfile':  f\"{GCOV_dir/ALOS2_ref}_gcov_%s.h5\" %(EPSG),\n",
    "                'demfile': f\"{DEM_dir/ALOS2_ref}.vrt\",\n",
    "                'tmp': f\"{TMP_dir}/\",\n",
    "                'epsg': EPSG,\n",
    "                'xposting': x_posting,\n",
    "                'yposting': y_posting,\n",
    "                'top_left_y': '',\n",
    "                'top_left_x : ''\n",
    "                }\n",
    "makeoutput = template.substitute(replacements)\n",
    "file = open('%s/%s.yaml' %(GCOV_dir,ALOS2_ref),'w')\n",
    "file.write(makeoutput)\n",
    "file.close()\n",
    "filein.close()\n",
    "\n",
    "command = f\"conda run -n isce3_src /home/jovyan/isce3/python/packages/nisar/workflows/gcov.py {GCOV_dir/ALOS2_ref}.yaml\"\n",
    "print('')\n",
    "print(command)\n",
    "if os.path.isfile(f\"{GCOV_dir/ALOS2_ref}_gcov_utm.h5\")==False:\n",
    "    output = subprocess.check_output(command, shell=True)\n"
   ]
  },
  {
   "cell_type": "markdown",
   "id": "e26a7646-f1ca-468c-8c1c-f9266d5c650c",
   "metadata": {},
   "source": [
    "## Get top left coordinates of bottom right coordinates of reference image"
   ]
  },
  {
   "cell_type": "code",
   "execution_count": 36,
   "id": "382aa198-2fe3-4ad7-93f3-443cb0c810ac",
   "metadata": {
    "tags": []
   },
   "outputs": [
    {
     "name": "stdout",
     "output_type": "stream",
     "text": [
      "Force top left to be: 620907.7793358738 3304674.2592810793\n",
      "Force top right to be: 718447.7793358738 3220074.2592810793\n"
     ]
    }
   ],
   "source": [
    "f = h5py.File(f\"{GCOV_dir/ALOS2_ref}_gcov_%s.h5\" %(EPSG), \"r\") \n",
    "a_group_key = list(f.keys())[0]\n",
    "ds_x = f[a_group_key]['LSAR']['GCOV']['grids']['frequencyA']['xCoordinates'][()]      # returns as a h5py dataset object\n",
    "ds_y = f[a_group_key]['LSAR']['GCOV']['grids']['frequencyA']['yCoordinates'][()]      # returns as a h5py dataset object\n",
    "\n",
    "ulx = ds_x[0]\n",
    "lrx = ds_x[-1]\n",
    "uly = ds_y[0]\n",
    "lry = ds_y[-1]\n",
    "        # 'transform': rasterio.Affine(ds_x[1] - ds_x[0], 0.0, ds_x[0], 0.0, ds_y[1] - ds_y[0], ds_y[0]), \n",
    "\n",
    "print('Force top left to be: %s %s' %(ulx,uly))\n",
    "print('Force top right to be: %s %s' %(lrx,lry))\n",
    "\n"
   ]
  },
  {
   "cell_type": "markdown",
   "id": "32e7bd85-8e2e-4741-a86e-f95f29ec8202",
   "metadata": {},
   "source": [
    "### Process the remaining RSLC files to GCOV using the bounding box set by the reference images"
   ]
  },
  {
   "cell_type": "code",
   "execution_count": 38,
   "id": "4eb60850-d567-4f8e-8eaf-8106f6c7c46e",
   "metadata": {
    "tags": []
   },
   "outputs": [
    {
     "name": "stdout",
     "output_type": "stream",
     "text": [
      "\n",
      "0000436588_001001_ALOS2390510580-210816\n",
      "\n",
      "conda run -n isce3_src /home/jovyan/isce3/python/packages/nisar/workflows/gcov.py /scratch/alex_eco_test/waxlakedelta/GCOV/0000436588_001001_ALOS2390510580-210816.yaml\n"
     ]
    },
    {
     "name": "stderr",
     "output_type": "stream",
     "text": [
      "WARNING: overwriting environment variables set in the machine\n",
      "overwriting variable {'LD_LIBRARY_PATH'}\n",
      "/home/jovyan/isce3/build/packages/nisar/workflows/h5_prep.py:207: UserWarning: swmr=True only affects read ('r') mode. For swmr write mode, set f.swmr_mode = True after opening the file.\n",
      "  h5py.File(output_hdf5, 'w', libver='latest', swmr=True) as dst_h5:\n",
      "/home/jovyan/isce3/build/packages/nisar/workflows/h5_prep.py:489: UserWarning: swmr=True only affects read ('r') mode. For swmr write mode, set f.swmr_mode = True after opening the file.\n",
      "  with h5py.File(output_hdf5, 'a', libver='latest', swmr=True) as dst_h5:\n",
      "/home/jovyan/isce3/python/packages/nisar/workflows/gcov.py:765: DeprecationWarning: `product` is deprecated as of NumPy 1.25.0, and will be removed in NumPy 2.0. Please use `prod` instead.\n",
      "  dset.attrs.create('_FillValue', data=np.nan)\n",
      "/home/jovyan/isce3/python/packages/nisar/workflows/gcov.py:769: DeprecationWarning: `product` is deprecated as of NumPy 1.25.0, and will be removed in NumPy 2.0. Please use `prod` instead.\n",
      "  dset.attrs.create('min_value', data=stats_obj.min)\n",
      "/home/jovyan/isce3/python/packages/nisar/workflows/gcov.py:770: DeprecationWarning: `product` is deprecated as of NumPy 1.25.0, and will be removed in NumPy 2.0. Please use `prod` instead.\n",
      "  dset.attrs.create('mean_value', data=stats_obj.mean)\n",
      "/home/jovyan/isce3/python/packages/nisar/workflows/gcov.py:771: DeprecationWarning: `product` is deprecated as of NumPy 1.25.0, and will be removed in NumPy 2.0. Please use `prod` instead.\n",
      "  dset.attrs.create('max_value', data=stats_obj.max)\n",
      "/home/jovyan/isce3/python/packages/nisar/workflows/gcov.py:772: DeprecationWarning: `product` is deprecated as of NumPy 1.25.0, and will be removed in NumPy 2.0. Please use `prod` instead.\n",
      "  dset.attrs.create('sample_standard_deviation', data=stats_obj.sample_stddev)\n",
      "/home/jovyan/isce3/python/packages/nisar/workflows/gcov.py:790: DeprecationWarning: `product` is deprecated as of NumPy 1.25.0, and will be removed in NumPy 2.0. Please use `prod` instead.\n",
      "  dset.attrs.create('valid_min', data=valid_min)\n",
      "/home/jovyan/isce3/python/packages/nisar/workflows/gcov.py:793: DeprecationWarning: `product` is deprecated as of NumPy 1.25.0, and will be removed in NumPy 2.0. Please use `prod` instead.\n",
      "  dset.attrs.create('valid_max', data=valid_max)\n",
      "\n"
     ]
    },
    {
     "name": "stdout",
     "output_type": "stream",
     "text": [
      "\n",
      "0000470239_001001_ALOS2427770580-220425\n",
      "\n",
      "conda run -n isce3_src /home/jovyan/isce3/python/packages/nisar/workflows/gcov.py /scratch/alex_eco_test/waxlakedelta/GCOV/0000470239_001001_ALOS2427770580-220425.yaml\n"
     ]
    },
    {
     "name": "stderr",
     "output_type": "stream",
     "text": [
      "WARNING: overwriting environment variables set in the machine\n",
      "overwriting variable {'LD_LIBRARY_PATH'}\n",
      "/home/jovyan/isce3/build/packages/nisar/workflows/h5_prep.py:207: UserWarning: swmr=True only affects read ('r') mode. For swmr write mode, set f.swmr_mode = True after opening the file.\n",
      "  h5py.File(output_hdf5, 'w', libver='latest', swmr=True) as dst_h5:\n",
      "/home/jovyan/isce3/build/packages/nisar/workflows/h5_prep.py:489: UserWarning: swmr=True only affects read ('r') mode. For swmr write mode, set f.swmr_mode = True after opening the file.\n",
      "  with h5py.File(output_hdf5, 'a', libver='latest', swmr=True) as dst_h5:\n",
      "/home/jovyan/isce3/python/packages/nisar/workflows/gcov.py:765: DeprecationWarning: `product` is deprecated as of NumPy 1.25.0, and will be removed in NumPy 2.0. Please use `prod` instead.\n",
      "  dset.attrs.create('_FillValue', data=np.nan)\n",
      "/home/jovyan/isce3/python/packages/nisar/workflows/gcov.py:769: DeprecationWarning: `product` is deprecated as of NumPy 1.25.0, and will be removed in NumPy 2.0. Please use `prod` instead.\n",
      "  dset.attrs.create('min_value', data=stats_obj.min)\n",
      "/home/jovyan/isce3/python/packages/nisar/workflows/gcov.py:770: DeprecationWarning: `product` is deprecated as of NumPy 1.25.0, and will be removed in NumPy 2.0. Please use `prod` instead.\n",
      "  dset.attrs.create('mean_value', data=stats_obj.mean)\n",
      "/home/jovyan/isce3/python/packages/nisar/workflows/gcov.py:771: DeprecationWarning: `product` is deprecated as of NumPy 1.25.0, and will be removed in NumPy 2.0. Please use `prod` instead.\n",
      "  dset.attrs.create('max_value', data=stats_obj.max)\n",
      "/home/jovyan/isce3/python/packages/nisar/workflows/gcov.py:772: DeprecationWarning: `product` is deprecated as of NumPy 1.25.0, and will be removed in NumPy 2.0. Please use `prod` instead.\n",
      "  dset.attrs.create('sample_standard_deviation', data=stats_obj.sample_stddev)\n",
      "/home/jovyan/isce3/python/packages/nisar/workflows/gcov.py:790: DeprecationWarning: `product` is deprecated as of NumPy 1.25.0, and will be removed in NumPy 2.0. Please use `prod` instead.\n",
      "  dset.attrs.create('valid_min', data=valid_min)\n",
      "/home/jovyan/isce3/python/packages/nisar/workflows/gcov.py:793: DeprecationWarning: `product` is deprecated as of NumPy 1.25.0, and will be removed in NumPy 2.0. Please use `prod` instead.\n",
      "  dset.attrs.create('valid_max', data=valid_max)\n",
      "\n"
     ]
    }
   ],
   "source": [
    "for ALOS2_RSLC in ALOS2_RSLCs[1:2]:\n",
    "    ALOS2_id = ALOS2_RSLC.split('/')[-1][:-3]\n",
    "    print('')\n",
    "    print(ALOS2_id)\n",
    "\n",
    "  \n",
    "    ## NISAR RSLC --> NISAR GCOV\n",
    "    filein = open('gcov_template.yaml')\n",
    "    template = Template(filein.read())\n",
    "    replacements = {'inputfile':  f\"{RSLC_dir/ALOS2_id}.h5\",\n",
    "                    'outputfile':  f\"{GCOV_dir/ALOS2_id}_gcov_%s.h5\" %(EPSG),\n",
    "                    'demfile': f\"{DEM_dir/ALOS2_ref}.vrt\",\n",
    "                    'tmp': f\"{TMP_dir}/\",\n",
    "                    'epsg': EPSG,\n",
    "                    'xposting': x_posting,\n",
    "                    'yposting': y_posting,\n",
    "                    'top_left_y': uly,\n",
    "                    'top_left_x':ulx,\n",
    "                    'bottom_right_y':lry,\n",
    "                    'bottom_right_x': lrx\n",
    "                    }\n",
    "    makeoutput = template.substitute(replacements)\n",
    "    file = open('%s/%s.yaml' %(GCOV_dir,ALOS2_id),'w')\n",
    "    file.write(makeoutput)\n",
    "    file.close()\n",
    "    filein.close()\n",
    "\n",
    "    command = f\"conda run -n isce3_src /home/jovyan/isce3/python/packages/nisar/workflows/gcov.py {GCOV_dir/ALOS2_id}.yaml\"\n",
    "    print('')\n",
    "    print(command)\n",
    "    if os.path.isfile(f\"{GCOV_dir/ALOS2_id}_gcov_utm.h5\")==False:\n",
    "        output = subprocess.check_output(command, shell=True)\n"
   ]
  },
  {
   "cell_type": "markdown",
   "id": "a5a797e8-7d3b-41c3-b8f7-3fe9eb3075ca",
   "metadata": {},
   "source": [
    "## See final list of NISAR GCOV data files"
   ]
  },
  {
   "cell_type": "code",
   "execution_count": 41,
   "id": "c7165d81-6957-4e14-b953-99943bda4232",
   "metadata": {
    "tags": []
   },
   "outputs": [
    {
     "data": {
      "text/plain": [
       "['/scratch/alex_eco_test/waxlakedelta/GCOV/0000436588_001001_ALOS2390510580-210816_gcov.h5',\n",
       " '/scratch/alex_eco_test/waxlakedelta/GCOV/0000436588_001001_ALOS2390510580-210816_gcov_32615.h5',\n",
       " '/scratch/alex_eco_test/waxlakedelta/GCOV/0000470239_001001_ALOS2427770580-220425_gcov.h5',\n",
       " '/scratch/alex_eco_test/waxlakedelta/GCOV/0000470239_001001_ALOS2427770580-220425_gcov_32615.h5']"
      ]
     },
     "execution_count": 41,
     "metadata": {},
     "output_type": "execute_result"
    }
   ],
   "source": [
    "NISAR_GCOVs = [os.path.join(dirpath,f)\n",
    "                for dirpath,dirnames, files in os.walk(GCOV_dir)\n",
    "                for f in fnmatch.filter(files,'*.h5')]\n",
    "NISAR_GCOVs"
   ]
  },
  {
   "cell_type": "code",
   "execution_count": null,
   "id": "4358256b-bb79-4fcc-91a7-160fda690c78",
   "metadata": {
    "tags": []
   },
   "outputs": [],
   "source": [
    "## Command line option\n",
    "\n",
    "######## ALOS2 SLC to NISAR RSLC\n",
    "# for f in /scratch/alex_eco_test/ALOS2/southfork/*/; \n",
    "# do python /home/jovyan/isce3/share/nisar/examples/alos2_to_nisar_l1.py -i $f -o \"${f%.*}\".h5; \n",
    "# done\n",
    "\n",
    "######## Get NISAR DEM\n",
    "# for f in /scratch/alex_eco_test/ALOS2/southfork/rslc/*; \n",
    "# do python /home/jovyan/isce3/python/packages/nisar/workflows/stage_dem.py -p $f -o \"${f%.*}\".vrt; \n",
    "# done\n",
    "\n",
    "######## NISAR RSLC to NISAR GCOV\n",
    "# for f in /scratch/alex_eco_test/ALOS2/southfork/rslc/*.yaml; \n",
    "# do python /home/jovyan/isce3/python/packages/nisar/workflows/gcov.py $f; \n",
    "# done"
   ]
  },
  {
   "cell_type": "code",
   "execution_count": null,
   "id": "32e82b57-c843-4a2c-824a-ec49efa886d0",
   "metadata": {
    "tags": []
   },
   "outputs": [],
   "source": []
  },
  {
   "cell_type": "code",
   "execution_count": null,
   "id": "0c108fbb-f050-4a35-9db5-d66e86cb8461",
   "metadata": {
    "tags": []
   },
   "outputs": [],
   "source": []
  },
  {
   "cell_type": "code",
   "execution_count": null,
   "id": "c82dd33e-745b-4180-9795-6707b3ab9f32",
   "metadata": {
    "tags": []
   },
   "outputs": [],
   "source": []
  },
  {
   "cell_type": "code",
   "execution_count": null,
   "id": "d3a4d4f9-6638-4e50-9cb2-c0527bb23980",
   "metadata": {},
   "outputs": [],
   "source": []
  }
 ],
 "metadata": {
  "kernelspec": {
   "display_name": "isce3_src",
   "language": "python",
   "name": "isce3_src"
  },
  "language_info": {
   "codemirror_mode": {
    "name": "ipython",
    "version": 3
   },
   "file_extension": ".py",
   "mimetype": "text/x-python",
   "name": "python",
   "nbconvert_exporter": "python",
   "pygments_lexer": "ipython3",
   "version": "3.9.17"
  }
 },
 "nbformat": 4,
 "nbformat_minor": 5
}
