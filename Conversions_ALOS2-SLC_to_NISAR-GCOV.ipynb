{
 "cells": [
  {
   "cell_type": "markdown",
   "id": "3e7ba3b7-d7e0-4f8d-be90-f4fea8db69c0",
   "metadata": {},
   "source": [
    "### Convert ALOS2 Data to GCOV"
   ]
  },
  {
   "cell_type": "code",
   "execution_count": null,
   "id": "b3a41cd0-91b7-4afe-88ad-dbce4b3e941a",
   "metadata": {
    "tags": []
   },
   "outputs": [],
   "source": [
    "import os\n",
    "import sys\n",
    "from pathlib import Path\n",
    "import subprocess\n",
    "import fnmatch\n",
    "import zipfile\n",
    "import h5py\n",
    "from string import Template\n"
   ]
  },
  {
   "cell_type": "markdown",
   "id": "15590b4e-2359-4f57-9953-6b2c7aef75b5",
   "metadata": {},
   "source": [
    "Choose your scratch folder"
   ]
  },
  {
   "cell_type": "code",
   "execution_count": null,
   "id": "f2b3d3d1-4f46-403c-b680-628cfcb7c682",
   "metadata": {
    "tags": []
   },
   "outputs": [],
   "source": [
    "scratch_folder = Path('/scratch/alex_eco_test/') ##change to your folder\n"
   ]
  },
  {
   "cell_type": "code",
   "execution_count": null,
   "id": "602162d6-d82a-4ff8-a14b-923cfa434733",
   "metadata": {
    "tags": []
   },
   "outputs": [],
   "source": [
    "aoi = 'southfork'\n",
    "\n",
    "aoi_dir = scratch_folder/aoi\n",
    "ALOS2_dir = aoi_dir / 'ALOS2'\n",
    "DEM_dir = aoi_dir / 'DEM'\n",
    "GCOV_dir = aoi_dir / 'GCOV'\n",
    "TMP_dir = aoi_dir / 'TMP'\n",
    "\n",
    "Path(aoi_dir).mkdir(parents=True, exist_ok=True)\n",
    "Path(ALOS2_dir).mkdir(parents=True, exist_ok=True)\n",
    "Path(DEM_dir).mkdir(parents=True, exist_ok=True)\n",
    "Path(GCOV_dir).mkdir(parents=True, exist_ok=True)\n",
    "Path(TMP_dir).mkdir(parents=True, exist_ok=True)\n",
    "\n",
    "print(GCOV_dir)"
   ]
  },
  {
   "cell_type": "code",
   "execution_count": null,
   "id": "19d51a3d-e789-49fa-a617-762074b2c92e",
   "metadata": {
    "tags": []
   },
   "outputs": [],
   "source": [
    "list_of_ALOS_SLCs = ['https://cumulus.asf.alaska.edu/L1.1/A4/0000461060_001001_ALOS2406330840-211201.zip',\n",
    "                        'https://cumulus.asf.alaska.edu/L1.1/A4/0000461057_001001_ALOS2410470840-211229.zip',\n",
    "                        'https://cumulus.asf.alaska.edu/L1.1/A4/0000462196_001001_ALOS2412540840-220112.zip',\n",
    "                        'https://cumulus.asf.alaska.edu/L1.1/A4/0000462195_001001_ALOS2414610840-220126.zip',\n",
    "                        'https://cumulus.asf.alaska.edu/L1.1/A4/0000469570_001001_ALOS2424960840-220406.zip',\n",
    "                        'https://cumulus.asf.alaska.edu/L1.1/A4/0000470073_001001_ALOS2427030840-220420.zip',\n",
    "                        'https://cumulus.asf.alaska.edu/L1.1/A4/0000470939_001001_ALOS2429100840-220504.zip',\n",
    "                        'https://cumulus.asf.alaska.edu/L1.1/A4/0000471229_001001_ALOS2431170840-220518.zip',\n",
    "                        'https://cumulus.asf.alaska.edu/L1.1/A4/0000472194_001001_ALOS2433240840-220601.zip',\n",
    "                        'https://cumulus.asf.alaska.edu/L1.1/A4/0000472776_001001_ALOS2435310840-220615.zip',\n",
    "                        'https://cumulus.asf.alaska.edu/L1.1/A4/0000473049_001001_ALOS2437380840-220629.zip',\n",
    "                        'https://cumulus.asf.alaska.edu/L1.1/A4/0000474580_001001_ALOS2439450840-220713.zip',\n",
    "                        'https://cumulus.asf.alaska.edu/L1.1/A4/0000474962_001001_ALOS2441520840-220727.zip',\n",
    "                        'https://cumulus.asf.alaska.edu/L1.1/A4/0000476734_001001_ALOS2443590840-220810.zip',\n",
    "                        'https://cumulus.asf.alaska.edu/L1.1/A4/0000478941_001001_ALOS2445660840-220824.zip',\n",
    "                        'https://cumulus.asf.alaska.edu/L1.1/A4/0000480752_001001_ALOS2447730840-220907.zip',\n",
    "                        'https://cumulus.asf.alaska.edu/L1.1/A4/0000483019_001001_ALOS2449800840-220921.zip',\n",
    "                        'https://cumulus.asf.alaska.edu/L1.1/A4/0000484607_001001_ALOS2451870840-221005.zip',\n",
    "                        'https://cumulus.asf.alaska.edu/L1.1/A4/0000486388_001001_ALOS2453940840-221019.zip',\n",
    "                        'https://cumulus.asf.alaska.edu/L1.1/A4/0000487638_001001_ALOS2456010840-221102.zip',\n",
    "                        'https://cumulus.asf.alaska.edu/L1.1/A4/0000493581_001001_ALOS2460150840-221130.zip',\n",
    "                        'https://cumulus.asf.alaska.edu/L1.1/A4/0000495714_001001_ALOS2462220840-221214.zip',\n",
    "                        'https://cumulus.asf.alaska.edu/L1.1/A4/0000497486_001001_ALOS2464290840-221228.zip',\n",
    "                        'https://cumulus.asf.alaska.edu/L1.1/A4/0000499756_001001_ALOS2466360840-230111.zip',\n",
    "                        'https://cumulus.asf.alaska.edu/L1.1/A4/0000501936_001001_ALOS2468430840-230125.zip',\n",
    "                        'https://cumulus.asf.alaska.edu/L1.1/A4/0000503165_001001_ALOS2470500840-230208.zip',\n",
    "                        'https://cumulus.asf.alaska.edu/L1.1/A4/0000504382_001001_ALOS2472570840-230222.zip',\n",
    "                        'https://cumulus.asf.alaska.edu/L1.1/A4/0000505514_001001_ALOS2474640840-230308.zip',\n",
    "                        'https://cumulus.asf.alaska.edu/L1.1/A4/0000506843_001001_ALOS2476710840-230322.zip',\n",
    "                        'https://cumulus.asf.alaska.edu/L1.1/A4/0000507907_001001_ALOS2478780840-230405.zip',\n",
    "                        'https://cumulus.asf.alaska.edu/L1.1/A4/0000510241_001001_ALOS2480850840-230419.zip',\n",
    "                        'https://cumulus.asf.alaska.edu/L1.1/A4/0000511819_001001_ALOS2482920840-230503.zip',\n",
    "                        'https://cumulus.asf.alaska.edu/L1.1/A4/0000514846_001001_ALOS2484990840-230517.zip',\n",
    "                        'https://cumulus.asf.alaska.edu/L1.1/A4/0000516588_001001_ALOS2487060840-230531.zip',\n",
    "                        'https://cumulus.asf.alaska.edu/L1.1/A4/0000517838_001001_ALOS2489130840-230614.zip',\n",
    "                        'https://cumulus.asf.alaska.edu/L1.1/A4/0000519712_001001_ALOS2491200840-230628.zip',\n",
    "                        'https://cumulus.asf.alaska.edu/L1.1/A4/0000521694_001001_ALOS2493270840-230712.zip',\n",
    "                        'https://cumulus.asf.alaska.edu/L1.1/A4/0000524097_001001_ALOS2495340840-230726.zip',\n",
    "                        'https://cumulus.asf.alaska.edu/L1.1/A4/0000526555_001001_ALOS2497410840-230809.zip',\n",
    "                        'https://cumulus.asf.alaska.edu/L1.1/A4/0000527820_001001_ALOS2499480840-230823.zip',\n",
    "                        'https://cumulus.asf.alaska.edu/L1.1/A4/0000529197_001001_ALOS2501550840-230906.zip',\n",
    "                        'https://cumulus.asf.alaska.edu/L1.1/A4/0000531054_001001_ALOS2503620840-230920.zip',\n",
    "                        'https://cumulus.asf.alaska.edu/L1.1/A4/0000532666_001001_ALOS2505690840-231004.zip']"
   ]
  },
  {
   "cell_type": "code",
   "execution_count": null,
   "id": "3c8af914-2a30-4b67-902d-cca76564430a",
   "metadata": {
    "tags": []
   },
   "outputs": [],
   "source": [
    "for file in list_of_ALOS_SLCs:\n",
    "    print(file)\n",
    "    filename = ALOS2_dir / file.split('/')[-1]\n",
    "    # urllib.request.urlretrieve(SLC, filename)\n",
    "    if os.path.isfile(filename)==False:\n",
    "        command = f\"wget -P {ALOS2_dir} -q {file}\"\n",
    "        output = subprocess.check_output(command, shell=True)\n",
    "        # https://cumulus.asf.alaska.edu/L1.1/A4/0000470073_001001_ALOS2427030840-220420.zip"
   ]
  },
  {
   "cell_type": "code",
   "execution_count": null,
   "id": "3039ce8f-3002-400a-8fbd-aca2b8c94481",
   "metadata": {},
   "outputs": [],
   "source": []
  },
  {
   "cell_type": "code",
   "execution_count": null,
   "id": "ad9dccfd-de79-49f6-943d-abe21fbf3b2d",
   "metadata": {
    "tags": []
   },
   "outputs": [],
   "source": [
    "zipfiles = [os.path.join(dirpath,f)\n",
    "                for dirpath,dirnames, files in os.walk(ALOS2_dir)\n",
    "                for f in fnmatch.filter(files,'*.zip')]\n",
    "for file in zipfiles:\n",
    "    print(file)\n",
    "    if os.path.isdir(ALOS2_dir / file[:-4]):\n",
    "        ##check full unzipping\n",
    "        if sum(os.path.getsize(ALOS2_dir / file[:-4] / f) for f in os.listdir(ALOS2_dir / file[:-4]) if os.path.isfile(ALOS2_dir / file[:-4] /f)) < 6509714637:\n",
    "            with zipfile.ZipFile(file, 'r') as zip_ref:\n",
    "                zip_ref.extractall(ALOS2_dir/file.split('/')[-1][:-4])\n",
    "            # os.remove(file)\n",
    "    else:\n",
    "        with zipfile.ZipFile(file, 'r') as zip_ref:\n",
    "            zip_ref.extractall(ALOS2_dir/file.split('/')[-1][:-4])\n"
   ]
  },
  {
   "cell_type": "code",
   "execution_count": null,
   "id": "23858301-de8e-430d-9ea1-e035e702f86d",
   "metadata": {
    "tags": []
   },
   "outputs": [],
   "source": [
    "ALOS2folders = [os.path.join(dirpath,f)\n",
    "                for dirpath,dirnames, files in os.walk(ALOS2_dir)\n",
    "                for f in fnmatch.filter(dirnames,'*')]\n",
    "ALOS2folders"
   ]
  },
  {
   "cell_type": "code",
   "execution_count": null,
   "id": "4358256b-bb79-4fcc-91a7-160fda690c78",
   "metadata": {
    "tags": []
   },
   "outputs": [],
   "source": [
    "## Command line option\n",
    "\n",
    "######## ALOS2 SLC to NISAR RSLC\n",
    "# for f in /scratch/alex_eco_test/ALOS2/southfork/*/; \n",
    "# do python /home/jovyan/isce3/share/nisar/examples/alos2_to_nisar_l1.py -i $f -o \"${f%.*}\".h5; \n",
    "# done\n",
    "\n",
    "######## Get NISAR DEM\n",
    "# for f in /scratch/alex_eco_test/ALOS2/southfork/rslc/*; \n",
    "# do python /home/jovyan/isce3/python/packages/nisar/workflows/stage_dem.py -p $f -o \"${f%.*}\".vrt; \n",
    "# done\n",
    "\n",
    "######## NISAR RSLC to NISAR GCOV\n",
    "# for f in /scratch/alex_eco_test/ALOS2/southfork/rslc/*.yaml; \n",
    "# do python /home/jovyan/isce3/python/packages/nisar/workflows/gcov.py $f; \n",
    "# done"
   ]
  },
  {
   "cell_type": "code",
   "execution_count": null,
   "id": "17981e8e-acce-4827-8362-e7df9ebd49f3",
   "metadata": {
    "tags": []
   },
   "outputs": [],
   "source": [
    "for ALOS2folder in ALOS2folders[1:]:\n",
    "    ALOS2_id = ALOS2folder.split('/')[-1]\n",
    "    print('')\n",
    "    print(ALOS2_id)\n",
    "    \n",
    "    ##ALOS2 SLC --> NISAR RSLC\n",
    "    command = f\"conda run -n isce3_src /home/jovyan/isce3/share/nisar/examples/alos2_to_nisar_l1.py -i {ALOS2folder} -o {ALOS2_dir/ALOS2_id}.h5\"\n",
    "    print('')\n",
    "    print(command)    \n",
    "    if os.path.isfile(f\"{ALOS2_dir/ALOS2_id}.h5\")==False or os.path.getsize(f\"{ALOS2_dir/ALOS2_id}.h5\")<6000000000:\n",
    "        try: os.remove(f\"{ALOS2_dir/ALOS2_id}.h5\")\n",
    "        except:''\n",
    "        output = subprocess.check_output(command, shell=True)\n",
    "\n",
    "    \n",
    "    ## Get NISAR DEM\n",
    "    command = f\"conda run -n isce3_src /home/jovyan/isce3/python/packages/nisar/workflows/stage_dem.py -p {ALOS2_dir/ALOS2_id}.h5 -o {DEM_dir/ALOS2_id}.vrt\"\n",
    "    print('')\n",
    "    print(command)    \n",
    "\n",
    "    if os.path.isfile(f\"{DEM_dir/ALOS2_id}.vrt\")==False:\n",
    "        output = subprocess.check_output(command, shell=True)\n",
    "\n",
    "    \n",
    "    ## NISAR RSLC --> NISAR GCOV\n",
    "    filein = open('/home/jovyan/gcov_template.yaml')\n",
    "    template = Template(filein.read())\n",
    "    replacements = {'inputfile':  f\"{ALOS2_dir/ALOS2_id}.h5\",\n",
    "                    'outputfile':  f\"{GCOV_dir/ALOS2_id}_gcov.h5\",\n",
    "                    'demfile': f\"{DEM_dir/ALOS2_id}.vrt\",\n",
    "                    'tmp': f\"{TMP_dir}/\"\n",
    "                    }\n",
    "    makeoutput = template.substitute(replacements)\n",
    "    file = open('%s/%s.yaml' %(GCOV_dir,ALOS2_id),'w')\n",
    "    file.write(makeoutput)\n",
    "    file.close()\n",
    "    filein.close()\n",
    "\n",
    "    command = f\"conda run -n isce3_src /home/jovyan/isce3/python/packages/nisar/workflows/gcov.py {GCOV_dir/ALOS2_id}.yaml\"\n",
    "    print('')\n",
    "    print(command)\n",
    "    if os.path.isfile(f\"{GCOV_dir/ALOS2_id}_gcov.h5\")==False:\n",
    "        output = subprocess.check_output(command, shell=True)\n"
   ]
  },
  {
   "cell_type": "code",
   "execution_count": null,
   "id": "c7165d81-6957-4e14-b953-99943bda4232",
   "metadata": {
    "tags": []
   },
   "outputs": [],
   "source": [
    "NISAR_GCOVs = [os.path.join(dirpath,f)\n",
    "                for dirpath,dirnames, files in os.walk(GCOV_dir)\n",
    "                for f in fnmatch.filter(files,'*.h5')]\n",
    "NISAR_GCOVs"
   ]
  },
  {
   "cell_type": "code",
   "execution_count": null,
   "id": "32e82b57-c843-4a2c-824a-ec49efa886d0",
   "metadata": {
    "tags": []
   },
   "outputs": [],
   "source": []
  },
  {
   "cell_type": "code",
   "execution_count": null,
   "id": "0c108fbb-f050-4a35-9db5-d66e86cb8461",
   "metadata": {
    "tags": []
   },
   "outputs": [],
   "source": []
  },
  {
   "cell_type": "code",
   "execution_count": null,
   "id": "c82dd33e-745b-4180-9795-6707b3ab9f32",
   "metadata": {
    "tags": []
   },
   "outputs": [],
   "source": []
  },
  {
   "cell_type": "code",
   "execution_count": null,
   "id": "d3a4d4f9-6638-4e50-9cb2-c0527bb23980",
   "metadata": {},
   "outputs": [],
   "source": []
  }
 ],
 "metadata": {
  "kernelspec": {
   "display_name": "isce3_src",
   "language": "python",
   "name": "isce3_src"
  },
  "language_info": {
   "codemirror_mode": {
    "name": "ipython",
    "version": 3
   },
   "file_extension": ".py",
   "mimetype": "text/x-python",
   "name": "python",
   "nbconvert_exporter": "python",
   "pygments_lexer": "ipython3",
   "version": "3.9.17"
  }
 },
 "nbformat": 4,
 "nbformat_minor": 5
}
