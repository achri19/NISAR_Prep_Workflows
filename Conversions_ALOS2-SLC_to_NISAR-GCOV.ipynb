{
 "cells": [
  {
   "cell_type": "markdown",
   "id": "a6195696-d4f9-425c-b7a9-79c7aac18903",
   "metadata": {},
   "source": [
    "# <img src=\"https://upload.wikimedia.org/wikipedia/commons/6/60/NISAR_artist_concept.jpg\" width=400 align=\"left\"/>\n",
    "<img src=\"https://upload.wikimedia.org/wikipedia/commons/9/9b/NISAR_Mission_Logo.png\" width=400 align=\"left\"/><br><br><br><br><br>\n",
    "\n"
   ]
  },
  {
   "cell_type": "markdown",
   "id": "3e7ba3b7-d7e0-4f8d-be90-f4fea8db69c0",
   "metadata": {},
   "source": [
    "# Convert ALOS2 Data to GCOV\n",
    "\n",
    "In preparation for NISAR, this notebook converts ALOS-2 SLC data to NISAR RSLC to NISAR GCOV.\n",
    "\n",
    "\n",
    "These steps can be run in the command line, details are below."
   ]
  },
  {
   "cell_type": "code",
   "execution_count": null,
   "id": "b3a41cd0-91b7-4afe-88ad-dbce4b3e941a",
   "metadata": {
    "tags": []
   },
   "outputs": [],
   "source": [
    "import os\n",
    "import sys\n",
    "from pathlib import Path\n",
    "import subprocess\n",
    "import fnmatch\n",
    "import zipfile\n",
    "import h5py\n",
    "from string import Template\n",
    "from osgeo import gdal\n",
    "import numpy as np\n",
    "import math\n",
    "import boto3\n",
    "import shutil"
   ]
  },
  {
   "cell_type": "markdown",
   "id": "15590b4e-2359-4f57-9953-6b2c7aef75b5",
   "metadata": {},
   "source": [
    "## Choose your place to save your outputs. \n",
    "\n",
    "The home directory should be used (not scratch) unless very large storage space is needed. Files will be moved to the S3 bucket after processing. "
   ]
  },
  {
   "cell_type": "code",
   "execution_count": null,
   "id": "f2b3d3d1-4f46-403c-b680-628cfcb7c682",
   "metadata": {
    "tags": []
   },
   "outputs": [],
   "source": [
    "notebook_dir = Path(os.getcwd())\n",
    "working_dir = Path('/scratch/alex_eco_test/')\n"
   ]
  },
  {
   "cell_type": "code",
   "execution_count": null,
   "id": "45735e93-ba3c-4d39-a946-8d56256ec4d4",
   "metadata": {
    "tags": []
   },
   "outputs": [],
   "source": [
    "bucket_name = \"nisar-st-data-ondemand\"\n",
    "s3_path = 'alex/ALOS2_zip/'\n",
    "s3 = boto3.client(\"s3\")\n",
    "response = s3.list_objects_v2(\n",
    "            Bucket=bucket_name,\n",
    "            Prefix = s3_path)\n",
    "            # MaxKeys=100)\n",
    "            # Delimiter = '/')\n",
    "contents = response.get('Contents')\n",
    "existing_ALOS2_zipfiles = [contents[i].get('Key').split('/')[-1] for i in range(len(contents)) if '.zip' in contents[i].get('Key')]\n",
    "existing_ALOS2_zippaths = [contents[i].get('Key') for i in range(len(contents)) if '.zip' in contents[i].get('Key')]\n"
   ]
  },
  {
   "cell_type": "markdown",
   "id": "ec3525da-c42f-4fab-9f71-6654b05bd3bf",
   "metadata": {},
   "source": [
    "## Choose your AOI\n",
    "\n",
    "New directories will be made to store files for this AOI"
   ]
  },
  {
   "cell_type": "code",
   "execution_count": null,
   "id": "602162d6-d82a-4ff8-a14b-923cfa434733",
   "metadata": {
    "tags": []
   },
   "outputs": [],
   "source": [
    "aoi = 'little_river'\n",
    "\n",
    "aoi_dir = working_dir/aoi\n",
    "RSLC_dir = aoi_dir / 'RSLC'\n",
    "ALOS2_dir = aoi_dir / 'ALOS2'\n",
    "DEM_dir = aoi_dir / 'DEM'\n",
    "GCOV_dir = aoi_dir / 'GCOV'\n",
    "TMP_dir = aoi_dir / 'TMP'\n",
    "\n",
    "Path(aoi_dir).mkdir(parents=True, exist_ok=True)\n",
    "Path(RSLC_dir).mkdir(parents=True, exist_ok=True)\n",
    "Path(ALOS2_dir).mkdir(parents=True, exist_ok=True)\n",
    "Path(DEM_dir).mkdir(parents=True, exist_ok=True)\n",
    "Path(GCOV_dir).mkdir(parents=True, exist_ok=True)\n",
    "Path(TMP_dir).mkdir(parents=True, exist_ok=True)\n",
    "\n"
   ]
  },
  {
   "cell_type": "markdown",
   "id": "5e80d13b-1dc0-4c12-8ec5-46e8c4ef43fd",
   "metadata": {},
   "source": [
    "## Copy the ALOS2 URLs into a list"
   ]
  },
  {
   "cell_type": "code",
   "execution_count": null,
   "id": "94318727-f096-40f3-a19a-4e30e20c3335",
   "metadata": {
    "tags": []
   },
   "outputs": [],
   "source": [
    "## Example using Little River, FP6-7\n",
    "list_of_ALOS_SLCs = [\n",
    "                    'https://cumulus.asf.alaska.edu/L1.1/A4/0000436289_001001_ALOS2387550620-210727.zip',\n",
    "                    'https://cumulus.asf.alaska.edu/L1.1/A4/0000436282_001001_ALOS2393760620-210907.zip',\n",
    "                    'https://cumulus.asf.alaska.edu/L1.1/A4/0000436278_001001_ALOS2395830620-210921.zip',\n",
    "                    'https://cumulus.asf.alaska.edu/L1.1/A4/0000436276_001001_ALOS2397900620-211005.zip',\n",
    "                    'https://cumulus.asf.alaska.edu/L1.1/A4/0000436274_001001_ALOS2399970620-211019.zip',\n",
    "                    'https://cumulus.asf.alaska.edu/L1.1/A4/0000436293_001001_ALOS2402040620-211102.zip',\n",
    "                    'https://cumulus.asf.alaska.edu/L1.1/A4/0000436327_001001_ALOS2404110620-211116.zip',\n",
    "                    'https://cumulus.asf.alaska.edu/L1.1/A4/0000437322_001001_ALOS2404260840-211117.zip',\n",
    "                    'https://cumulus.asf.alaska.edu/L1.1/A4/0000438368_001001_ALOS2406180620-211130.zip',\n",
    "                    'https://cumulus.asf.alaska.edu/L1.1/A4/0000462472_001001_ALOS2414460620-220125.zip',\n",
    "                    'https://cumulus.asf.alaska.edu/L1.1/A4/0000463999_001001_ALOS2416530620-220208.zip',\n",
    "                    'https://cumulus.asf.alaska.edu/L1.1/A4/0000463996_001001_ALOS2418600620-220222.zip',\n",
    "                    'https://cumulus.asf.alaska.edu/L1.1/A4/0000464635_001001_ALOS2420670620-220308.zip',\n",
    "                    'https://cumulus.asf.alaska.edu/L1.1/A4/0000464630_001001_ALOS2422740620-220322.zip',\n",
    "                    'https://cumulus.asf.alaska.edu/L1.1/A4/0000469345_001001_ALOS2424810620-220405.zip',\n",
    "                    'https://cumulus.asf.alaska.edu/L1.1/A4/0000471233_001001_ALOS2431020620-220517.zip',\n",
    "                    'https://cumulus.asf.alaska.edu/L1.1/A4/0000473052_001001_ALOS2437230620-220628.zip',\n",
    "                    'https://cumulus.asf.alaska.edu/L1.1/A4/0000474588_001001_ALOS2439300620-220712.zip',\n",
    "                    'https://cumulus.asf.alaska.edu/L1.1/A4/0000474967_001001_ALOS2441370620-220726.zip',\n",
    "                    'https://cumulus.asf.alaska.edu/L1.1/A4/0000476738_001001_ALOS2443440620-220809.zip',\n",
    "                    'https://cumulus.asf.alaska.edu/L1.1/A4/0000478836_001001_ALOS2445510620-220823.zip',\n",
    "                    'https://cumulus.asf.alaska.edu/L1.1/A4/0000480756_001001_ALOS2447580620-220906.zip',\n",
    "                    'https://cumulus.asf.alaska.edu/L1.1/A4/0000482968_001001_ALOS2449650620-220920.zip',\n",
    "                    'https://cumulus.asf.alaska.edu/L1.1/A4/0000484610_001001_ALOS2451720620-221004.zip',\n",
    "                    'https://cumulus.asf.alaska.edu/L1.1/A4/0000485981_001001_ALOS2453790620-221018.zip',\n",
    "                    'https://cumulus.asf.alaska.edu/L1.1/A4/0000487640_001001_ALOS2455860620-221101.zip',\n",
    "                    'https://cumulus.asf.alaska.edu/L1.1/A4/0000489256_001001_ALOS2457930620-221115.zip',\n",
    "                    'https://cumulus.asf.alaska.edu/L1.1/A4/0000493225_001001_ALOS2460000620-221129.zip',\n",
    "                    'https://cumulus.asf.alaska.edu/L1.1/A4/0000495194_001001_ALOS2462070620-221213.zip',\n",
    "                    'https://cumulus.asf.alaska.edu/L1.1/A4/0000496585_001001_ALOS2464140620-221227.zip',\n",
    "                    'https://cumulus.asf.alaska.edu/L1.1/A4/0000499758_001001_ALOS2466210620-230110.zip',\n",
    "                    'https://cumulus.asf.alaska.edu/L1.1/A4/0000501405_001001_ALOS2468280620-230124.zip',\n",
    "                    'https://cumulus.asf.alaska.edu/L1.1/A4/0000503163_001001_ALOS2470350620-230207.zip',\n",
    "                    'https://cumulus.asf.alaska.edu/L1.1/A4/0000503979_001001_ALOS2472420620-230221.zip',\n",
    "                    'https://cumulus.asf.alaska.edu/L1.1/A4/0000504996_001001_ALOS2474490620-230307.zip',\n",
    "                    'https://cumulus.asf.alaska.edu/L1.1/A4/0000506845_001001_ALOS2476560620-230321.zip',\n",
    "                    'https://cumulus.asf.alaska.edu/L1.1/A4/0000507911_001001_ALOS2478630620-230404.zip',\n",
    "                    'https://cumulus.asf.alaska.edu/L1.1/A4/0000509958_001001_ALOS2480700620-230418.zip',\n",
    "                    'https://cumulus.asf.alaska.edu/L1.1/A4/0000511821_001001_ALOS2482770620-230502.zip',\n",
    "                    'https://cumulus.asf.alaska.edu/L1.1/A4/0000514247_001001_ALOS2484840620-230516.zip',\n",
    "                    'https://cumulus.asf.alaska.edu/L1.1/A4/0000515881_001001_ALOS2486910620-230530.zip',\n",
    "                    'https://cumulus.asf.alaska.edu/L1.1/A4/0000517708_001001_ALOS2488980620-230613.zip',\n",
    "                    'https://cumulus.asf.alaska.edu/L1.1/A4/0000519139_001001_ALOS2491050620-230627.zip',\n",
    "                    'https://cumulus.asf.alaska.edu/L1.1/A4/0000521175_001001_ALOS2493120620-230711.zip',\n",
    "                    'https://cumulus.asf.alaska.edu/L1.1/A4/0000523789_001001_ALOS2495190620-230725.zip',\n",
    "                    'https://cumulus.asf.alaska.edu/L1.1/A4/0000526013_001001_ALOS2497260620-230808.zip',\n",
    "                    'https://cumulus.asf.alaska.edu/L1.1/A4/0000527821_001001_ALOS2499330620-230822.zip',\n",
    "                    'https://cumulus.asf.alaska.edu/L1.1/A4/0000529048_001001_ALOS2501400620-230905.zip',\n",
    "                    'https://cumulus.asf.alaska.edu/L1.1/A4/0000530759_001001_ALOS2503470620-230919.zip',\n",
    "                    'https://cumulus.asf.alaska.edu/L1.1/A4/0000532669_001001_ALOS2505540620-231003.zip',\n",
    "                    'https://cumulus.asf.alaska.edu/L1.1/A4/0000534919_001001_ALOS2507610620-231017.zip',\n",
    "                    'https://cumulus.asf.alaska.edu/L1.1/A4/0000536906_001001_ALOS2509680620-231031.zip',\n",
    "                    'https://cumulus.asf.alaska.edu/L1.1/A4/0000538007_001001_ALOS2511750620-231114.zip',\n",
    "                    ]"
   ]
  },
  {
   "cell_type": "markdown",
   "id": "c32a3160-3d4b-424d-be88-5ad1a0a28b58",
   "metadata": {
    "tags": []
   },
   "source": [
    "## Download the ALOS2 files using wget"
   ]
  },
  {
   "cell_type": "code",
   "execution_count": null,
   "id": "3c8af914-2a30-4b67-902d-cca76564430a",
   "metadata": {
    "tags": []
   },
   "outputs": [],
   "source": [
    "ALOS2_ids = []\n",
    "response = s3.list_objects_v2(\n",
    "            Bucket=bucket_name,\n",
    "            Prefix = s3_path)\n",
    "            # MaxKeys=100)\n",
    "            # Delimiter = '/')\n",
    "contents = response.get('Contents')\n",
    "existing_ALOS2_zipfiles = [contents[i].get('Key').split('/')[-1] for i in range(len(contents)) if '.zip' in contents[i].get('Key')]\n",
    "existing_ALOS2_zippaths = [contents[i].get('Key') for i in range(len(contents)) if '.zip' in contents[i].get('Key')]\n",
    "\n",
    "for file in list_of_ALOS_SLCs[:]:\n",
    "    filename =  file.split('/')[-1]\n",
    "    ALOS2_ids.append(filename)\n",
    "    print('Requested File: ', filename)\n",
    "    print(os.path.isdir(ALOS2_dir/filename.split('/')[-1][:-4]))\n",
    "    print(os.path.isfile(ALOS2_dir/filename))\n",
    "    print((filename in existing_ALOS2_zipfiles))\n",
    "    if os.path.isdir(ALOS2_dir/filename.split('/')[-1][:-4])& (filename in existing_ALOS2_zipfiles):\n",
    "        print('ALOS2 is stored on S3 and already available locally and unzipped')\n",
    "    \n",
    "    elif os.path.isfile(ALOS2_dir/filename)==False & (filename in existing_ALOS2_zipfiles)==True:\n",
    "        i = existing_ALOS2_zipfiles.index(filename)\n",
    "        s3_path_new = existing_ALOS2_zippaths[i]\n",
    "        print('\\tALOS2 zip is already available at S3 PATH: ', s3_path_new)\n",
    "        s3.download_file(bucket_name, s3_path_new , filename)\n",
    "        print('\\tMove ALOS2 zip from S3 to local')\n",
    "        shutil.move(notebook_dir/filename, ALOS2_dir/filename)\n",
    "        \n",
    "    elif os.path.isfile(ALOS2_dir/filename)==False & (filename in existing_ALOS2_zipfiles)==False:\n",
    "        print('\\tALOS2 is not available anywhere')\n",
    "        print('\\tDownloading ALOS2 zip ')\n",
    "        command = f\"wget -P {ALOS2_dir} -q {file}\"\n",
    "        output = subprocess.check_output(command, shell=True)\n",
    "        print('\\tMoving a copy ALOS2 zip to S3 bucket')\n",
    "        s3.upload_file(Filename= str(ALOS2_dir / filename), Bucket=bucket_name, Key='%s%s' %(s3_path,filename))\n",
    "    \n",
    "    elif os.path.isfile(ALOS2_dir/filename)==True & (filename in existing_ALOS2_zipfiles)==False:\n",
    "        print('\\tALOS2 is available locally, but not on S3')\n",
    "        print('\\tMoving a copy ALOS2 zip to S3 bucket')\n",
    "        s3.upload_file(Filename= str(ALOS2_dir / filename), Bucket=bucket_name, Key='%s%s' %(s3_path,filename))\n",
    "\n",
    "    else: \n",
    "        print('\\tALOS2 zip file exists locally and on S3')\n",
    "        \n",
    "    if os.path.isdir(ALOS2_dir/filename.split('/')[-1][:-4])==False:\n",
    "        print('\\tunzipping the ALOS2 file locally')\n",
    "        try:\n",
    "            with zipfile.ZipFile(ALOS2_dir/filename, 'r') as zip_ref:\n",
    "                zip_ref.extractall(ALOS2_dir/filename.split('/')[-1][:-4])\n",
    "        except:\n",
    "            print('\\tALOS2 zip is bad, re-downloading')\n",
    "            os.remove(ALOS2_dir/filename)\n",
    "            command = f\"wget -P {ALOS2_dir} -q {file}\"\n",
    "            output = subprocess.check_output(command, shell=True)\n",
    "            print('\\t\\tMoving a copy ALOS2 zip to S3 bucket')\n",
    "            s3.upload_file(Filename= str(ALOS2_dir / filename), Bucket=bucket_name, Key='%s%s' %(s3_path,filename))\n",
    "            with zipfile.ZipFile(ALOS2_dir/filename, 'r') as zip_ref:\n",
    "                zip_ref.extractall(ALOS2_dir/filename.split('/')[-1][:-4])\n",
    "        print('\\t\\tdeleting the local zip file')\n",
    "        # os.remove(ALOS2_dir/filename) ## comment to remove the alos2 zip file from your local workspace\n",
    "    "
   ]
  },
  {
   "cell_type": "markdown",
   "id": "af65b7df-5d79-42a9-b287-4002d325c12b",
   "metadata": {},
   "source": [
    "## Get a list of folders for each ALOS2 file"
   ]
  },
  {
   "cell_type": "code",
   "execution_count": null,
   "id": "23858301-de8e-430d-9ea1-e035e702f86d",
   "metadata": {
    "tags": []
   },
   "outputs": [],
   "source": [
    "ALOS2folders = [os.path.join(dirpath,f)\n",
    "                for dirpath,dirnames, files in os.walk(ALOS2_dir)\n",
    "                for f in fnmatch.filter(dirnames,'*')]\n",
    "ALOS2folders.sort(reverse=True)\n",
    "ALOS2folders"
   ]
  },
  {
   "cell_type": "markdown",
   "id": "483fe034-9202-4f1f-b98a-a4d7be286570",
   "metadata": {},
   "source": [
    "## Convert ALOS2 SLC to NISAR RSLC format"
   ]
  },
  {
   "cell_type": "code",
   "execution_count": null,
   "id": "7547e9d0-23a1-464e-b920-75670ab3a6c6",
   "metadata": {},
   "outputs": [],
   "source": [
    "for ALOS2folder in ALOS2folders[:]:\n",
    "    ALOS2_id = ALOS2folder.split('/')[-1]\n",
    "    print('')\n",
    "    print(ALOS2_id)\n",
    "    \n",
    "    ##ALOS2 SLC --> NISAR RSLC\n",
    "    command = f\"conda run -n isce3_src /home/jovyan/isce3/share/nisar/examples/alos2_to_nisar_l1.py -i {ALOS2folder} -o {RSLC_dir/ALOS2_id}.h5\"\n",
    "  \n",
    "    if os.path.isfile(f\"{RSLC_dir/ALOS2_id}.h5\")==True:\n",
    "        print('NISAR RSLC already converted')\n",
    "    else:\n",
    "            \n",
    "        try: os.remove(f\"{RSLC_dir/ALOS2_id}.h5\")\n",
    "        except:''\n",
    "        output = subprocess.check_output(command, shell=True)    \n",
    "        print('')\n",
    "        print(command)  \n",
    "        "
   ]
  },
  {
   "cell_type": "code",
   "execution_count": null,
   "id": "fae06bbb-0002-497b-ac2d-6bb90f8b412d",
   "metadata": {
    "tags": []
   },
   "outputs": [],
   "source": [
    "ALOS2_RSLCs = [os.path.join(dirpath,f)\n",
    "                for dirpath,dirnames, files in os.walk(RSLC_dir)\n",
    "                for f in fnmatch.filter(files,'*')]\n",
    "ALOS2_RSLCs.sort(reverse=True)\n",
    "ALOS2_RSLCs\n",
    "\n"
   ]
  },
  {
   "cell_type": "markdown",
   "id": "1c1bd920-03ba-495b-b4b2-80d3c13b3714",
   "metadata": {},
   "source": [
    "## Get a DEM for the first ALOS2 file in the stack "
   ]
  },
  {
   "cell_type": "code",
   "execution_count": null,
   "id": "082b7233-90df-483a-9832-5cd8754e6104",
   "metadata": {
    "tags": []
   },
   "outputs": [],
   "source": [
    "\n",
    "ALOS2_ref = ALOS2_RSLCs[0].split('/')[-1][:-3]\n",
    "print('')\n",
    "print(ALOS2_ref)\n",
    "\n",
    "## Get NISAR DEM\n",
    "command = f\"conda run -n isce3_src /home/jovyan/isce3/python/packages/nisar/workflows/stage_dem.py -p {RSLC_dir/ALOS2_ref}.h5 -o {DEM_dir/ALOS2_ref}.vrt\"\n",
    "   \n",
    "\n",
    "if os.path.isfile(f\"{DEM_dir/ALOS2_ref}.vrt\")==False:\n",
    "    print('')\n",
    "    print(command) \n",
    "    output = subprocess.check_output(command, shell=True)"
   ]
  },
  {
   "cell_type": "markdown",
   "id": "7d98b8a4-6741-46dc-9cd4-2d56167cbbd0",
   "metadata": {},
   "source": [
    "## Process NISAR RSLC to GCOV\n",
    "\n",
    "### If you want to change to UTM coordiates, set utm = True and choose the x and y posting. The default is 20m"
   ]
  },
  {
   "cell_type": "code",
   "execution_count": null,
   "id": "3ae768f9-8dd0-4920-8be9-272f5117f439",
   "metadata": {
    "tags": []
   },
   "outputs": [],
   "source": [
    "x_posting = ''\n",
    "y_posting = ''\n",
    "EPSG = ''\n",
    "\n",
    "utm = True\n",
    "if utm:\n",
    "    src = gdal.Open(f\"{DEM_dir/ALOS2_ref}.vrt\")\n",
    "    ulx, xres, xskew, uly, yskew, yres  = src.GetGeoTransform()\n",
    "    lrx = ulx + (src.RasterXSize * xres)\n",
    "    lry = uly + (src.RasterYSize * yres)\n",
    "\n",
    "    x1,y1,x2,y2 = math.floor(ulx),math.floor(uly),math.floor(lrx),math.floor(lry)\n",
    "    zone = int(np.ceil((ulx + 180)/6))\n",
    "\n",
    "    if y1>=0:\n",
    "        EPSG = 32600+zone\n",
    "    elif y1<0:\n",
    "        EPSG = 32600+zone\n",
    "\n",
    "    x_posting = 20\n",
    "    y_posting = 20\n",
    "    \n",
    "print(EPSG)\n",
    "\n"
   ]
  },
  {
   "cell_type": "markdown",
   "id": "4481a71c-33d7-4246-a7d7-27b30aac5163",
   "metadata": {
    "tags": []
   },
   "source": [
    "## Run the GCOV processor on the first/reference image in the stack. \n",
    "This image will be used to determine the bounding box of the remaining images in the stack"
   ]
  },
  {
   "cell_type": "code",
   "execution_count": null,
   "id": "17981e8e-acce-4827-8362-e7df9ebd49f3",
   "metadata": {
    "tags": []
   },
   "outputs": [],
   "source": [
    "filein = open('gcov_template.yaml')\n",
    "template = Template(filein.read())\n",
    "replacements = {'inputfile':  f\"{RSLC_dir/ALOS2_ref}.h5\",\n",
    "                'outputfile':  f\"{GCOV_dir/ALOS2_ref}_gcov_%s.h5\" %(EPSG),\n",
    "                'demfile': f\"{DEM_dir/ALOS2_ref}.vrt\",\n",
    "                'tmp': f\"{TMP_dir}/\",\n",
    "                'epsg': EPSG,\n",
    "                'xposting': x_posting,\n",
    "                'yposting': y_posting,\n",
    "                'top_left_y': '',\n",
    "                'top_left_x' : '',\n",
    "                'bottom_right_y':'',\n",
    "                'bottom_right_x':'',\n",
    "                'y_snap':'',\n",
    "                'x_snap':''\n",
    "                }\n",
    "makeoutput = template.substitute(replacements)\n",
    "file = open('%s/%s.yaml' %(GCOV_dir,ALOS2_ref),'w')\n",
    "file.write(makeoutput)\n",
    "file.close()\n",
    "filein.close()\n",
    "\n",
    "command = f\"conda run -n isce3_src /home/jovyan/isce3/python/packages/nisar/workflows/gcov.py {GCOV_dir/ALOS2_ref}.yaml\"\n",
    "\n",
    "if os.path.isfile(f\"{GCOV_dir/ALOS2_ref}_gcov_utm.h5\")==False:\n",
    "    print('')\n",
    "    print(command)\n",
    "    output = subprocess.check_output(command, shell=True)\n"
   ]
  },
  {
   "cell_type": "markdown",
   "id": "e26a7646-f1ca-468c-8c1c-f9266d5c650c",
   "metadata": {},
   "source": [
    "## Get top left coordinates of bottom right coordinates of reference image"
   ]
  },
  {
   "cell_type": "code",
   "execution_count": null,
   "id": "382aa198-2fe3-4ad7-93f3-443cb0c810ac",
   "metadata": {
    "tags": []
   },
   "outputs": [],
   "source": [
    "f = h5py.File(f\"{GCOV_dir/ALOS2_ref}_gcov_%s.h5\" %(EPSG), \"r\") \n",
    "a_group_key = list(f.keys())[0]\n",
    "ds_x = f[a_group_key]['LSAR']['GCOV']['grids']['frequencyA']['xCoordinates'][()]      # returns as a h5py dataset object\n",
    "ds_y = f[a_group_key]['LSAR']['GCOV']['grids']['frequencyA']['yCoordinates'][()]      # returns as a h5py dataset object\n",
    "\n",
    "ulx = x_posting * round(ds_x[0]/x_posting)\n",
    "lrx = x_posting * round(ds_x[-1]/x_posting)\n",
    "uly = y_posting * round(ds_y[0]/y_posting)\n",
    "lry = y_posting * round(ds_y[-1]/y_posting)\n",
    "\n",
    "print('Force top left to be: %s %s' %(ulx,uly))\n",
    "print('Force top right to be: %s %s' %(lrx,lry))\n",
    "\n"
   ]
  },
  {
   "cell_type": "markdown",
   "id": "32e7bd85-8e2e-4741-a86e-f95f29ec8202",
   "metadata": {},
   "source": [
    "## Process the remaining RSLC files to GCOV using the bounding box set by the reference images"
   ]
  },
  {
   "cell_type": "code",
   "execution_count": null,
   "id": "4eb60850-d567-4f8e-8eaf-8106f6c7c46e",
   "metadata": {
    "tags": []
   },
   "outputs": [],
   "source": [
    "for ALOS2_RSLC in ALOS2_RSLCs[:]:\n",
    "    ALOS2_id = ALOS2_RSLC.split('/')[-1][:-3]\n",
    "    print('')\n",
    "    print(ALOS2_id)\n",
    "\n",
    "    filein = open('gcov_template.yaml')\n",
    "    template = Template(filein.read())\n",
    "    replacements = {'inputfile':  f\"{RSLC_dir/ALOS2_id}.h5\",\n",
    "                    'outputfile':  f\"{GCOV_dir/ALOS2_id}_gcov_%s.h5\" %(EPSG),\n",
    "                    'demfile': f\"{DEM_dir/ALOS2_ref}.vrt\",\n",
    "                    'tmp': f\"{TMP_dir}/\",\n",
    "                    'epsg': EPSG,\n",
    "                    'xposting': x_posting,\n",
    "                    'yposting': y_posting,\n",
    "                    'top_left_y': uly,\n",
    "                    'top_left_x':ulx,\n",
    "                    'bottom_right_y':lry,\n",
    "                    'bottom_right_x': lrx,\n",
    "                    'y_snap':'',#y_posting,\n",
    "                    'x_snap':''#x_posting\n",
    "                    }\n",
    "    makeoutput = template.substitute(replacements)\n",
    "    file = open('%s/%s.yaml' %(GCOV_dir,ALOS2_id),'w')\n",
    "    file.write(makeoutput)\n",
    "    file.close()\n",
    "    filein.close()\n",
    "\n",
    "    command = f\"conda run -n isce3_src /home/jovyan/isce3/python/packages/nisar/workflows/gcov.py {GCOV_dir/ALOS2_id}.yaml\"\n",
    "    print('')\n",
    "    print(command)\n",
    "    if os.path.isfile(f\"{GCOV_dir/ALOS2_id}_gcov_utm.h5\")==False:\n",
    "        output = subprocess.check_output(command, shell=True)\n"
   ]
  },
  {
   "cell_type": "code",
   "execution_count": null,
   "id": "223aaeb3-5a33-47fb-9320-a73d4116beff",
   "metadata": {
    "tags": []
   },
   "outputs": [],
   "source": [
    "for ALOS2_RSLC in ALOS2_RSLCs[:]:\n",
    "    ALOS2_id = ALOS2_RSLC.split('/')[-1][:-3]\n",
    "    print('')\n",
    "    print(ALOS2_id)\n",
    "    f = h5py.File(f\"{GCOV_dir/ALOS2_id}_gcov_%s.h5\" %(EPSG), \"r\") \n",
    "    a_group_key = list(f.keys())[0]\n",
    "    ds_x = f[a_group_key]['LSAR']['GCOV']['grids']['frequencyA']['xCoordinates'][()]      # returns as a h5py dataset object\n",
    "    ds_y = f[a_group_key]['LSAR']['GCOV']['grids']['frequencyA']['yCoordinates'][()]      # returns as a h5py dataset object\n",
    "\n",
    "    ulx = x_posting * round(ds_x[0]/x_posting)\n",
    "    lrx = x_posting * round(ds_x[-1]/x_posting)\n",
    "    uly = y_posting * round(ds_y[0]/y_posting)\n",
    "    lry = y_posting * round(ds_y[-1]/y_posting)\n",
    "\n",
    "    print('Force top left to be: %s %s' %(ulx,uly))\n",
    "    print('Force top right to be: %s %s' %(lrx,lry))\n",
    "\n"
   ]
  },
  {
   "cell_type": "markdown",
   "id": "a5a797e8-7d3b-41c3-b8f7-3fe9eb3075ca",
   "metadata": {},
   "source": [
    "## See final list of NISAR GCOV data files"
   ]
  },
  {
   "cell_type": "code",
   "execution_count": null,
   "id": "c7165d81-6957-4e14-b953-99943bda4232",
   "metadata": {
    "tags": []
   },
   "outputs": [],
   "source": [
    "NISAR_GCOVs = [os.path.join(dirpath,f)\n",
    "                for dirpath,dirnames, files in os.walk(GCOV_dir)\n",
    "                for f in fnmatch.filter(files,'*.h5')]\n",
    "NISAR_GCOVs.sort(reverse=True)\n",
    "NISAR_GCOVs"
   ]
  },
  {
   "cell_type": "code",
   "execution_count": null,
   "id": "32e82b57-c843-4a2c-824a-ec49efa886d0",
   "metadata": {
    "tags": []
   },
   "outputs": [],
   "source": []
  },
  {
   "cell_type": "code",
   "execution_count": null,
   "id": "4358256b-bb79-4fcc-91a7-160fda690c78",
   "metadata": {
    "tags": []
   },
   "outputs": [],
   "source": [
    "## Command line option\n",
    "\n",
    "######## ALOS2 SLC to NISAR RSLC\n",
    "# for f in /scratch/alex_eco_test/ALOS2/southfork/*/; \n",
    "# do python /home/jovyan/isce3/share/nisar/examples/alos2_to_nisar_l1.py -i $f -o \"${f%.*}\".h5; \n",
    "# done\n",
    "\n",
    "######## Get NISAR DEM\n",
    "# for f in /scratch/alex_eco_test/ALOS2/southfork/rslc/*; \n",
    "# do python /home/jovyan/isce3/python/packages/nisar/workflows/stage_dem.py -p $f -o \"${f%.*}\".vrt; \n",
    "# done\n",
    "\n",
    "######## NISAR RSLC to NISAR GCOV\n",
    "# for f in /scratch/alex_eco_test/ALOS2/southfork/rslc/*.yaml; \n",
    "# do python /home/jovyan/isce3/python/packages/nisar/workflows/gcov.py $f; \n",
    "# done"
   ]
  },
  {
   "cell_type": "code",
   "execution_count": null,
   "id": "0c108fbb-f050-4a35-9db5-d66e86cb8461",
   "metadata": {
    "tags": []
   },
   "outputs": [],
   "source": []
  },
  {
   "cell_type": "code",
   "execution_count": null,
   "id": "c82dd33e-745b-4180-9795-6707b3ab9f32",
   "metadata": {
    "tags": []
   },
   "outputs": [],
   "source": []
  },
  {
   "cell_type": "code",
   "execution_count": null,
   "id": "d3a4d4f9-6638-4e50-9cb2-c0527bb23980",
   "metadata": {},
   "outputs": [],
   "source": []
  }
 ],
 "metadata": {
  "kernelspec": {
   "display_name": "isce3_src",
   "language": "python",
   "name": "isce3_src"
  },
  "language_info": {
   "codemirror_mode": {
    "name": "ipython",
    "version": 3
   },
   "file_extension": ".py",
   "mimetype": "text/x-python",
   "name": "python",
   "nbconvert_exporter": "python",
   "pygments_lexer": "ipython3",
   "version": "3.9.17"
  }
 },
 "nbformat": 4,
 "nbformat_minor": 5
}
