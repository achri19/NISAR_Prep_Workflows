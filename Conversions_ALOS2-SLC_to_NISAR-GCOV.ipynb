{
 "cells": [
  {
   "cell_type": "markdown",
   "id": "a6195696-d4f9-425c-b7a9-79c7aac18903",
   "metadata": {},
   "source": [
    "# <img src=\"https://upload.wikimedia.org/wikipedia/commons/6/60/NISAR_artist_concept.jpg\" width=400 align=\"left\"/>\n",
    "<img src=\"https://upload.wikimedia.org/wikipedia/commons/9/9b/NISAR_Mission_Logo.png\" width=400 align=\"left\"/><br><br><br><br><br>\n",
    "\n"
   ]
  },
  {
   "cell_type": "markdown",
   "id": "3e7ba3b7-d7e0-4f8d-be90-f4fea8db69c0",
   "metadata": {},
   "source": [
    "# Convert ALOS2 Data to GCOV\n",
    "\n",
    "In preparation for NISAR, this notebook converts ALOS-2 SLC data to NISAR RSLC to NISAR GCOV.\n",
    "\n",
    "\n",
    "These steps can be run in the command line, details are below."
   ]
  },
  {
   "cell_type": "code",
   "execution_count": 1,
   "id": "b3a41cd0-91b7-4afe-88ad-dbce4b3e941a",
   "metadata": {
    "tags": []
   },
   "outputs": [],
   "source": [
    "import os\n",
    "import sys\n",
    "from pathlib import Path\n",
    "import subprocess\n",
    "import fnmatch\n",
    "import zipfile\n",
    "import h5py\n",
    "from string import Template\n",
    "from osgeo import gdal\n"
   ]
  },
  {
   "cell_type": "markdown",
   "id": "15590b4e-2359-4f57-9953-6b2c7aef75b5",
   "metadata": {},
   "source": [
    "Choose your place to save your outputs. \n",
    "\n",
    "Scratch can be used for short-term storage, but the cost is much higher. Files for long-term storage should be moved to an S3 bucket."
   ]
  },
  {
   "cell_type": "code",
   "execution_count": 2,
   "id": "f2b3d3d1-4f46-403c-b680-628cfcb7c682",
   "metadata": {
    "tags": []
   },
   "outputs": [],
   "source": [
    "scratch_folder = Path('/scratch/alex_eco_test/') ##change to your folder\n"
   ]
  },
  {
   "cell_type": "markdown",
   "id": "ec3525da-c42f-4fab-9f71-6654b05bd3bf",
   "metadata": {},
   "source": [
    "Choose your AOI\n",
    "\n",
    "New directories will be made to store files for this AOI"
   ]
  },
  {
   "cell_type": "code",
   "execution_count": 4,
   "id": "602162d6-d82a-4ff8-a14b-923cfa434733",
   "metadata": {
    "tags": []
   },
   "outputs": [],
   "source": [
    "aoi = 'waxlakedelta'\n",
    "\n",
    "aoi_dir = scratch_folder/aoi\n",
    "RSLC_dir = aoi_dir / 'RSLC'\n",
    "ALOS2_dir = aoi_dir / 'ALOS2'\n",
    "DEM_dir = aoi_dir / 'DEM'\n",
    "GCOV_dir = aoi_dir / 'GCOV'\n",
    "TMP_dir = aoi_dir / 'TMP'\n",
    "\n",
    "Path(aoi_dir).mkdir(parents=True, exist_ok=True)\n",
    "Path(RSLC_dir).mkdir(parents=True, exist_ok=True)\n",
    "Path(ALOS2_dir).mkdir(parents=True, exist_ok=True)\n",
    "Path(DEM_dir).mkdir(parents=True, exist_ok=True)\n",
    "Path(GCOV_dir).mkdir(parents=True, exist_ok=True)\n",
    "Path(TMP_dir).mkdir(parents=True, exist_ok=True)\n",
    "\n"
   ]
  },
  {
   "cell_type": "markdown",
   "id": "5e80d13b-1dc0-4c12-8ec5-46e8c4ef43fd",
   "metadata": {},
   "source": [
    "## Copy the ALOS2 URLs into a list"
   ]
  },
  {
   "cell_type": "code",
   "execution_count": 5,
   "id": "19d51a3d-e789-49fa-a617-762074b2c92e",
   "metadata": {
    "tags": []
   },
   "outputs": [],
   "source": [
    "list_of_ALOS_SLCs = ['https://cumulus.asf.alaska.edu/L1.1/A4/0000436588_001001_ALOS2390510580-210816.zip',\n",
    "                        'https://cumulus.asf.alaska.edu/L1.1/A4/0000470239_001001_ALOS2427770580-220425.zip']\n",
    "                        "
   ]
  },
  {
   "cell_type": "markdown",
   "id": "c32a3160-3d4b-424d-be88-5ad1a0a28b58",
   "metadata": {
    "tags": []
   },
   "source": [
    "## Download the ALOS2 files using wget"
   ]
  },
  {
   "cell_type": "code",
   "execution_count": 6,
   "id": "3c8af914-2a30-4b67-902d-cca76564430a",
   "metadata": {
    "tags": []
   },
   "outputs": [
    {
     "name": "stdout",
     "output_type": "stream",
     "text": [
      "https://cumulus.asf.alaska.edu/L1.1/A4/0000436588_001001_ALOS2390510580-210816.zip\n",
      "https://cumulus.asf.alaska.edu/L1.1/A4/0000470239_001001_ALOS2427770580-220425.zip\n"
     ]
    }
   ],
   "source": [
    "for file in list_of_ALOS_SLCs:\n",
    "    print(file)\n",
    "    filename = ALOS2_dir / file.split('/')[-1]\n",
    "    if os.path.isfile(filename)==False:\n",
    "        command = f\"wget -P {ALOS2_dir} -q {file}\"\n",
    "        output = subprocess.check_output(command, shell=True)\n"
   ]
  },
  {
   "cell_type": "markdown",
   "id": "e2a9e0ef-aef8-4782-b100-c5059d254567",
   "metadata": {},
   "source": [
    "## Unzip the ALOS files\n",
    "\n",
    "If you don't want to keep the zip files, you should uncomment the os.remove line"
   ]
  },
  {
   "cell_type": "code",
   "execution_count": 7,
   "id": "ad9dccfd-de79-49f6-943d-abe21fbf3b2d",
   "metadata": {
    "tags": []
   },
   "outputs": [
    {
     "name": "stdout",
     "output_type": "stream",
     "text": [
      "/scratch/alex_eco_test/waxlakedelta/ALOS2/0000436588_001001_ALOS2390510580-210816.zip\n",
      "/scratch/alex_eco_test/waxlakedelta/ALOS2/0000470239_001001_ALOS2427770580-220425.zip\n"
     ]
    }
   ],
   "source": [
    "zipfiles = [os.path.join(dirpath,f)\n",
    "                for dirpath,dirnames, files in os.walk(ALOS2_dir)\n",
    "                for f in fnmatch.filter(files,'*.zip')]\n",
    "for file in zipfiles:\n",
    "    print(file)\n",
    "    if os.path.isdir(ALOS2_dir / file[:-4]):\n",
    "        ##check full unzipping\n",
    "        if sum(os.path.getsize(ALOS2_dir / file[:-4] / f) for f in os.listdir(ALOS2_dir / file[:-4]) if os.path.isfile(ALOS2_dir / file[:-4] /f)) < 6509714637:\n",
    "            with zipfile.ZipFile(file, 'r') as zip_ref:\n",
    "                zip_ref.extractall(ALOS2_dir/file.split('/')[-1][:-4])\n",
    "            # os.remove(file)\n",
    "    else:\n",
    "        with zipfile.ZipFile(file, 'r') as zip_ref:\n",
    "            zip_ref.extractall(ALOS2_dir/file.split('/')[-1][:-4])\n"
   ]
  },
  {
   "cell_type": "markdown",
   "id": "af65b7df-5d79-42a9-b287-4002d325c12b",
   "metadata": {},
   "source": [
    "## Get a list of folders for each ALOS2 file"
   ]
  },
  {
   "cell_type": "code",
   "execution_count": 8,
   "id": "23858301-de8e-430d-9ea1-e035e702f86d",
   "metadata": {
    "tags": []
   },
   "outputs": [
    {
     "data": {
      "text/plain": [
       "['/scratch/alex_eco_test/waxlakedelta/ALOS2/0000470239_001001_ALOS2427770580-220425',\n",
       " '/scratch/alex_eco_test/waxlakedelta/ALOS2/0000436588_001001_ALOS2390510580-210816']"
      ]
     },
     "execution_count": 8,
     "metadata": {},
     "output_type": "execute_result"
    }
   ],
   "source": [
    "ALOS2folders = [os.path.join(dirpath,f)\n",
    "                for dirpath,dirnames, files in os.walk(ALOS2_dir)\n",
    "                for f in fnmatch.filter(dirnames,'*')]\n",
    "ALOS2folders"
   ]
  },
  {
   "cell_type": "markdown",
   "id": "483fe034-9202-4f1f-b98a-a4d7be286570",
   "metadata": {},
   "source": [
    "## Convert ALOS2 SLC to NISAR RSLC format"
   ]
  },
  {
   "cell_type": "code",
   "execution_count": 14,
   "id": "7547e9d0-23a1-464e-b920-75670ab3a6c6",
   "metadata": {},
   "outputs": [
    {
     "name": "stdout",
     "output_type": "stream",
     "text": [
      "\n",
      "0000470239_001001_ALOS2427770580-220425\n",
      "\n",
      "conda run -n isce3_src /home/jovyan/isce3/share/nisar/examples/alos2_to_nisar_l1.py -i /scratch/alex_eco_test/waxlakedelta/ALOS2/0000470239_001001_ALOS2427770580-220425 -o /scratch/alex_eco_test/waxlakedelta/RSLC/0000470239_001001_ALOS2427770580-220425.h5\n",
      "\n",
      "0000436588_001001_ALOS2390510580-210816\n",
      "\n",
      "conda run -n isce3_src /home/jovyan/isce3/share/nisar/examples/alos2_to_nisar_l1.py -i /scratch/alex_eco_test/waxlakedelta/ALOS2/0000436588_001001_ALOS2390510580-210816 -o /scratch/alex_eco_test/waxlakedelta/RSLC/0000436588_001001_ALOS2390510580-210816.h5\n"
     ]
    }
   ],
   "source": [
    "for ALOS2folder in ALOS2folders[:]:\n",
    "    ALOS2_id = ALOS2folder.split('/')[-1]\n",
    "    print('')\n",
    "    print(ALOS2_id)\n",
    "    \n",
    "    ##ALOS2 SLC --> NISAR RSLC\n",
    "    command = f\"conda run -n isce3_src /home/jovyan/isce3/share/nisar/examples/alos2_to_nisar_l1.py -i {ALOS2folder} -o {RSLC_dir/ALOS2_id}.h5\"\n",
    "    print('')\n",
    "    print(command)    \n",
    "    if os.path.isfile(f\"{RSLC_dir/ALOS2_id}.h5\")==False: #or os.path.getsize(f\"{RSLC_dir/ALOS2_id}.h5\")<6000000000:\n",
    "        try: os.remove(f\"{RSLC_dir/ALOS2_id}.h5\")\n",
    "        except:''\n",
    "        output = subprocess.check_output(command, shell=True)"
   ]
  },
  {
   "cell_type": "code",
   "execution_count": 15,
   "id": "fae06bbb-0002-497b-ac2d-6bb90f8b412d",
   "metadata": {
    "tags": []
   },
   "outputs": [],
   "source": [
    "ALOS2_RSLCs = [os.path.join(dirpath,f)\n",
    "                for dirpath,dirnames, files in os.walk(ALOS2_dir)\n",
    "                for f in fnmatch.filter(files,'*')]\n"
   ]
  },
  {
   "cell_type": "markdown",
   "id": "1c1bd920-03ba-495b-b4b2-80d3c13b3714",
   "metadata": {},
   "source": [
    "## Get a DEM for the first ALOS2 file in the stack "
   ]
  },
  {
   "cell_type": "code",
   "execution_count": 16,
   "id": "082b7233-90df-483a-9832-5cd8754e6104",
   "metadata": {
    "tags": []
   },
   "outputs": [
    {
     "name": "stdout",
     "output_type": "stream",
     "text": [
      "\n",
      "0000436588_001001_ALOS2390510580-210816.\n",
      "\n",
      "conda run -n isce3_src /home/jovyan/isce3/python/packages/nisar/workflows/stage_dem.py -p /scratch/alex_eco_test/waxlakedelta/ALOS2/0000436588_001001_ALOS2390510580-210816..h5 -o /scratch/alex_eco_test/waxlakedelta/DEM/0000436588_001001_ALOS2390510580-210816..vrt\n"
     ]
    },
    {
     "name": "stderr",
     "output_type": "stream",
     "text": [
      "WARNING: overwriting environment variables set in the machine\n",
      "overwriting variable {'LD_LIBRARY_PATH'}\n",
      "Traceback (most recent call last):\n",
      "  File \"/home/jovyan/isce3/python/packages/nisar/workflows/stage_dem.py\", line 493, in <module>\n",
      "    main(opts)\n",
      "  File \"/home/jovyan/isce3/python/packages/nisar/workflows/stage_dem.py\", line 461, in main\n",
      "    poly = determine_polygon(opts.product, opts.bbox)\n",
      "  File \"/home/jovyan/isce3/python/packages/nisar/workflows/stage_dem.py\", line 126, in determine_polygon\n",
      "    poly = get_geo_polygon(ref_slc)\n",
      "  File \"/home/jovyan/isce3/python/packages/nisar/workflows/stage_dem.py\", line 185, in get_geo_polygon\n",
      "    productSlc = SLC(hdf5file=ref_slc)\n",
      "  File \"/home/jovyan/isce3/build/packages/pyre/components/Actor.py\", line 169, in __call__\n",
      "    instance = super().__call__(name=name, locator=locator, implicit=implicit, **kwds)\n",
      "  File \"/home/jovyan/isce3/build/packages/nisar/products/readers/SLC/SLC.py\", line 33, in __init__\n",
      "    super().__init__(**kwds)\n",
      "  File \"/home/jovyan/isce3/build/packages/nisar/products/readers/Base/Base.py\", line 106, in __init__\n",
      "    self.populateIdentification()\n",
      "  File \"/home/jovyan/isce3/build/packages/nisar/products/readers/SLC/SLC.py\", line 52, in populateIdentification\n",
      "    with h5py.File(self.filename, 'r', libver='latest', swmr=True) as f:\n",
      "  File \"/home/jovyan/.local/envs/isce3_src/lib/python3.9/site-packages/h5py/_hl/files.py\", line 567, in __init__\n",
      "    fid = make_fid(name, mode, userblock_size, fapl, fcpl, swmr=swmr)\n",
      "  File \"/home/jovyan/.local/envs/isce3_src/lib/python3.9/site-packages/h5py/_hl/files.py\", line 231, in make_fid\n",
      "    fid = h5f.open(name, flags, fapl=fapl)\n",
      "  File \"h5py/_objects.pyx\", line 54, in h5py._objects.with_phil.wrapper\n",
      "  File \"h5py/_objects.pyx\", line 55, in h5py._objects.with_phil.wrapper\n",
      "  File \"h5py/h5f.pyx\", line 106, in h5py.h5f.open\n",
      "FileNotFoundError: [Errno 2] Unable to open file (unable to open file: name = '/scratch/alex_eco_test/waxlakedelta/ALOS2/0000436588_001001_ALOS2390510580-210816..h5', errno = 2, error message = 'No such file or directory', flags = 40, o_flags = 0)\n",
      "\n",
      "ERROR conda.cli.main_run:execute(47): `conda run /home/jovyan/isce3/python/packages/nisar/workflows/stage_dem.py -p /scratch/alex_eco_test/waxlakedelta/ALOS2/0000436588_001001_ALOS2390510580-210816..h5 -o /scratch/alex_eco_test/waxlakedelta/DEM/0000436588_001001_ALOS2390510580-210816..vrt` failed. (See above for error)\n"
     ]
    },
    {
     "ename": "CalledProcessError",
     "evalue": "Command 'conda run -n isce3_src /home/jovyan/isce3/python/packages/nisar/workflows/stage_dem.py -p /scratch/alex_eco_test/waxlakedelta/ALOS2/0000436588_001001_ALOS2390510580-210816..h5 -o /scratch/alex_eco_test/waxlakedelta/DEM/0000436588_001001_ALOS2390510580-210816..vrt' returned non-zero exit status 1.",
     "output_type": "error",
     "traceback": [
      "\u001b[0;31m---------------------------------------------------------------------------\u001b[0m",
      "\u001b[0;31mCalledProcessError\u001b[0m                        Traceback (most recent call last)",
      "Cell \u001b[0;32mIn[16], line 12\u001b[0m\n\u001b[1;32m      9\u001b[0m \u001b[38;5;28mprint\u001b[39m(command)    \n\u001b[1;32m     11\u001b[0m \u001b[38;5;28;01mif\u001b[39;00m os\u001b[38;5;241m.\u001b[39mpath\u001b[38;5;241m.\u001b[39misfile(\u001b[38;5;124mf\u001b[39m\u001b[38;5;124m\"\u001b[39m\u001b[38;5;132;01m{\u001b[39;00mDEM_dir\u001b[38;5;241m/\u001b[39mALOS2_id\u001b[38;5;132;01m}\u001b[39;00m\u001b[38;5;124m.vrt\u001b[39m\u001b[38;5;124m\"\u001b[39m)\u001b[38;5;241m==\u001b[39m\u001b[38;5;28;01mFalse\u001b[39;00m:\n\u001b[0;32m---> 12\u001b[0m     output \u001b[38;5;241m=\u001b[39m \u001b[43msubprocess\u001b[49m\u001b[38;5;241;43m.\u001b[39;49m\u001b[43mcheck_output\u001b[49m\u001b[43m(\u001b[49m\u001b[43mcommand\u001b[49m\u001b[43m,\u001b[49m\u001b[43m \u001b[49m\u001b[43mshell\u001b[49m\u001b[38;5;241;43m=\u001b[39;49m\u001b[38;5;28;43;01mTrue\u001b[39;49;00m\u001b[43m)\u001b[49m\n",
      "File \u001b[0;32m~/.local/envs/isce3_src/lib/python3.9/subprocess.py:424\u001b[0m, in \u001b[0;36mcheck_output\u001b[0;34m(timeout, *popenargs, **kwargs)\u001b[0m\n\u001b[1;32m    421\u001b[0m         empty \u001b[38;5;241m=\u001b[39m \u001b[38;5;124mb\u001b[39m\u001b[38;5;124m'\u001b[39m\u001b[38;5;124m'\u001b[39m\n\u001b[1;32m    422\u001b[0m     kwargs[\u001b[38;5;124m'\u001b[39m\u001b[38;5;124minput\u001b[39m\u001b[38;5;124m'\u001b[39m] \u001b[38;5;241m=\u001b[39m empty\n\u001b[0;32m--> 424\u001b[0m \u001b[38;5;28;01mreturn\u001b[39;00m \u001b[43mrun\u001b[49m\u001b[43m(\u001b[49m\u001b[38;5;241;43m*\u001b[39;49m\u001b[43mpopenargs\u001b[49m\u001b[43m,\u001b[49m\u001b[43m \u001b[49m\u001b[43mstdout\u001b[49m\u001b[38;5;241;43m=\u001b[39;49m\u001b[43mPIPE\u001b[49m\u001b[43m,\u001b[49m\u001b[43m \u001b[49m\u001b[43mtimeout\u001b[49m\u001b[38;5;241;43m=\u001b[39;49m\u001b[43mtimeout\u001b[49m\u001b[43m,\u001b[49m\u001b[43m \u001b[49m\u001b[43mcheck\u001b[49m\u001b[38;5;241;43m=\u001b[39;49m\u001b[38;5;28;43;01mTrue\u001b[39;49;00m\u001b[43m,\u001b[49m\n\u001b[1;32m    425\u001b[0m \u001b[43m           \u001b[49m\u001b[38;5;241;43m*\u001b[39;49m\u001b[38;5;241;43m*\u001b[39;49m\u001b[43mkwargs\u001b[49m\u001b[43m)\u001b[49m\u001b[38;5;241m.\u001b[39mstdout\n",
      "File \u001b[0;32m~/.local/envs/isce3_src/lib/python3.9/subprocess.py:528\u001b[0m, in \u001b[0;36mrun\u001b[0;34m(input, capture_output, timeout, check, *popenargs, **kwargs)\u001b[0m\n\u001b[1;32m    526\u001b[0m     retcode \u001b[38;5;241m=\u001b[39m process\u001b[38;5;241m.\u001b[39mpoll()\n\u001b[1;32m    527\u001b[0m     \u001b[38;5;28;01mif\u001b[39;00m check \u001b[38;5;129;01mand\u001b[39;00m retcode:\n\u001b[0;32m--> 528\u001b[0m         \u001b[38;5;28;01mraise\u001b[39;00m CalledProcessError(retcode, process\u001b[38;5;241m.\u001b[39margs,\n\u001b[1;32m    529\u001b[0m                                  output\u001b[38;5;241m=\u001b[39mstdout, stderr\u001b[38;5;241m=\u001b[39mstderr)\n\u001b[1;32m    530\u001b[0m \u001b[38;5;28;01mreturn\u001b[39;00m CompletedProcess(process\u001b[38;5;241m.\u001b[39margs, retcode, stdout, stderr)\n",
      "\u001b[0;31mCalledProcessError\u001b[0m: Command 'conda run -n isce3_src /home/jovyan/isce3/python/packages/nisar/workflows/stage_dem.py -p /scratch/alex_eco_test/waxlakedelta/ALOS2/0000436588_001001_ALOS2390510580-210816..h5 -o /scratch/alex_eco_test/waxlakedelta/DEM/0000436588_001001_ALOS2390510580-210816..vrt' returned non-zero exit status 1."
     ]
    }
   ],
   "source": [
    "for ALOS2_RSLC in ALOS2_RSLCs[:]:\n",
    "    ALOS2_id = ALOS2_RSLC.split('/')[-1][:-3]\n",
    "    print('')\n",
    "    print(ALOS2_id)\n",
    "\n",
    "    ## Get NISAR DEM\n",
    "    command = f\"conda run -n isce3_src /home/jovyan/isce3/python/packages/nisar/workflows/stage_dem.py -p {ALOS2_dir/ALOS2_id}.h5 -o {DEM_dir/ALOS2_id}.vrt\"\n",
    "    print('')\n",
    "    print(command)    \n",
    "\n",
    "    if os.path.isfile(f\"{DEM_dir/ALOS2_id}.vrt\")==False:\n",
    "        output = subprocess.check_output(command, shell=True)"
   ]
  },
  {
   "cell_type": "markdown",
   "id": "7d98b8a4-6741-46dc-9cd4-2d56167cbbd0",
   "metadata": {},
   "source": [
    "## Process NISAR RSLC to GCOV"
   ]
  },
  {
   "cell_type": "code",
   "execution_count": null,
   "id": "3ae768f9-8dd0-4920-8be9-272f5117f439",
   "metadata": {},
   "outputs": [],
   "source": [
    "src = gdal.Open(f\"{DEM_dir/ALOS2_id}.vrt\")\n",
    "ulx, xres, xskew, uly, yskew, yres  = src.GetGeoTransform()\n",
    "lrx = ulx + (src.RasterXSize * xres)\n",
    "lry = uly + (src.RasterYSize * yres)\n",
    "\n",
    "x1,y1,x2,y2 = math.floor(ulx),math.floor(uly),math.floor(lrx),math.floor(lry)\n",
    "\n",
    "\n",
    "zone = int(np.ceil((ulx + 180)/6))\n",
    "\n",
    "if y1>=0:\n",
    "    EPSG = 32600+zone\n",
    "elif y1<0\n",
    "    NS = 's'\n",
    "    EPSG = 32600+zone"
   ]
  },
  {
   "cell_type": "code",
   "execution_count": 22,
   "id": "17981e8e-acce-4827-8362-e7df9ebd49f3",
   "metadata": {
    "tags": []
   },
   "outputs": [
    {
     "name": "stdout",
     "output_type": "stream",
     "text": [
      "\n",
      "0000509061_001001_ALOS2479520580-230410\n",
      "\n",
      "conda run -n isce3_src /home/jovyan/isce3/python/packages/nisar/workflows/stage_dem.py -p /scratch/alex_eco_test/waxlakedelta/ALOS2/0000509061_001001_ALOS2479520580-230410.h5 -o /scratch/alex_eco_test/waxlakedelta/DEM/0000509061_001001_ALOS2479520580-230410.vrt\n",
      "\n",
      "conda run -n isce3_src /home/jovyan/isce3/python/packages/nisar/workflows/gcov.py /scratch/alex_eco_test/waxlakedelta/GCOV/0000509061_001001_ALOS2479520580-230410.yaml\n",
      "\n",
      "0000528515_001001_ALOS2500220580-230828\n",
      "\n",
      "conda run -n isce3_src /home/jovyan/isce3/python/packages/nisar/workflows/stage_dem.py -p /scratch/alex_eco_test/waxlakedelta/ALOS2/0000528515_001001_ALOS2500220580-230828.h5 -o /scratch/alex_eco_test/waxlakedelta/DEM/0000528515_001001_ALOS2500220580-230828.vrt\n",
      "\n",
      "conda run -n isce3_src /home/jovyan/isce3/python/packages/nisar/workflows/gcov.py /scratch/alex_eco_test/waxlakedelta/GCOV/0000528515_001001_ALOS2500220580-230828.yaml\n",
      "\n",
      "0000436588_001001_ALOS2390510580-210816\n",
      "\n",
      "conda run -n isce3_src /home/jovyan/isce3/python/packages/nisar/workflows/stage_dem.py -p /scratch/alex_eco_test/waxlakedelta/ALOS2/0000436588_001001_ALOS2390510580-210816.h5 -o /scratch/alex_eco_test/waxlakedelta/DEM/0000436588_001001_ALOS2390510580-210816.vrt\n",
      "\n",
      "conda run -n isce3_src /home/jovyan/isce3/python/packages/nisar/workflows/gcov.py /scratch/alex_eco_test/waxlakedelta/GCOV/0000436588_001001_ALOS2390510580-210816.yaml\n"
     ]
    },
    {
     "name": "stderr",
     "output_type": "stream",
     "text": [
      "WARNING: overwriting environment variables set in the machine\n",
      "overwriting variable {'LD_LIBRARY_PATH'}\n",
      "/home/jovyan/isce3/build/packages/nisar/workflows/h5_prep.py:207: UserWarning: swmr=True only affects read ('r') mode. For swmr write mode, set f.swmr_mode = True after opening the file.\n",
      "  h5py.File(output_hdf5, 'w', libver='latest', swmr=True) as dst_h5:\n",
      "/home/jovyan/isce3/build/packages/nisar/workflows/h5_prep.py:489: UserWarning: swmr=True only affects read ('r') mode. For swmr write mode, set f.swmr_mode = True after opening the file.\n",
      "  with h5py.File(output_hdf5, 'a', libver='latest', swmr=True) as dst_h5:\n",
      "/home/jovyan/isce3/python/packages/nisar/workflows/gcov.py:765: DeprecationWarning: `product` is deprecated as of NumPy 1.25.0, and will be removed in NumPy 2.0. Please use `prod` instead.\n",
      "  dset.attrs.create('_FillValue', data=np.nan)\n",
      "/home/jovyan/isce3/python/packages/nisar/workflows/gcov.py:769: DeprecationWarning: `product` is deprecated as of NumPy 1.25.0, and will be removed in NumPy 2.0. Please use `prod` instead.\n",
      "  dset.attrs.create('min_value', data=stats_obj.min)\n",
      "/home/jovyan/isce3/python/packages/nisar/workflows/gcov.py:770: DeprecationWarning: `product` is deprecated as of NumPy 1.25.0, and will be removed in NumPy 2.0. Please use `prod` instead.\n",
      "  dset.attrs.create('mean_value', data=stats_obj.mean)\n",
      "/home/jovyan/isce3/python/packages/nisar/workflows/gcov.py:771: DeprecationWarning: `product` is deprecated as of NumPy 1.25.0, and will be removed in NumPy 2.0. Please use `prod` instead.\n",
      "  dset.attrs.create('max_value', data=stats_obj.max)\n",
      "/home/jovyan/isce3/python/packages/nisar/workflows/gcov.py:772: DeprecationWarning: `product` is deprecated as of NumPy 1.25.0, and will be removed in NumPy 2.0. Please use `prod` instead.\n",
      "  dset.attrs.create('sample_standard_deviation', data=stats_obj.sample_stddev)\n",
      "/home/jovyan/isce3/python/packages/nisar/workflows/gcov.py:790: DeprecationWarning: `product` is deprecated as of NumPy 1.25.0, and will be removed in NumPy 2.0. Please use `prod` instead.\n",
      "  dset.attrs.create('valid_min', data=valid_min)\n",
      "/home/jovyan/isce3/python/packages/nisar/workflows/gcov.py:793: DeprecationWarning: `product` is deprecated as of NumPy 1.25.0, and will be removed in NumPy 2.0. Please use `prod` instead.\n",
      "  dset.attrs.create('valid_max', data=valid_max)\n",
      "\n"
     ]
    },
    {
     "name": "stdout",
     "output_type": "stream",
     "text": [
      "\n",
      "0000470239_001001_ALOS2427770580-220425\n",
      "\n",
      "conda run -n isce3_src /home/jovyan/isce3/python/packages/nisar/workflows/stage_dem.py -p /scratch/alex_eco_test/waxlakedelta/ALOS2/0000470239_001001_ALOS2427770580-220425.h5 -o /scratch/alex_eco_test/waxlakedelta/DEM/0000470239_001001_ALOS2427770580-220425.vrt\n",
      "\n",
      "conda run -n isce3_src /home/jovyan/isce3/python/packages/nisar/workflows/gcov.py /scratch/alex_eco_test/waxlakedelta/GCOV/0000470239_001001_ALOS2427770580-220425.yaml\n"
     ]
    },
    {
     "name": "stderr",
     "output_type": "stream",
     "text": [
      "WARNING: overwriting environment variables set in the machine\n",
      "overwriting variable {'LD_LIBRARY_PATH'}\n",
      "/home/jovyan/isce3/build/packages/nisar/workflows/h5_prep.py:207: UserWarning: swmr=True only affects read ('r') mode. For swmr write mode, set f.swmr_mode = True after opening the file.\n",
      "  h5py.File(output_hdf5, 'w', libver='latest', swmr=True) as dst_h5:\n",
      "/home/jovyan/isce3/build/packages/nisar/workflows/h5_prep.py:489: UserWarning: swmr=True only affects read ('r') mode. For swmr write mode, set f.swmr_mode = True after opening the file.\n",
      "  with h5py.File(output_hdf5, 'a', libver='latest', swmr=True) as dst_h5:\n",
      "/home/jovyan/isce3/python/packages/nisar/workflows/gcov.py:765: DeprecationWarning: `product` is deprecated as of NumPy 1.25.0, and will be removed in NumPy 2.0. Please use `prod` instead.\n",
      "  dset.attrs.create('_FillValue', data=np.nan)\n",
      "/home/jovyan/isce3/python/packages/nisar/workflows/gcov.py:769: DeprecationWarning: `product` is deprecated as of NumPy 1.25.0, and will be removed in NumPy 2.0. Please use `prod` instead.\n",
      "  dset.attrs.create('min_value', data=stats_obj.min)\n",
      "/home/jovyan/isce3/python/packages/nisar/workflows/gcov.py:770: DeprecationWarning: `product` is deprecated as of NumPy 1.25.0, and will be removed in NumPy 2.0. Please use `prod` instead.\n",
      "  dset.attrs.create('mean_value', data=stats_obj.mean)\n",
      "/home/jovyan/isce3/python/packages/nisar/workflows/gcov.py:771: DeprecationWarning: `product` is deprecated as of NumPy 1.25.0, and will be removed in NumPy 2.0. Please use `prod` instead.\n",
      "  dset.attrs.create('max_value', data=stats_obj.max)\n",
      "/home/jovyan/isce3/python/packages/nisar/workflows/gcov.py:772: DeprecationWarning: `product` is deprecated as of NumPy 1.25.0, and will be removed in NumPy 2.0. Please use `prod` instead.\n",
      "  dset.attrs.create('sample_standard_deviation', data=stats_obj.sample_stddev)\n",
      "/home/jovyan/isce3/python/packages/nisar/workflows/gcov.py:790: DeprecationWarning: `product` is deprecated as of NumPy 1.25.0, and will be removed in NumPy 2.0. Please use `prod` instead.\n",
      "  dset.attrs.create('valid_min', data=valid_min)\n",
      "/home/jovyan/isce3/python/packages/nisar/workflows/gcov.py:793: DeprecationWarning: `product` is deprecated as of NumPy 1.25.0, and will be removed in NumPy 2.0. Please use `prod` instead.\n",
      "  dset.attrs.create('valid_max', data=valid_max)\n",
      "\n"
     ]
    },
    {
     "name": "stdout",
     "output_type": "stream",
     "text": [
      "\n",
      "0000477810_001001_ALOS2444330580-220815\n",
      "\n",
      "conda run -n isce3_src /home/jovyan/isce3/python/packages/nisar/workflows/stage_dem.py -p /scratch/alex_eco_test/waxlakedelta/ALOS2/0000477810_001001_ALOS2444330580-220815.h5 -o /scratch/alex_eco_test/waxlakedelta/DEM/0000477810_001001_ALOS2444330580-220815.vrt\n",
      "\n",
      "conda run -n isce3_src /home/jovyan/isce3/python/packages/nisar/workflows/gcov.py /scratch/alex_eco_test/waxlakedelta/GCOV/0000477810_001001_ALOS2444330580-220815.yaml\n"
     ]
    },
    {
     "name": "stderr",
     "output_type": "stream",
     "text": [
      "WARNING: overwriting environment variables set in the machine\n",
      "overwriting variable {'LD_LIBRARY_PATH'}\n",
      "/home/jovyan/isce3/build/packages/nisar/workflows/h5_prep.py:207: UserWarning: swmr=True only affects read ('r') mode. For swmr write mode, set f.swmr_mode = True after opening the file.\n",
      "  h5py.File(output_hdf5, 'w', libver='latest', swmr=True) as dst_h5:\n",
      "/home/jovyan/isce3/build/packages/nisar/workflows/h5_prep.py:489: UserWarning: swmr=True only affects read ('r') mode. For swmr write mode, set f.swmr_mode = True after opening the file.\n",
      "  with h5py.File(output_hdf5, 'a', libver='latest', swmr=True) as dst_h5:\n",
      "/home/jovyan/isce3/python/packages/nisar/workflows/gcov.py:765: DeprecationWarning: `product` is deprecated as of NumPy 1.25.0, and will be removed in NumPy 2.0. Please use `prod` instead.\n",
      "  dset.attrs.create('_FillValue', data=np.nan)\n",
      "/home/jovyan/isce3/python/packages/nisar/workflows/gcov.py:769: DeprecationWarning: `product` is deprecated as of NumPy 1.25.0, and will be removed in NumPy 2.0. Please use `prod` instead.\n",
      "  dset.attrs.create('min_value', data=stats_obj.min)\n",
      "/home/jovyan/isce3/python/packages/nisar/workflows/gcov.py:770: DeprecationWarning: `product` is deprecated as of NumPy 1.25.0, and will be removed in NumPy 2.0. Please use `prod` instead.\n",
      "  dset.attrs.create('mean_value', data=stats_obj.mean)\n",
      "/home/jovyan/isce3/python/packages/nisar/workflows/gcov.py:771: DeprecationWarning: `product` is deprecated as of NumPy 1.25.0, and will be removed in NumPy 2.0. Please use `prod` instead.\n",
      "  dset.attrs.create('max_value', data=stats_obj.max)\n",
      "/home/jovyan/isce3/python/packages/nisar/workflows/gcov.py:772: DeprecationWarning: `product` is deprecated as of NumPy 1.25.0, and will be removed in NumPy 2.0. Please use `prod` instead.\n",
      "  dset.attrs.create('sample_standard_deviation', data=stats_obj.sample_stddev)\n",
      "/home/jovyan/isce3/python/packages/nisar/workflows/gcov.py:790: DeprecationWarning: `product` is deprecated as of NumPy 1.25.0, and will be removed in NumPy 2.0. Please use `prod` instead.\n",
      "  dset.attrs.create('valid_min', data=valid_min)\n",
      "/home/jovyan/isce3/python/packages/nisar/workflows/gcov.py:793: DeprecationWarning: `product` is deprecated as of NumPy 1.25.0, and will be removed in NumPy 2.0. Please use `prod` instead.\n",
      "  dset.attrs.create('valid_max', data=valid_max)\n",
      "\n"
     ]
    },
    {
     "name": "stdout",
     "output_type": "stream",
     "text": [
      "\n",
      "0000479846_001001_ALOS2446400580-220829\n",
      "\n",
      "conda run -n isce3_src /home/jovyan/isce3/python/packages/nisar/workflows/stage_dem.py -p /scratch/alex_eco_test/waxlakedelta/ALOS2/0000479846_001001_ALOS2446400580-220829.h5 -o /scratch/alex_eco_test/waxlakedelta/DEM/0000479846_001001_ALOS2446400580-220829.vrt\n",
      "\n",
      "conda run -n isce3_src /home/jovyan/isce3/python/packages/nisar/workflows/gcov.py /scratch/alex_eco_test/waxlakedelta/GCOV/0000479846_001001_ALOS2446400580-220829.yaml\n"
     ]
    },
    {
     "name": "stderr",
     "output_type": "stream",
     "text": [
      "WARNING: overwriting environment variables set in the machine\n",
      "overwriting variable {'LD_LIBRARY_PATH'}\n",
      "/home/jovyan/isce3/build/packages/nisar/workflows/h5_prep.py:207: UserWarning: swmr=True only affects read ('r') mode. For swmr write mode, set f.swmr_mode = True after opening the file.\n",
      "  h5py.File(output_hdf5, 'w', libver='latest', swmr=True) as dst_h5:\n",
      "/home/jovyan/isce3/build/packages/nisar/workflows/h5_prep.py:489: UserWarning: swmr=True only affects read ('r') mode. For swmr write mode, set f.swmr_mode = True after opening the file.\n",
      "  with h5py.File(output_hdf5, 'a', libver='latest', swmr=True) as dst_h5:\n",
      "/home/jovyan/isce3/python/packages/nisar/workflows/gcov.py:765: DeprecationWarning: `product` is deprecated as of NumPy 1.25.0, and will be removed in NumPy 2.0. Please use `prod` instead.\n",
      "  dset.attrs.create('_FillValue', data=np.nan)\n",
      "/home/jovyan/isce3/python/packages/nisar/workflows/gcov.py:769: DeprecationWarning: `product` is deprecated as of NumPy 1.25.0, and will be removed in NumPy 2.0. Please use `prod` instead.\n",
      "  dset.attrs.create('min_value', data=stats_obj.min)\n",
      "/home/jovyan/isce3/python/packages/nisar/workflows/gcov.py:770: DeprecationWarning: `product` is deprecated as of NumPy 1.25.0, and will be removed in NumPy 2.0. Please use `prod` instead.\n",
      "  dset.attrs.create('mean_value', data=stats_obj.mean)\n",
      "/home/jovyan/isce3/python/packages/nisar/workflows/gcov.py:771: DeprecationWarning: `product` is deprecated as of NumPy 1.25.0, and will be removed in NumPy 2.0. Please use `prod` instead.\n",
      "  dset.attrs.create('max_value', data=stats_obj.max)\n",
      "/home/jovyan/isce3/python/packages/nisar/workflows/gcov.py:772: DeprecationWarning: `product` is deprecated as of NumPy 1.25.0, and will be removed in NumPy 2.0. Please use `prod` instead.\n",
      "  dset.attrs.create('sample_standard_deviation', data=stats_obj.sample_stddev)\n",
      "/home/jovyan/isce3/python/packages/nisar/workflows/gcov.py:790: DeprecationWarning: `product` is deprecated as of NumPy 1.25.0, and will be removed in NumPy 2.0. Please use `prod` instead.\n",
      "  dset.attrs.create('valid_min', data=valid_min)\n",
      "/home/jovyan/isce3/python/packages/nisar/workflows/gcov.py:793: DeprecationWarning: `product` is deprecated as of NumPy 1.25.0, and will be removed in NumPy 2.0. Please use `prod` instead.\n",
      "  dset.attrs.create('valid_max', data=valid_max)\n",
      "\n"
     ]
    },
    {
     "name": "stdout",
     "output_type": "stream",
     "text": [
      "\n",
      "0000475404_001001_ALOS2442260580-220801\n",
      "\n",
      "conda run -n isce3_src /home/jovyan/isce3/python/packages/nisar/workflows/stage_dem.py -p /scratch/alex_eco_test/waxlakedelta/ALOS2/0000475404_001001_ALOS2442260580-220801.h5 -o /scratch/alex_eco_test/waxlakedelta/DEM/0000475404_001001_ALOS2442260580-220801.vrt\n",
      "\n",
      "conda run -n isce3_src /home/jovyan/isce3/python/packages/nisar/workflows/gcov.py /scratch/alex_eco_test/waxlakedelta/GCOV/0000475404_001001_ALOS2442260580-220801.yaml\n"
     ]
    },
    {
     "name": "stderr",
     "output_type": "stream",
     "text": [
      "WARNING: overwriting environment variables set in the machine\n",
      "overwriting variable {'LD_LIBRARY_PATH'}\n",
      "/home/jovyan/isce3/build/packages/nisar/workflows/h5_prep.py:207: UserWarning: swmr=True only affects read ('r') mode. For swmr write mode, set f.swmr_mode = True after opening the file.\n",
      "  h5py.File(output_hdf5, 'w', libver='latest', swmr=True) as dst_h5:\n",
      "/home/jovyan/isce3/build/packages/nisar/workflows/h5_prep.py:489: UserWarning: swmr=True only affects read ('r') mode. For swmr write mode, set f.swmr_mode = True after opening the file.\n",
      "  with h5py.File(output_hdf5, 'a', libver='latest', swmr=True) as dst_h5:\n",
      "/home/jovyan/isce3/python/packages/nisar/workflows/gcov.py:765: DeprecationWarning: `product` is deprecated as of NumPy 1.25.0, and will be removed in NumPy 2.0. Please use `prod` instead.\n",
      "  dset.attrs.create('_FillValue', data=np.nan)\n",
      "/home/jovyan/isce3/python/packages/nisar/workflows/gcov.py:769: DeprecationWarning: `product` is deprecated as of NumPy 1.25.0, and will be removed in NumPy 2.0. Please use `prod` instead.\n",
      "  dset.attrs.create('min_value', data=stats_obj.min)\n",
      "/home/jovyan/isce3/python/packages/nisar/workflows/gcov.py:770: DeprecationWarning: `product` is deprecated as of NumPy 1.25.0, and will be removed in NumPy 2.0. Please use `prod` instead.\n",
      "  dset.attrs.create('mean_value', data=stats_obj.mean)\n",
      "/home/jovyan/isce3/python/packages/nisar/workflows/gcov.py:771: DeprecationWarning: `product` is deprecated as of NumPy 1.25.0, and will be removed in NumPy 2.0. Please use `prod` instead.\n",
      "  dset.attrs.create('max_value', data=stats_obj.max)\n",
      "/home/jovyan/isce3/python/packages/nisar/workflows/gcov.py:772: DeprecationWarning: `product` is deprecated as of NumPy 1.25.0, and will be removed in NumPy 2.0. Please use `prod` instead.\n",
      "  dset.attrs.create('sample_standard_deviation', data=stats_obj.sample_stddev)\n",
      "/home/jovyan/isce3/python/packages/nisar/workflows/gcov.py:790: DeprecationWarning: `product` is deprecated as of NumPy 1.25.0, and will be removed in NumPy 2.0. Please use `prod` instead.\n",
      "  dset.attrs.create('valid_min', data=valid_min)\n",
      "/home/jovyan/isce3/python/packages/nisar/workflows/gcov.py:793: DeprecationWarning: `product` is deprecated as of NumPy 1.25.0, and will be removed in NumPy 2.0. Please use `prod` instead.\n",
      "  dset.attrs.create('valid_max', data=valid_max)\n",
      "\n"
     ]
    },
    {
     "name": "stdout",
     "output_type": "stream",
     "text": [
      "\n",
      "0000510737_001001_ALOS2481590580-230424\n",
      "\n",
      "conda run -n isce3_src /home/jovyan/isce3/python/packages/nisar/workflows/stage_dem.py -p /scratch/alex_eco_test/waxlakedelta/ALOS2/0000510737_001001_ALOS2481590580-230424.h5 -o /scratch/alex_eco_test/waxlakedelta/DEM/0000510737_001001_ALOS2481590580-230424.vrt\n",
      "\n",
      "conda run -n isce3_src /home/jovyan/isce3/python/packages/nisar/workflows/gcov.py /scratch/alex_eco_test/waxlakedelta/GCOV/0000510737_001001_ALOS2481590580-230424.yaml\n"
     ]
    },
    {
     "name": "stderr",
     "output_type": "stream",
     "text": [
      "WARNING: overwriting environment variables set in the machine\n",
      "overwriting variable {'LD_LIBRARY_PATH'}\n",
      "/home/jovyan/isce3/build/packages/nisar/workflows/h5_prep.py:207: UserWarning: swmr=True only affects read ('r') mode. For swmr write mode, set f.swmr_mode = True after opening the file.\n",
      "  h5py.File(output_hdf5, 'w', libver='latest', swmr=True) as dst_h5:\n",
      "/home/jovyan/isce3/build/packages/nisar/workflows/h5_prep.py:489: UserWarning: swmr=True only affects read ('r') mode. For swmr write mode, set f.swmr_mode = True after opening the file.\n",
      "  with h5py.File(output_hdf5, 'a', libver='latest', swmr=True) as dst_h5:\n",
      "/home/jovyan/isce3/python/packages/nisar/workflows/gcov.py:765: DeprecationWarning: `product` is deprecated as of NumPy 1.25.0, and will be removed in NumPy 2.0. Please use `prod` instead.\n",
      "  dset.attrs.create('_FillValue', data=np.nan)\n",
      "/home/jovyan/isce3/python/packages/nisar/workflows/gcov.py:769: DeprecationWarning: `product` is deprecated as of NumPy 1.25.0, and will be removed in NumPy 2.0. Please use `prod` instead.\n",
      "  dset.attrs.create('min_value', data=stats_obj.min)\n",
      "/home/jovyan/isce3/python/packages/nisar/workflows/gcov.py:770: DeprecationWarning: `product` is deprecated as of NumPy 1.25.0, and will be removed in NumPy 2.0. Please use `prod` instead.\n",
      "  dset.attrs.create('mean_value', data=stats_obj.mean)\n",
      "/home/jovyan/isce3/python/packages/nisar/workflows/gcov.py:771: DeprecationWarning: `product` is deprecated as of NumPy 1.25.0, and will be removed in NumPy 2.0. Please use `prod` instead.\n",
      "  dset.attrs.create('max_value', data=stats_obj.max)\n",
      "/home/jovyan/isce3/python/packages/nisar/workflows/gcov.py:772: DeprecationWarning: `product` is deprecated as of NumPy 1.25.0, and will be removed in NumPy 2.0. Please use `prod` instead.\n",
      "  dset.attrs.create('sample_standard_deviation', data=stats_obj.sample_stddev)\n",
      "/home/jovyan/isce3/python/packages/nisar/workflows/gcov.py:790: DeprecationWarning: `product` is deprecated as of NumPy 1.25.0, and will be removed in NumPy 2.0. Please use `prod` instead.\n",
      "  dset.attrs.create('valid_min', data=valid_min)\n",
      "/home/jovyan/isce3/python/packages/nisar/workflows/gcov.py:793: DeprecationWarning: `product` is deprecated as of NumPy 1.25.0, and will be removed in NumPy 2.0. Please use `prod` instead.\n",
      "  dset.attrs.create('valid_max', data=valid_max)\n",
      "\n"
     ]
    },
    {
     "name": "stdout",
     "output_type": "stream",
     "text": [
      "\n",
      "0000526924_001001_ALOS2498150580-230814\n",
      "\n",
      "conda run -n isce3_src /home/jovyan/isce3/python/packages/nisar/workflows/stage_dem.py -p /scratch/alex_eco_test/waxlakedelta/ALOS2/0000526924_001001_ALOS2498150580-230814.h5 -o /scratch/alex_eco_test/waxlakedelta/DEM/0000526924_001001_ALOS2498150580-230814.vrt\n",
      "\n",
      "conda run -n isce3_src /home/jovyan/isce3/python/packages/nisar/workflows/gcov.py /scratch/alex_eco_test/waxlakedelta/GCOV/0000526924_001001_ALOS2498150580-230814.yaml\n"
     ]
    },
    {
     "name": "stderr",
     "output_type": "stream",
     "text": [
      "WARNING: overwriting environment variables set in the machine\n",
      "overwriting variable {'LD_LIBRARY_PATH'}\n",
      "/home/jovyan/isce3/build/packages/nisar/workflows/h5_prep.py:207: UserWarning: swmr=True only affects read ('r') mode. For swmr write mode, set f.swmr_mode = True after opening the file.\n",
      "  h5py.File(output_hdf5, 'w', libver='latest', swmr=True) as dst_h5:\n",
      "/home/jovyan/isce3/build/packages/nisar/workflows/h5_prep.py:489: UserWarning: swmr=True only affects read ('r') mode. For swmr write mode, set f.swmr_mode = True after opening the file.\n",
      "  with h5py.File(output_hdf5, 'a', libver='latest', swmr=True) as dst_h5:\n",
      "/home/jovyan/isce3/python/packages/nisar/workflows/gcov.py:765: DeprecationWarning: `product` is deprecated as of NumPy 1.25.0, and will be removed in NumPy 2.0. Please use `prod` instead.\n",
      "  dset.attrs.create('_FillValue', data=np.nan)\n",
      "/home/jovyan/isce3/python/packages/nisar/workflows/gcov.py:769: DeprecationWarning: `product` is deprecated as of NumPy 1.25.0, and will be removed in NumPy 2.0. Please use `prod` instead.\n",
      "  dset.attrs.create('min_value', data=stats_obj.min)\n",
      "/home/jovyan/isce3/python/packages/nisar/workflows/gcov.py:770: DeprecationWarning: `product` is deprecated as of NumPy 1.25.0, and will be removed in NumPy 2.0. Please use `prod` instead.\n",
      "  dset.attrs.create('mean_value', data=stats_obj.mean)\n",
      "/home/jovyan/isce3/python/packages/nisar/workflows/gcov.py:771: DeprecationWarning: `product` is deprecated as of NumPy 1.25.0, and will be removed in NumPy 2.0. Please use `prod` instead.\n",
      "  dset.attrs.create('max_value', data=stats_obj.max)\n",
      "/home/jovyan/isce3/python/packages/nisar/workflows/gcov.py:772: DeprecationWarning: `product` is deprecated as of NumPy 1.25.0, and will be removed in NumPy 2.0. Please use `prod` instead.\n",
      "  dset.attrs.create('sample_standard_deviation', data=stats_obj.sample_stddev)\n",
      "/home/jovyan/isce3/python/packages/nisar/workflows/gcov.py:790: DeprecationWarning: `product` is deprecated as of NumPy 1.25.0, and will be removed in NumPy 2.0. Please use `prod` instead.\n",
      "  dset.attrs.create('valid_min', data=valid_min)\n",
      "/home/jovyan/isce3/python/packages/nisar/workflows/gcov.py:793: DeprecationWarning: `product` is deprecated as of NumPy 1.25.0, and will be removed in NumPy 2.0. Please use `prod` instead.\n",
      "  dset.attrs.create('valid_max', data=valid_max)\n",
      "\n"
     ]
    }
   ],
   "source": [
    "for ALOS2_RSLC in ALOS2_RSLCs[:]:\n",
    "    ALOS2_id = ALOS2_RSLC.split('/')[-1][:-3]\n",
    "    print('')\n",
    "    print(ALOS2_id)\n",
    "\n",
    "  \n",
    "    ## NISAR RSLC --> NISAR GCOV\n",
    "    filein = open('gcov_template.yaml')\n",
    "    template = Template(filein.read())\n",
    "    replacements = {'inputfile':  f\"{ALOS2_dir/ALOS2_id}.h5\",\n",
    "                    'outputfile':  f\"{GCOV_dir/ALOS2_id}_gcov_utm.h5\",\n",
    "                    'demfile': f\"{DEM_dir/ALOS2_id}.vrt\",\n",
    "                    'tmp': f\"{TMP_dir}/\",\n",
    "                    'epsg': 32615,\n",
    "                    'xposting': 20,\n",
    "                    'yposting': 20,\n",
    "                    }\n",
    "    makeoutput = template.substitute(replacements)\n",
    "    file = open('%s/%s.yaml' %(GCOV_dir,ALOS2_id),'w')\n",
    "    file.write(makeoutput)\n",
    "    file.close()\n",
    "    filein.close()\n",
    "\n",
    "    command = f\"conda run -n isce3_src /home/jovyan/isce3/python/packages/nisar/workflows/gcov.py {GCOV_dir/ALOS2_id}.yaml\"\n",
    "    print('')\n",
    "    print(command)\n",
    "    if os.path.isfile(f\"{GCOV_dir/ALOS2_id}_gcov_utm.h5\")==False:\n",
    "        output = subprocess.check_output(command, shell=True)\n"
   ]
  },
  {
   "cell_type": "markdown",
   "id": "a5a797e8-7d3b-41c3-b8f7-3fe9eb3075ca",
   "metadata": {},
   "source": [
    "See final list of NISAR GCOV data files"
   ]
  },
  {
   "cell_type": "code",
   "execution_count": null,
   "id": "c7165d81-6957-4e14-b953-99943bda4232",
   "metadata": {
    "tags": []
   },
   "outputs": [],
   "source": [
    "NISAR_GCOVs = [os.path.join(dirpath,f)\n",
    "                for dirpath,dirnames, files in os.walk(GCOV_dir)\n",
    "                for f in fnmatch.filter(files,'*.h5')]\n",
    "NISAR_GCOVs"
   ]
  },
  {
   "cell_type": "code",
   "execution_count": null,
   "id": "4358256b-bb79-4fcc-91a7-160fda690c78",
   "metadata": {
    "tags": []
   },
   "outputs": [],
   "source": [
    "## Command line option\n",
    "\n",
    "######## ALOS2 SLC to NISAR RSLC\n",
    "# for f in /scratch/alex_eco_test/ALOS2/southfork/*/; \n",
    "# do python /home/jovyan/isce3/share/nisar/examples/alos2_to_nisar_l1.py -i $f -o \"${f%.*}\".h5; \n",
    "# done\n",
    "\n",
    "######## Get NISAR DEM\n",
    "# for f in /scratch/alex_eco_test/ALOS2/southfork/rslc/*; \n",
    "# do python /home/jovyan/isce3/python/packages/nisar/workflows/stage_dem.py -p $f -o \"${f%.*}\".vrt; \n",
    "# done\n",
    "\n",
    "######## NISAR RSLC to NISAR GCOV\n",
    "# for f in /scratch/alex_eco_test/ALOS2/southfork/rslc/*.yaml; \n",
    "# do python /home/jovyan/isce3/python/packages/nisar/workflows/gcov.py $f; \n",
    "# done"
   ]
  },
  {
   "cell_type": "code",
   "execution_count": null,
   "id": "32e82b57-c843-4a2c-824a-ec49efa886d0",
   "metadata": {
    "tags": []
   },
   "outputs": [],
   "source": []
  },
  {
   "cell_type": "code",
   "execution_count": null,
   "id": "0c108fbb-f050-4a35-9db5-d66e86cb8461",
   "metadata": {
    "tags": []
   },
   "outputs": [],
   "source": []
  },
  {
   "cell_type": "code",
   "execution_count": null,
   "id": "c82dd33e-745b-4180-9795-6707b3ab9f32",
   "metadata": {
    "tags": []
   },
   "outputs": [],
   "source": []
  },
  {
   "cell_type": "code",
   "execution_count": null,
   "id": "d3a4d4f9-6638-4e50-9cb2-c0527bb23980",
   "metadata": {},
   "outputs": [],
   "source": []
  }
 ],
 "metadata": {
  "kernelspec": {
   "display_name": "isce3_src",
   "language": "python",
   "name": "isce3_src"
  },
  "language_info": {
   "codemirror_mode": {
    "name": "ipython",
    "version": 3
   },
   "file_extension": ".py",
   "mimetype": "text/x-python",
   "name": "python",
   "nbconvert_exporter": "python",
   "pygments_lexer": "ipython3",
   "version": "3.9.17"
  }
 },
 "nbformat": 4,
 "nbformat_minor": 5
}
